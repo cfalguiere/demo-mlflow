{
 "cells": [
  {
   "cell_type": "markdown",
   "metadata": {},
   "source": [
    "# Demo Wine sans MLflow"
   ]
  },
  {
   "cell_type": "code",
   "execution_count": 17,
   "metadata": {},
   "outputs": [],
   "source": [
    "import warnings\n",
    "import logging\n",
    "logging.basicConfig(level=logging.WARN)\n",
    "logger = logging.getLogger(__name__)\n",
    "\n",
    "import numpy as np\n",
    "warnings.filterwarnings(\"ignore\")\n",
    "np.random.seed(40)\n"
   ]
  },
  {
   "cell_type": "code",
   "execution_count": 18,
   "metadata": {},
   "outputs": [],
   "source": [
    "import pandas as pd \n",
    "\n",
    "# read data from file\n",
    "df = pd.read_csv(\"wine-quality.csv\")"
   ]
  },
  {
   "cell_type": "code",
   "execution_count": 19,
   "metadata": {},
   "outputs": [],
   "source": [
    "from sklearn.model_selection import train_test_split\n",
    "# Split the data into training and test sets. (0.75, 0.25) split.\n",
    "train, test = train_test_split(df)\n",
    "\n",
    "# The predicted column is \"quality\" which is a scalar from [3, 9]\n",
    "train_x = train.drop([\"quality\"], axis=1)\n",
    "test_x = test.drop([\"quality\"], axis=1)\n",
    "train_y = train[[\"quality\"]]\n",
    "test_y = test[[\"quality\"]]\n",
    "\n",
    "# make it easy to pass datasets\n",
    "datasets = { 'train_x': train_x, 'train_y': train_y, 'test_x': test_x, 'test_y': test_y }"
   ]
  },
  {
   "cell_type": "code",
   "execution_count": 30,
   "metadata": {},
   "outputs": [
    {
     "name": "stdout",
     "output_type": "stream",
     "text": [
      "['train_x : (3673, 11)', 'train_y : (3673, 1)', 'test_x : (1225, 11)', 'test_y : (1225, 1)']\n"
     ]
    }
   ],
   "source": [
    "shapes = [ \"%s : %s\" % (name, dataset.shape) for (name,dataset) in datasets.items() ]\n",
    "print(shapes)"
   ]
  },
  {
   "cell_type": "code",
   "execution_count": 31,
   "metadata": {},
   "outputs": [],
   "source": [
    "def eval_parameters(in_alpha, in_l1_ratio):\n",
    "    # Set default values if no alpha is provided\n",
    "    alpha = float(in_alpha) if not in_alpha is None else 0.5\n",
    "    # Set default values if no l1_ratio is provided\n",
    "    l1_ratio = float(in_l1_ratio) if not in_l1_ratio is None else 0.5\n",
    "    return alpha, l1_ratio"
   ]
  },
  {
   "cell_type": "code",
   "execution_count": 32,
   "metadata": {},
   "outputs": [],
   "source": [
    "def eval_metrics(actual, predicted):\n",
    "    from sklearn.metrics import mean_squared_error, mean_absolute_error, r2_score\n",
    "    rmse = np.sqrt(mean_squared_error(actual, predicted))\n",
    "    mae = mean_absolute_error(actual, predicted)\n",
    "    r2 = r2_score(actual, predicted)\n",
    "    return rmse, mae, r2\n"
   ]
  },
  {
   "cell_type": "code",
   "execution_count": 33,
   "metadata": {},
   "outputs": [],
   "source": [
    "def train_elasticnet(in_alpha, in_l1_ratio):\n",
    "    from sklearn.linear_model import ElasticNet\n",
    "\n",
    "    alpha, l1_ratio = eval_parameters(in_alpha, in_l1_ratio)\n",
    "    print(\"Parameters (alpha=%f, l1_ratio=%f):\" % (alpha, l1_ratio))\n",
    "    \n",
    "    # train with ElasticNet\n",
    "    lr = ElasticNet(alpha=alpha, l1_ratio=l1_ratio, random_state=42)\n",
    "    lr.fit(train_x, train_y)\n",
    "\n",
    "    # Evaluate Metrics\n",
    "    predicted_qualities = lr.predict(test_x)\n",
    "    (rmse, mae, r2) = eval_metrics(test_y, predicted_qualities)\n",
    "\n",
    "    # Print out metrics\n",
    "    print(\"Elasticnet model (alpha=%f, l1_ratio=%f):\" % (alpha, l1_ratio))\n",
    "    print(\"  RMSE: %s\" % rmse)\n",
    "    print(\"  MAE: %s\" % mae)\n",
    "    print(\"  R2: %s\" % r2)\n",
    "\n",
    "    return rmse"
   ]
  },
  {
   "cell_type": "code",
   "execution_count": 34,
   "metadata": {},
   "outputs": [
    {
     "name": "stdout",
     "output_type": "stream",
     "text": [
      "Parameters (alpha=0.500000, l1_ratio=0.500000):\n",
      "Elasticnet model (alpha=0.500000, l1_ratio=0.500000):\n",
      "  RMSE: 0.82224284975954\n",
      "  MAE: 0.6278761410160693\n",
      "  R2: 0.12678721972772689\n"
     ]
    },
    {
     "data": {
      "text/plain": [
       "0.82224284975954"
      ]
     },
     "execution_count": 34,
     "metadata": {},
     "output_type": "execute_result"
    }
   ],
   "source": [
    "train_elasticnet(0.5, 0.5) # alpha 0.5, L1 0.5"
   ]
  },
  {
   "cell_type": "code",
   "execution_count": 35,
   "metadata": {},
   "outputs": [
    {
     "name": "stdout",
     "output_type": "stream",
     "text": [
      "Parameters (alpha=0.500000, l1_ratio=0.400000):\n",
      "Elasticnet model (alpha=0.500000, l1_ratio=0.400000):\n",
      "  RMSE: 0.8134651568415164\n",
      "  MAE: 0.6249674191990106\n",
      "  R2: 0.1453313314484228\n"
     ]
    },
    {
     "data": {
      "text/plain": [
       "0.8134651568415164"
      ]
     },
     "execution_count": 35,
     "metadata": {},
     "output_type": "execute_result"
    }
   ],
   "source": [
    "train_elasticnet(0.5, 0.4)"
   ]
  },
  {
   "cell_type": "code",
   "execution_count": 36,
   "metadata": {},
   "outputs": [
    {
     "name": "stdout",
     "output_type": "stream",
     "text": [
      "Parameters (alpha=0.400000, l1_ratio=0.400000):\n",
      "Elasticnet model (alpha=0.400000, l1_ratio=0.400000):\n",
      "  RMSE: 0.8052999730885096\n",
      "  MAE: 0.6225920385560693\n",
      "  R2: 0.16240275256684844\n"
     ]
    },
    {
     "data": {
      "text/plain": [
       "0.8052999730885096"
      ]
     },
     "execution_count": 36,
     "metadata": {},
     "output_type": "execute_result"
    }
   ],
   "source": [
    "train_elasticnet(0.4, 0.4)"
   ]
  },
  {
   "cell_type": "code",
   "execution_count": null,
   "metadata": {},
   "outputs": [],
   "source": []
  }
 ],
 "metadata": {
  "kernelspec": {
   "display_name": "Python 3",
   "language": "python",
   "name": "python3"
  },
  "language_info": {
   "codemirror_mode": {
    "name": "ipython",
    "version": 3
   },
   "file_extension": ".py",
   "mimetype": "text/x-python",
   "name": "python",
   "nbconvert_exporter": "python",
   "pygments_lexer": "ipython3",
   "version": "3.7.3"
  }
 },
 "nbformat": 4,
 "nbformat_minor": 2
}
