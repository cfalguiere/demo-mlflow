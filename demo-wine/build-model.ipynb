{
 "cells": [
  {
   "cell_type": "code",
   "execution_count": 3,
   "metadata": {},
   "outputs": [],
   "source": [
    "import warnings\n",
    "import logging\n",
    "logging.basicConfig(level=logging.WARN)\n",
    "logger = logging.getLogger(__name__)\n",
    "\n",
    "import numpy as np\n",
    "warnings.filterwarnings(\"ignore\")\n",
    "np.random.seed(40)\n",
    "\n",
    "import mlflow\n",
    "import mlflow.sklearn\n"
   ]
  },
  {
   "cell_type": "code",
   "execution_count": 4,
   "metadata": {},
   "outputs": [],
   "source": [
    "import pandas as pd \n",
    "\n",
    "# read data from file\n",
    "df = pd.read_csv(\"wine-quality.csv\")"
   ]
  },
  {
   "cell_type": "code",
   "execution_count": 30,
   "metadata": {},
   "outputs": [],
   "source": [
    "from sklearn.model_selection import train_test_split\n",
    "# Split the data into training and test sets. (0.75, 0.25) split.\n",
    "train, test = train_test_split(df)\n",
    "\n",
    "# The predicted column is \"quality\" which is a scalar from [3, 9]\n",
    "train_x = train.drop([\"quality\"], axis=1)\n",
    "test_x = test.drop([\"quality\"], axis=1)\n",
    "train_y = train[[\"quality\"]]\n",
    "test_y = test[[\"quality\"]]\n",
    "\n",
    "# make it easy to pass datasets\n",
    "datasets = { 'train_x': train_x, 'train_y': train_y, 'test_x': test_x, 'test_y': test_y }"
   ]
  },
  {
   "cell_type": "code",
   "execution_count": 34,
   "metadata": {},
   "outputs": [],
   "source": [
    "def eval_metrics(actual, predicted):\n",
    "    from sklearn.metrics import mean_squared_error, mean_absolute_error, r2_score\n",
    "    rmse = np.sqrt(mean_squared_error(actual, predicted))\n",
    "    mae = mean_absolute_error(actual, predicted)\n",
    "    r2 = r2_score(actual, predicted)\n",
    "    return rmse, mae, r2\n"
   ]
  },
  {
   "cell_type": "code",
   "execution_count": 44,
   "metadata": {},
   "outputs": [],
   "source": [
    "def train_elasticnet(in_alpha, in_l1_ratio):\n",
    "    from sklearn.linear_model import ElasticNet\n",
    "\n",
    "    def eval_parameters(in_alpha, in_l1_ratio):\n",
    "        # Set default values if no alpha is provided\n",
    "        alpha = float(in_alpha) if not in_alpha is None else 0.5\n",
    "        # Set default values if no l1_ratio is provided\n",
    "        l1_ratio = float(in_l1_ratio) if not in_l1_ratio is None else 0.5\n",
    "        return alpha, l1_ratio\n",
    " \n",
    "    alpha, l1_ratio = eval_parameters(in_alpha, in_l1_ratio)\n",
    "    print(\"Parameters (alpha=%f, l1_ratio=%f):\" % (alpha, l1_ratio))\n",
    "    \n",
    "    with mlflow.start_run():\n",
    "        # train with ElasticNet\n",
    "        lr = ElasticNet(alpha=alpha, l1_ratio=l1_ratio, random_state=42)\n",
    "        lr.fit(train_x, train_y)\n",
    "\n",
    "        # Evaluate Metrics\n",
    "        predicted_qualities = lr.predict(test_x)\n",
    "        (rmse, mae, r2) = eval_metrics(test_y, predicted_qualities)\n",
    "\n",
    "        # Print out metrics\n",
    "        print(\"Elasticnet model (alpha=%f, l1_ratio=%f):\" % (alpha, l1_ratio))\n",
    "        print(\"  RMSE: %s\" % rmse)\n",
    "        print(\"  MAE: %s\" % mae)\n",
    "        print(\"  R2: %s\" % r2)\n",
    "\n",
    "        # Log parameter, metrics, and model to MLflow\n",
    "        mlflow.log_param(\"alpha\", alpha)\n",
    "        mlflow.log_param(\"l1_ratio\", l1_ratio)\n",
    "        mlflow.log_metric(\"rmse\", rmse)\n",
    "        mlflow.log_metric(\"mae\", mae)\n",
    "        mlflow.log_metric(\"r2\", r2)\n",
    "\n",
    "        # store model\n",
    "        mlflow.sklearn.log_model(lr, \"model\")\n",
    "        \n",
    "        return rmse"
   ]
  },
  {
   "cell_type": "code",
   "execution_count": 45,
   "metadata": {},
   "outputs": [
    {
     "name": "stdout",
     "output_type": "stream",
     "text": [
      "Parameters (alpha=0.500000, l1_ratio=0.500000):\n",
      "Elasticnet model (alpha=0.500000, l1_ratio=0.500000):\n",
      "  RMSE: 0.8249202019006774\n",
      "  MAE: 0.6263468839922693\n",
      "  R2: 0.1294309415517565\n"
     ]
    },
    {
     "data": {
      "text/plain": [
       "0.8249202019006774"
      ]
     },
     "execution_count": 45,
     "metadata": {},
     "output_type": "execute_result"
    }
   ],
   "source": [
    "train_elasticnet(0.5, 0.5)"
   ]
  },
  {
   "cell_type": "code",
   "execution_count": 46,
   "metadata": {},
   "outputs": [
    {
     "name": "stdout",
     "output_type": "stream",
     "text": [
      "Parameters (alpha=0.500000, l1_ratio=0.400000):\n",
      "Elasticnet model (alpha=0.500000, l1_ratio=0.400000):\n",
      "  RMSE: 0.8157309265057607\n",
      "  MAE: 0.6220007658217043\n",
      "  R2: 0.1487184823372092\n"
     ]
    },
    {
     "data": {
      "text/plain": [
       "0.8157309265057607"
      ]
     },
     "execution_count": 46,
     "metadata": {},
     "output_type": "execute_result"
    }
   ],
   "source": [
    "train_elasticnet(0.5, 0.4)"
   ]
  },
  {
   "cell_type": "code",
   "execution_count": 47,
   "metadata": {},
   "outputs": [
    {
     "name": "stdout",
     "output_type": "stream",
     "text": [
      "Parameters (alpha=0.400000, l1_ratio=0.400000):\n",
      "Elasticnet model (alpha=0.400000, l1_ratio=0.400000):\n",
      "  RMSE: 0.8070312918940539\n",
      "  MAE: 0.6180481283339012\n",
      "  R2: 0.16677921020746322\n"
     ]
    },
    {
     "data": {
      "text/plain": [
       "0.8070312918940539"
      ]
     },
     "execution_count": 47,
     "metadata": {},
     "output_type": "execute_result"
    }
   ],
   "source": [
    "train_elasticnet(0.4, 0.4)"
   ]
  },
  {
   "cell_type": "code",
   "execution_count": 42,
   "metadata": {},
   "outputs": [
    {
     "name": "stdout",
     "output_type": "stream",
     "text": [
      "Collecting optuna\n",
      "\u001b[?25l  Downloading https://files.pythonhosted.org/packages/81/4c/88314362b06b1bced025a2cb46b488849835f52170dc6ac8a4562654de39/optuna-0.17.1.tar.gz (107kB)\n",
      "\u001b[K     |████████████████████████████████| 112kB 45.1MB/s eta 0:00:01\n",
      "\u001b[?25hRequirement already satisfied: alembic in /opt/miniconda/envs/demo/lib/python3.7/site-packages (from optuna) (1.2.1)\n",
      "Collecting cliff\n",
      "\u001b[?25l  Downloading https://files.pythonhosted.org/packages/f6/a9/e976ba91e57043c4b6add2c394e6d1ffc26712c694379c3fe72f942d2440/cliff-2.16.0-py2.py3-none-any.whl (78kB)\n",
      "\u001b[K     |████████████████████████████████| 81kB 15.4MB/s eta 0:00:01\n",
      "\u001b[?25hCollecting colorlog\n",
      "  Downloading https://files.pythonhosted.org/packages/68/4d/892728b0c14547224f0ac40884e722a3d00cb54e7a146aea0b3186806c9e/colorlog-4.0.2-py2.py3-none-any.whl\n",
      "Requirement already satisfied: numpy in /opt/miniconda/envs/demo/lib/python3.7/site-packages (from optuna) (1.17.3)\n",
      "Requirement already satisfied: scipy in /opt/miniconda/envs/demo/lib/python3.7/site-packages (from optuna) (1.3.1)\n",
      "Requirement already satisfied: six in /opt/miniconda/envs/demo/lib/python3.7/site-packages (from optuna) (1.12.0)\n",
      "Requirement already satisfied: sqlalchemy>=1.1.0 in /opt/miniconda/envs/demo/lib/python3.7/site-packages (from optuna) (1.3.10)\n",
      "Collecting typing\n",
      "  Downloading https://files.pythonhosted.org/packages/fe/2e/b480ee1b75e6d17d2993738670e75c1feeb9ff7f64452153cf018051cc92/typing-3.7.4.1-py3-none-any.whl\n",
      "Requirement already satisfied: python-dateutil in /opt/miniconda/envs/demo/lib/python3.7/site-packages (from alembic->optuna) (2.8.0)\n",
      "Requirement already satisfied: Mako in /opt/miniconda/envs/demo/lib/python3.7/site-packages (from alembic->optuna) (1.1.0)\n",
      "Requirement already satisfied: python-editor>=0.3 in /opt/miniconda/envs/demo/lib/python3.7/site-packages (from alembic->optuna) (1.0.4)\n",
      "Requirement already satisfied: PyYAML>=3.12 in /opt/miniconda/envs/demo/lib/python3.7/site-packages (from cliff->optuna) (5.1.2)\n",
      "Requirement already satisfied: pyparsing>=2.1.0 in /opt/miniconda/envs/demo/lib/python3.7/site-packages (from cliff->optuna) (2.4.2)\n",
      "Collecting pbr!=2.1.0,>=2.0.0\n",
      "\u001b[?25l  Downloading https://files.pythonhosted.org/packages/46/a4/d5c83831a3452713e4b4f126149bc4fbda170f7cb16a86a00ce57ce0e9ad/pbr-5.4.3-py2.py3-none-any.whl (110kB)\n",
      "\u001b[K     |████████████████████████████████| 112kB 49.5MB/s eta 0:00:01\n",
      "\u001b[?25hCollecting cmd2!=0.8.3,<0.9.0,>=0.8.0\n",
      "\u001b[?25l  Downloading https://files.pythonhosted.org/packages/e9/40/a71caa2aaff10c73612a7106e2d35f693e85b8cf6e37ab0774274bca3cf9/cmd2-0.8.9-py2.py3-none-any.whl (53kB)\n",
      "\u001b[K     |████████████████████████████████| 61kB 12.9MB/s eta 0:00:01\n",
      "\u001b[?25hCollecting stevedore>=1.20.0\n",
      "\u001b[?25l  Downloading https://files.pythonhosted.org/packages/b1/e1/f5ddbd83f60b03f522f173c03e406c1bff8343f0232a292ac96aa633b47a/stevedore-1.31.0-py2.py3-none-any.whl (43kB)\n",
      "\u001b[K     |████████████████████████████████| 51kB 10.2MB/s eta 0:00:01\n",
      "\u001b[?25hCollecting PrettyTable<0.8,>=0.7.2\n",
      "  Downloading https://files.pythonhosted.org/packages/ef/30/4b0746848746ed5941f052479e7c23d2b56d174b82f4fd34a25e389831f5/prettytable-0.7.2.tar.bz2\n",
      "Requirement already satisfied: MarkupSafe>=0.9.2 in /opt/miniconda/envs/demo/lib/python3.7/site-packages (from Mako->alembic->optuna) (1.1.1)\n",
      "Requirement already satisfied: wcwidth; sys_platform != \"win32\" in /opt/miniconda/envs/demo/lib/python3.7/site-packages (from cmd2!=0.8.3,<0.9.0,>=0.8.0->cliff->optuna) (0.1.7)\n",
      "Collecting pyperclip\n",
      "  Downloading https://files.pythonhosted.org/packages/2d/0f/4eda562dffd085945d57c2d9a5da745cfb5228c02bc90f2c74bbac746243/pyperclip-1.7.0.tar.gz\n",
      "Building wheels for collected packages: optuna, PrettyTable, pyperclip\n",
      "  Building wheel for optuna (setup.py) ... \u001b[?25ldone\n",
      "\u001b[?25h  Created wheel for optuna: filename=optuna-0.17.1-cp37-none-any.whl size=144909 sha256=1d6ddb114c1f18a8b99149cfea08e53fbf70e83d0803b1dc7e4dd78e48a9a215\n",
      "  Stored in directory: /home/ubuntu/.cache/pip/wheels/11/88/8a/f490ae6d6bea4398e52b38d122f46fa9287d14c0a3cf6ba728\n",
      "  Building wheel for PrettyTable (setup.py) ... \u001b[?25ldone\n",
      "\u001b[?25h  Created wheel for PrettyTable: filename=prettytable-0.7.2-cp37-none-any.whl size=13700 sha256=0adc8564597c8db7df1510569b732d09106ce23fe023a66a6011e44569431757\n",
      "  Stored in directory: /home/ubuntu/.cache/pip/wheels/80/34/1c/3967380d9676d162cb59513bd9dc862d0584e045a162095606\n",
      "  Building wheel for pyperclip (setup.py) ... \u001b[?25ldone\n",
      "\u001b[?25h  Created wheel for pyperclip: filename=pyperclip-1.7.0-cp37-none-any.whl size=8359 sha256=4d7f1cc501b92c4a54774b8669d82712244a6845a816af5f1e9f8e0d62eb8fa4\n",
      "  Stored in directory: /home/ubuntu/.cache/pip/wheels/92/f0/ac/2ba2972034e98971c3654ece337ac61e546bdeb34ca960dc8c\n",
      "Successfully built optuna PrettyTable pyperclip\n",
      "Installing collected packages: pbr, pyperclip, cmd2, stevedore, PrettyTable, cliff, colorlog, typing, optuna\n",
      "Successfully installed PrettyTable-0.7.2 cliff-2.16.0 cmd2-0.8.9 colorlog-4.0.2 optuna-0.17.1 pbr-5.4.3 pyperclip-1.7.0 stevedore-1.31.0 typing-3.7.4.1\n"
     ]
    }
   ],
   "source": [
    "!pip install optuna"
   ]
  },
  {
   "cell_type": "code",
   "execution_count": 52,
   "metadata": {},
   "outputs": [
    {
     "name": "stdout",
     "output_type": "stream",
     "text": [
      "Parameters (alpha=0.254045, l1_ratio=0.473723):\n",
      "Elasticnet model (alpha=0.254045, l1_ratio=0.473723):\n",
      "  RMSE: 0.7968764774625045\n",
      "  MAE: 0.6137436021901664\n",
      "  R2: 0.18761599620559655\n"
     ]
    },
    {
     "name": "stderr",
     "output_type": "stream",
     "text": [
      "[I 2019-10-27 22:57:11,409] Finished trial#0 resulted in value: 0.7968764774625045. Current best value is 0.7968764774625045 with parameters: {'alpha': 0.2540445179937741, 'l1_ratio': 0.4737226705341375}.\n"
     ]
    },
    {
     "name": "stdout",
     "output_type": "stream",
     "text": [
      "Parameters (alpha=0.289524, l1_ratio=0.527144):\n",
      "Elasticnet model (alpha=0.289524, l1_ratio=0.527144):\n",
      "  RMSE: 0.8028698118269084\n",
      "  MAE: 0.6162333376728204\n",
      "  R2: 0.17535010897514758\n"
     ]
    },
    {
     "name": "stderr",
     "output_type": "stream",
     "text": [
      "[I 2019-10-27 22:57:11,609] Finished trial#1 resulted in value: 0.8028698118269084. Current best value is 0.7968764774625045 with parameters: {'alpha': 0.2540445179937741, 'l1_ratio': 0.4737226705341375}.\n"
     ]
    },
    {
     "name": "stdout",
     "output_type": "stream",
     "text": [
      "Parameters (alpha=0.471290, l1_ratio=0.488196):\n",
      "Elasticnet model (alpha=0.471290, l1_ratio=0.488196):\n",
      "  RMSE: 0.8203965494890564\n",
      "  MAE: 0.6241973999577919\n",
      "  R2: 0.13895272050831542\n"
     ]
    },
    {
     "name": "stderr",
     "output_type": "stream",
     "text": [
      "[I 2019-10-27 22:57:11,803] Finished trial#2 resulted in value: 0.8203965494890564. Current best value is 0.7968764774625045 with parameters: {'alpha': 0.2540445179937741, 'l1_ratio': 0.4737226705341375}.\n"
     ]
    },
    {
     "name": "stdout",
     "output_type": "stream",
     "text": [
      "Parameters (alpha=0.603936, l1_ratio=0.491169):\n",
      "Elasticnet model (alpha=0.603936, l1_ratio=0.491169):\n",
      "  RMSE: 0.8368230349346427\n",
      "  MAE: 0.632597535499649\n",
      "  R2: 0.10412668336134223\n"
     ]
    },
    {
     "name": "stderr",
     "output_type": "stream",
     "text": [
      "[I 2019-10-27 22:57:12,019] Finished trial#3 resulted in value: 0.8368230349346427. Current best value is 0.7968764774625045 with parameters: {'alpha': 0.2540445179937741, 'l1_ratio': 0.4737226705341375}.\n"
     ]
    },
    {
     "name": "stdout",
     "output_type": "stream",
     "text": [
      "Parameters (alpha=0.752849, l1_ratio=0.368494):\n",
      "Elasticnet model (alpha=0.752849, l1_ratio=0.368494):\n",
      "  RMSE: 0.834887239729483\n",
      "  MAE: 0.6315574645881341\n",
      "  R2: 0.10826667791935518\n"
     ]
    },
    {
     "name": "stderr",
     "output_type": "stream",
     "text": [
      "[I 2019-10-27 22:57:12,214] Finished trial#4 resulted in value: 0.834887239729483. Current best value is 0.7968764774625045 with parameters: {'alpha': 0.2540445179937741, 'l1_ratio': 0.4737226705341375}.\n"
     ]
    },
    {
     "name": "stdout",
     "output_type": "stream",
     "text": [
      "Parameters (alpha=0.653827, l1_ratio=0.783791):\n",
      "Elasticnet model (alpha=0.653827, l1_ratio=0.783791):\n",
      "  RMSE: 0.8623254309880983\n",
      "  MAE: 0.6497679114565024\n",
      "  R2: 0.04869071189997598\n"
     ]
    },
    {
     "name": "stderr",
     "output_type": "stream",
     "text": [
      "[I 2019-10-27 22:57:12,413] Finished trial#5 resulted in value: 0.8623254309880983. Current best value is 0.7968764774625045 with parameters: {'alpha': 0.2540445179937741, 'l1_ratio': 0.4737226705341375}.\n"
     ]
    },
    {
     "name": "stdout",
     "output_type": "stream",
     "text": [
      "Parameters (alpha=0.549711, l1_ratio=0.788128):\n",
      "Elasticnet model (alpha=0.549711, l1_ratio=0.788128):\n",
      "  RMSE: 0.8620183765040624\n",
      "  MAE: 0.6501089366697924\n",
      "  R2: 0.049368070508136186\n"
     ]
    },
    {
     "name": "stderr",
     "output_type": "stream",
     "text": [
      "[I 2019-10-27 22:57:12,606] Finished trial#6 resulted in value: 0.8620183765040624. Current best value is 0.7968764774625045 with parameters: {'alpha': 0.2540445179937741, 'l1_ratio': 0.4737226705341375}.\n"
     ]
    },
    {
     "name": "stdout",
     "output_type": "stream",
     "text": [
      "Parameters (alpha=0.376588, l1_ratio=0.310156):\n",
      "Elasticnet model (alpha=0.376588, l1_ratio=0.310156):\n",
      "  RMSE: 0.8000775804507146\n",
      "  MAE: 0.614865590355214\n",
      "  R2: 0.18107609153560467\n"
     ]
    },
    {
     "name": "stderr",
     "output_type": "stream",
     "text": [
      "[I 2019-10-27 22:57:12,801] Finished trial#7 resulted in value: 0.8000775804507146. Current best value is 0.7968764774625045 with parameters: {'alpha': 0.2540445179937741, 'l1_ratio': 0.4737226705341375}.\n"
     ]
    },
    {
     "name": "stdout",
     "output_type": "stream",
     "text": [
      "Parameters (alpha=0.550575, l1_ratio=0.333393):\n",
      "Elasticnet model (alpha=0.550575, l1_ratio=0.333393):\n",
      "  RMSE: 0.8142676497672287\n",
      "  MAE: 0.6213340044003133\n",
      "  R2: 0.15176983948267064\n"
     ]
    },
    {
     "name": "stderr",
     "output_type": "stream",
     "text": [
      "[I 2019-10-27 22:57:12,993] Finished trial#8 resulted in value: 0.8142676497672287. Current best value is 0.7968764774625045 with parameters: {'alpha': 0.2540445179937741, 'l1_ratio': 0.4737226705341375}.\n"
     ]
    },
    {
     "name": "stdout",
     "output_type": "stream",
     "text": [
      "Parameters (alpha=0.797212, l1_ratio=0.530866):\n",
      "Elasticnet model (alpha=0.797212, l1_ratio=0.530866):\n",
      "  RMSE: 0.8619895293592067\n",
      "  MAE: 0.6501462447885913\n",
      "  R2: 0.04943169457665053\n"
     ]
    },
    {
     "name": "stderr",
     "output_type": "stream",
     "text": [
      "[I 2019-10-27 22:57:13,177] Finished trial#9 resulted in value: 0.8619895293592067. Current best value is 0.7968764774625045 with parameters: {'alpha': 0.2540445179937741, 'l1_ratio': 0.4737226705341375}.\n"
     ]
    },
    {
     "name": "stdout",
     "output_type": "stream",
     "text": [
      "Parameters (alpha=0.153830, l1_ratio=0.129353):\n",
      "Elasticnet model (alpha=0.153830, l1_ratio=0.129353):\n",
      "  RMSE: 0.787378577804085\n",
      "  MAE: 0.6123734073283744\n",
      "  R2: 0.2068660535439757\n"
     ]
    },
    {
     "name": "stderr",
     "output_type": "stream",
     "text": [
      "[I 2019-10-27 22:57:13,376] Finished trial#10 resulted in value: 0.787378577804085. Current best value is 0.787378577804085 with parameters: {'alpha': 0.15382984859077348, 'l1_ratio': 0.12935264926921802}.\n"
     ]
    },
    {
     "name": "stdout",
     "output_type": "stream",
     "text": [
      "Parameters (alpha=0.133384, l1_ratio=0.220938):\n",
      "Elasticnet model (alpha=0.133384, l1_ratio=0.220938):\n",
      "  RMSE: 0.7869249519914328\n",
      "  MAE: 0.6119030885868115\n",
      "  R2: 0.20777967349983728\n"
     ]
    },
    {
     "name": "stderr",
     "output_type": "stream",
     "text": [
      "[I 2019-10-27 22:57:13,567] Finished trial#11 resulted in value: 0.7869249519914328. Current best value is 0.7869249519914328 with parameters: {'alpha': 0.13338424344030742, 'l1_ratio': 0.2209380938014769}.\n"
     ]
    },
    {
     "name": "stdout",
     "output_type": "stream",
     "text": [
      "Parameters (alpha=0.129594, l1_ratio=0.137890):\n",
      "Elasticnet model (alpha=0.129594, l1_ratio=0.137890):\n",
      "  RMSE: 0.787080570301558\n",
      "  MAE: 0.6123452750449732\n",
      "  R2: 0.20746631152509065\n"
     ]
    },
    {
     "name": "stderr",
     "output_type": "stream",
     "text": [
      "[I 2019-10-27 22:57:13,777] Finished trial#12 resulted in value: 0.787080570301558. Current best value is 0.7869249519914328 with parameters: {'alpha': 0.13338424344030742, 'l1_ratio': 0.2209380938014769}.\n"
     ]
    },
    {
     "name": "stdout",
     "output_type": "stream",
     "text": [
      "Parameters (alpha=0.105283, l1_ratio=0.138184):\n",
      "Elasticnet model (alpha=0.105283, l1_ratio=0.138184):\n",
      "  RMSE: 0.7861114877835399\n",
      "  MAE: 0.6117465559316762\n",
      "  R2: 0.2094167032834222\n"
     ]
    },
    {
     "name": "stderr",
     "output_type": "stream",
     "text": [
      "[I 2019-10-27 22:57:13,973] Finished trial#13 resulted in value: 0.7861114877835399. Current best value is 0.7861114877835399 with parameters: {'alpha': 0.10528287697280138, 'l1_ratio': 0.1381835328068158}.\n"
     ]
    },
    {
     "name": "stdout",
     "output_type": "stream",
     "text": [
      "Parameters (alpha=0.126073, l1_ratio=0.216300):\n",
      "Elasticnet model (alpha=0.126073, l1_ratio=0.216300):\n",
      "  RMSE: 0.7868451079063676\n",
      "  MAE: 0.6119512833176424\n",
      "  R2: 0.20794042808765612\n"
     ]
    },
    {
     "name": "stderr",
     "output_type": "stream",
     "text": [
      "[I 2019-10-27 22:57:14,166] Finished trial#14 resulted in value: 0.7868451079063676. Current best value is 0.7861114877835399 with parameters: {'alpha': 0.10528287697280138, 'l1_ratio': 0.1381835328068158}.\n"
     ]
    },
    {
     "name": "stdout",
     "output_type": "stream",
     "text": [
      "Parameters (alpha=0.213556, l1_ratio=0.220516):\n",
      "Elasticnet model (alpha=0.213556, l1_ratio=0.220516):\n",
      "  RMSE: 0.7887526226187258\n",
      "  MAE: 0.6117865080601897\n",
      "  R2: 0.204095461310551\n"
     ]
    },
    {
     "name": "stderr",
     "output_type": "stream",
     "text": [
      "[I 2019-10-27 22:57:14,372] Finished trial#15 resulted in value: 0.7887526226187258. Current best value is 0.7861114877835399 with parameters: {'alpha': 0.10528287697280138, 'l1_ratio': 0.1381835328068158}.\n"
     ]
    },
    {
     "name": "stdout",
     "output_type": "stream",
     "text": [
      "Parameters (alpha=0.342986, l1_ratio=0.100886):\n",
      "Elasticnet model (alpha=0.342986, l1_ratio=0.100886):\n",
      "  RMSE: 0.791198766735063\n",
      "  MAE: 0.612968084461493\n",
      "  R2: 0.19915115789538096\n"
     ]
    },
    {
     "name": "stderr",
     "output_type": "stream",
     "text": [
      "[I 2019-10-27 22:57:14,577] Finished trial#16 resulted in value: 0.791198766735063. Current best value is 0.7861114877835399 with parameters: {'alpha': 0.10528287697280138, 'l1_ratio': 0.1381835328068158}.\n"
     ]
    },
    {
     "name": "stdout",
     "output_type": "stream",
     "text": [
      "Parameters (alpha=0.106285, l1_ratio=0.659096):\n",
      "Elasticnet model (alpha=0.106285, l1_ratio=0.659096):\n",
      "  RMSE: 0.787543296541895\n",
      "  MAE: 0.611103923975687\n",
      "  R2: 0.20653417332383506\n"
     ]
    },
    {
     "name": "stderr",
     "output_type": "stream",
     "text": [
      "[I 2019-10-27 22:57:14,767] Finished trial#17 resulted in value: 0.787543296541895. Current best value is 0.7861114877835399 with parameters: {'alpha': 0.10528287697280138, 'l1_ratio': 0.1381835328068158}.\n"
     ]
    },
    {
     "name": "stdout",
     "output_type": "stream",
     "text": [
      "Parameters (alpha=0.198477, l1_ratio=0.228679):\n",
      "Elasticnet model (alpha=0.198477, l1_ratio=0.228679):\n",
      "  RMSE: 0.7883530627897646\n",
      "  MAE: 0.6117213981903395\n",
      "  R2: 0.2049016226453172\n"
     ]
    },
    {
     "name": "stderr",
     "output_type": "stream",
     "text": [
      "[I 2019-10-27 22:57:14,962] Finished trial#18 resulted in value: 0.7883530627897646. Current best value is 0.7861114877835399 with parameters: {'alpha': 0.10528287697280138, 'l1_ratio': 0.1381835328068158}.\n"
     ]
    },
    {
     "name": "stdout",
     "output_type": "stream",
     "text": [
      "Parameters (alpha=0.413982, l1_ratio=0.173305):\n",
      "Elasticnet model (alpha=0.413982, l1_ratio=0.173305):\n",
      "  RMSE: 0.7956996530354762\n",
      "  MAE: 0.6134613667965921\n",
      "  R2: 0.19001367623116017\n"
     ]
    },
    {
     "name": "stderr",
     "output_type": "stream",
     "text": [
      "[I 2019-10-27 22:57:15,175] Finished trial#19 resulted in value: 0.7956996530354762. Current best value is 0.7861114877835399 with parameters: {'alpha': 0.10528287697280138, 'l1_ratio': 0.1381835328068158}.\n"
     ]
    },
    {
     "name": "stdout",
     "output_type": "stream",
     "text": [
      "Parameters (alpha=0.306410, l1_ratio=0.391956):\n",
      "Elasticnet model (alpha=0.306410, l1_ratio=0.391956):\n",
      "  RMSE: 0.7984529859521167\n",
      "  MAE: 0.6142424049292364\n",
      "  R2: 0.1843984406928033\n"
     ]
    },
    {
     "name": "stderr",
     "output_type": "stream",
     "text": [
      "[I 2019-10-27 22:57:15,368] Finished trial#20 resulted in value: 0.7984529859521167. Current best value is 0.7861114877835399 with parameters: {'alpha': 0.10528287697280138, 'l1_ratio': 0.1381835328068158}.\n"
     ]
    },
    {
     "name": "stdout",
     "output_type": "stream",
     "text": [
      "Parameters (alpha=0.108382, l1_ratio=0.278927):\n",
      "Elasticnet model (alpha=0.108382, l1_ratio=0.278927):\n",
      "  RMSE: 0.7865396825891677\n",
      "  MAE: 0.6117594470822731\n",
      "  R2: 0.2085552075204794\n"
     ]
    },
    {
     "name": "stderr",
     "output_type": "stream",
     "text": [
      "[I 2019-10-27 22:57:15,577] Finished trial#21 resulted in value: 0.7865396825891677. Current best value is 0.7861114877835399 with parameters: {'alpha': 0.10528287697280138, 'l1_ratio': 0.1381835328068158}.\n"
     ]
    },
    {
     "name": "stdout",
     "output_type": "stream",
     "text": [
      "Parameters (alpha=0.194182, l1_ratio=0.276029):\n",
      "Elasticnet model (alpha=0.194182, l1_ratio=0.276029):\n",
      "  RMSE: 0.7885811226403555\n",
      "  MAE: 0.6115279403521774\n",
      "  R2: 0.2044415337489529\n"
     ]
    },
    {
     "name": "stderr",
     "output_type": "stream",
     "text": [
      "[I 2019-10-27 22:57:15,776] Finished trial#22 resulted in value: 0.7885811226403555. Current best value is 0.7861114877835399 with parameters: {'alpha': 0.10528287697280138, 'l1_ratio': 0.1381835328068158}.\n"
     ]
    },
    {
     "name": "stdout",
     "output_type": "stream",
     "text": [
      "Parameters (alpha=0.104609, l1_ratio=0.180250):\n",
      "Elasticnet model (alpha=0.104609, l1_ratio=0.180250):\n",
      "  RMSE: 0.7868084215454577\n",
      "  MAE: 0.6122572968342346\n",
      "  R2: 0.2080142853325475\n"
     ]
    },
    {
     "name": "stderr",
     "output_type": "stream",
     "text": [
      "[I 2019-10-27 22:57:15,985] Finished trial#23 resulted in value: 0.7868084215454577. Current best value is 0.7861114877835399 with parameters: {'alpha': 0.10528287697280138, 'l1_ratio': 0.1381835328068158}.\n"
     ]
    },
    {
     "name": "stdout",
     "output_type": "stream",
     "text": [
      "Parameters (alpha=0.104200, l1_ratio=0.104112):\n",
      "Elasticnet model (alpha=0.104200, l1_ratio=0.104112):\n",
      "  RMSE: 0.7854294189169716\n",
      "  MAE: 0.611216538969429\n",
      "  R2: 0.21078800577505596\n"
     ]
    },
    {
     "name": "stderr",
     "output_type": "stream",
     "text": [
      "[I 2019-10-27 22:57:16,185] Finished trial#24 resulted in value: 0.7854294189169716. Current best value is 0.7854294189169716 with parameters: {'alpha': 0.10420033612747301, 'l1_ratio': 0.10411211452161062}.\n"
     ]
    },
    {
     "name": "stdout",
     "output_type": "stream",
     "text": [
      "Parameters (alpha=0.233282, l1_ratio=0.113610):\n",
      "Elasticnet model (alpha=0.233282, l1_ratio=0.113610):\n",
      "  RMSE: 0.7886748782627558\n",
      "  MAE: 0.6124964848323452\n",
      "  R2: 0.20425235216455184\n"
     ]
    },
    {
     "name": "stderr",
     "output_type": "stream",
     "text": [
      "[I 2019-10-27 22:57:16,379] Finished trial#25 resulted in value: 0.7886748782627558. Current best value is 0.7854294189169716 with parameters: {'alpha': 0.10420033612747301, 'l1_ratio': 0.10411211452161062}.\n"
     ]
    },
    {
     "name": "stdout",
     "output_type": "stream",
     "text": [
      "Parameters (alpha=0.169461, l1_ratio=0.263994):\n",
      "Elasticnet model (alpha=0.169461, l1_ratio=0.263994):\n",
      "  RMSE: 0.7877068124352925\n",
      "  MAE: 0.6115592202384874\n",
      "  R2: 0.20620464796730154\n"
     ]
    },
    {
     "name": "stderr",
     "output_type": "stream",
     "text": [
      "[I 2019-10-27 22:57:16,564] Finished trial#26 resulted in value: 0.7877068124352925. Current best value is 0.7854294189169716 with parameters: {'alpha': 0.10420033612747301, 'l1_ratio': 0.10411211452161062}.\n"
     ]
    },
    {
     "name": "stdout",
     "output_type": "stream",
     "text": [
      "Parameters (alpha=0.270524, l1_ratio=0.413649):\n",
      "Elasticnet model (alpha=0.270524, l1_ratio=0.413649):\n",
      "  RMSE: 0.7962823842496023\n",
      "  MAE: 0.6135648684658299\n",
      "  R2: 0.18882685366959762\n"
     ]
    },
    {
     "name": "stderr",
     "output_type": "stream",
     "text": [
      "[I 2019-10-27 22:57:16,756] Finished trial#27 resulted in value: 0.7962823842496023. Current best value is 0.7854294189169716 with parameters: {'alpha': 0.10420033612747301, 'l1_ratio': 0.10411211452161062}.\n"
     ]
    },
    {
     "name": "stdout",
     "output_type": "stream",
     "text": [
      "Parameters (alpha=0.108317, l1_ratio=0.163888):\n",
      "Elasticnet model (alpha=0.108317, l1_ratio=0.163888):\n",
      "  RMSE: 0.7867932282464882\n",
      "  MAE: 0.6122443002270923\n",
      "  R2: 0.20804487158260643\n"
     ]
    },
    {
     "name": "stderr",
     "output_type": "stream",
     "text": [
      "[I 2019-10-27 22:57:16,958] Finished trial#28 resulted in value: 0.7867932282464882. Current best value is 0.7854294189169716 with parameters: {'alpha': 0.10420033612747301, 'l1_ratio': 0.10411211452161062}.\n"
     ]
    },
    {
     "name": "stdout",
     "output_type": "stream",
     "text": [
      "Parameters (alpha=0.245739, l1_ratio=0.292709):\n",
      "Elasticnet model (alpha=0.245739, l1_ratio=0.292709):\n",
      "  RMSE: 0.7912479424541986\n",
      "  MAE: 0.6121509469695828\n",
      "  R2: 0.19905160379277487\n"
     ]
    },
    {
     "name": "stderr",
     "output_type": "stream",
     "text": [
      "[I 2019-10-27 22:57:17,158] Finished trial#29 resulted in value: 0.7912479424541986. Current best value is 0.7854294189169716 with parameters: {'alpha': 0.10420033612747301, 'l1_ratio': 0.10411211452161062}.\n"
     ]
    },
    {
     "name": "stdout",
     "output_type": "stream",
     "text": [
      "Parameters (alpha=0.175139, l1_ratio=0.115844):\n",
      "Elasticnet model (alpha=0.175139, l1_ratio=0.115844):\n",
      "  RMSE: 0.7876828684747073\n",
      "  MAE: 0.6124566590560977\n",
      "  R2: 0.20625290530226303\n"
     ]
    },
    {
     "name": "stderr",
     "output_type": "stream",
     "text": [
      "[I 2019-10-27 22:57:17,362] Finished trial#30 resulted in value: 0.7876828684747073. Current best value is 0.7854294189169716 with parameters: {'alpha': 0.10420033612747301, 'l1_ratio': 0.10411211452161062}.\n"
     ]
    },
    {
     "name": "stdout",
     "output_type": "stream",
     "text": [
      "Parameters (alpha=0.106551, l1_ratio=0.167395):\n",
      "Elasticnet model (alpha=0.106551, l1_ratio=0.167395):\n",
      "  RMSE: 0.7867896524523987\n",
      "  MAE: 0.6122507159722586\n",
      "  R2: 0.2080520700737234\n"
     ]
    },
    {
     "name": "stderr",
     "output_type": "stream",
     "text": [
      "[I 2019-10-27 22:57:17,562] Finished trial#31 resulted in value: 0.7867896524523987. Current best value is 0.7854294189169716 with parameters: {'alpha': 0.10420033612747301, 'l1_ratio': 0.10411211452161062}.\n"
     ]
    },
    {
     "name": "stdout",
     "output_type": "stream",
     "text": [
      "Parameters (alpha=0.101655, l1_ratio=0.174155):\n",
      "Elasticnet model (alpha=0.101655, l1_ratio=0.174155):\n",
      "  RMSE: 0.7867025958696698\n",
      "  MAE: 0.612210280546699\n",
      "  R2: 0.20822731504801995\n"
     ]
    },
    {
     "name": "stderr",
     "output_type": "stream",
     "text": [
      "[I 2019-10-27 22:57:17,755] Finished trial#32 resulted in value: 0.7867025958696698. Current best value is 0.7854294189169716 with parameters: {'alpha': 0.10420033612747301, 'l1_ratio': 0.10411211452161062}.\n"
     ]
    },
    {
     "name": "stdout",
     "output_type": "stream",
     "text": [
      "Parameters (alpha=0.162224, l1_ratio=0.253989):\n",
      "Elasticnet model (alpha=0.162224, l1_ratio=0.253989):\n",
      "  RMSE: 0.7874815231880733\n",
      "  MAE: 0.6116277693657644\n",
      "  R2: 0.20665864425298874\n"
     ]
    },
    {
     "name": "stderr",
     "output_type": "stream",
     "text": [
      "[I 2019-10-27 22:57:17,954] Finished trial#33 resulted in value: 0.7874815231880733. Current best value is 0.7854294189169716 with parameters: {'alpha': 0.10420033612747301, 'l1_ratio': 0.10411211452161062}.\n"
     ]
    },
    {
     "name": "stdout",
     "output_type": "stream",
     "text": [
      "Parameters (alpha=0.311894, l1_ratio=0.203024):\n",
      "Elasticnet model (alpha=0.311894, l1_ratio=0.203024):\n",
      "  RMSE: 0.792210161170982\n",
      "  MAE: 0.6124503050503867\n",
      "  R2: 0.19710238887676923\n"
     ]
    },
    {
     "name": "stderr",
     "output_type": "stream",
     "text": [
      "[I 2019-10-27 22:57:18,149] Finished trial#34 resulted in value: 0.792210161170982. Current best value is 0.7854294189169716 with parameters: {'alpha': 0.10420033612747301, 'l1_ratio': 0.10411211452161062}.\n"
     ]
    },
    {
     "name": "stdout",
     "output_type": "stream",
     "text": [
      "Parameters (alpha=0.225831, l1_ratio=0.341539):\n",
      "Elasticnet model (alpha=0.225831, l1_ratio=0.341539):\n",
      "  RMSE: 0.7911859819263725\n",
      "  MAE: 0.6121216017686854\n",
      "  R2: 0.19917703917059093\n"
     ]
    },
    {
     "name": "stderr",
     "output_type": "stream",
     "text": [
      "[I 2019-10-27 22:57:18,355] Finished trial#35 resulted in value: 0.7911859819263725. Current best value is 0.7854294189169716 with parameters: {'alpha': 0.10420033612747301, 'l1_ratio': 0.10411211452161062}.\n"
     ]
    },
    {
     "name": "stdout",
     "output_type": "stream",
     "text": [
      "Parameters (alpha=0.147921, l1_ratio=0.136154):\n",
      "Elasticnet model (alpha=0.147921, l1_ratio=0.136154):\n",
      "  RMSE: 0.7872916730353804\n",
      "  MAE: 0.6123381577861237\n",
      "  R2: 0.20704112388571394\n"
     ]
    },
    {
     "name": "stderr",
     "output_type": "stream",
     "text": [
      "[I 2019-10-27 22:57:18,550] Finished trial#36 resulted in value: 0.7872916730353804. Current best value is 0.7854294189169716 with parameters: {'alpha': 0.10420033612747301, 'l1_ratio': 0.10411211452161062}.\n"
     ]
    },
    {
     "name": "stdout",
     "output_type": "stream",
     "text": [
      "Parameters (alpha=0.103710, l1_ratio=0.100009):\n",
      "Elasticnet model (alpha=0.103710, l1_ratio=0.100009):\n",
      "  RMSE: 0.7853380730647925\n",
      "  MAE: 0.6111446239858053\n",
      "  R2: 0.21097156663565453\n"
     ]
    },
    {
     "name": "stderr",
     "output_type": "stream",
     "text": [
      "[I 2019-10-27 22:57:18,748] Finished trial#37 resulted in value: 0.7853380730647925. Current best value is 0.7853380730647925 with parameters: {'alpha': 0.10370994436233226, 'l1_ratio': 0.1000090876763251}.\n"
     ]
    },
    {
     "name": "stdout",
     "output_type": "stream",
     "text": [
      "Parameters (alpha=0.470239, l1_ratio=0.453096):\n",
      "Elasticnet model (alpha=0.470239, l1_ratio=0.453096):\n",
      "  RMSE: 0.8172640455676744\n",
      "  MAE: 0.6227109326007321\n",
      "  R2: 0.1455156066725659\n"
     ]
    },
    {
     "name": "stderr",
     "output_type": "stream",
     "text": [
      "[I 2019-10-27 22:57:18,948] Finished trial#38 resulted in value: 0.8172640455676744. Current best value is 0.7853380730647925 with parameters: {'alpha': 0.10370994436233226, 'l1_ratio': 0.1000090876763251}.\n"
     ]
    },
    {
     "name": "stdout",
     "output_type": "stream",
     "text": [
      "Parameters (alpha=0.267822, l1_ratio=0.100215):\n",
      "Elasticnet model (alpha=0.267822, l1_ratio=0.100215):\n",
      "  RMSE: 0.7893554195269974\n",
      "  MAE: 0.6126872400815407\n",
      "  R2: 0.2028784710632321\n"
     ]
    },
    {
     "name": "stderr",
     "output_type": "stream",
     "text": [
      "[I 2019-10-27 22:57:19,156] Finished trial#39 resulted in value: 0.7893554195269974. Current best value is 0.7853380730647925 with parameters: {'alpha': 0.10370994436233226, 'l1_ratio': 0.1000090876763251}.\n"
     ]
    },
    {
     "name": "stdout",
     "output_type": "stream",
     "text": [
      "Parameters (alpha=0.679795, l1_ratio=0.546161):\n",
      "Elasticnet model (alpha=0.679795, l1_ratio=0.546161):\n",
      "  RMSE: 0.8563339281315477\n",
      "  MAE: 0.6459136020620487\n",
      "  R2: 0.06186432568112177\n"
     ]
    },
    {
     "name": "stderr",
     "output_type": "stream",
     "text": [
      "[I 2019-10-27 22:57:19,350] Finished trial#40 resulted in value: 0.8563339281315477. Current best value is 0.7853380730647925 with parameters: {'alpha': 0.10370994436233226, 'l1_ratio': 0.1000090876763251}.\n"
     ]
    },
    {
     "name": "stdout",
     "output_type": "stream",
     "text": [
      "Parameters (alpha=0.103274, l1_ratio=0.158653):\n",
      "Elasticnet model (alpha=0.103274, l1_ratio=0.158653):\n",
      "  RMSE: 0.7864417538045979\n",
      "  MAE: 0.6120063353658084\n",
      "  R2: 0.20875227425053888\n"
     ]
    },
    {
     "name": "stderr",
     "output_type": "stream",
     "text": [
      "[I 2019-10-27 22:57:19,553] Finished trial#41 resulted in value: 0.7864417538045979. Current best value is 0.7853380730647925 with parameters: {'alpha': 0.10370994436233226, 'l1_ratio': 0.1000090876763251}.\n"
     ]
    },
    {
     "name": "stdout",
     "output_type": "stream",
     "text": [
      "Parameters (alpha=0.184749, l1_ratio=0.143333):\n",
      "Elasticnet model (alpha=0.184749, l1_ratio=0.143333):\n",
      "  RMSE: 0.787790188957601\n",
      "  MAE: 0.6122671190409879\n",
      "  R2: 0.20603659712015732\n"
     ]
    },
    {
     "name": "stderr",
     "output_type": "stream",
     "text": [
      "[I 2019-10-27 22:57:19,756] Finished trial#42 resulted in value: 0.787790188957601. Current best value is 0.7853380730647925 with parameters: {'alpha': 0.10370994436233226, 'l1_ratio': 0.1000090876763251}.\n"
     ]
    },
    {
     "name": "stdout",
     "output_type": "stream",
     "text": [
      "Parameters (alpha=0.141260, l1_ratio=0.100618):\n",
      "Elasticnet model (alpha=0.141260, l1_ratio=0.100618):\n",
      "  RMSE: 0.7866922084915408\n",
      "  MAE: 0.6120154487627094\n",
      "  R2: 0.20824822355402373\n"
     ]
    },
    {
     "name": "stderr",
     "output_type": "stream",
     "text": [
      "[I 2019-10-27 22:57:19,961] Finished trial#43 resulted in value: 0.7866922084915408. Current best value is 0.7853380730647925 with parameters: {'alpha': 0.10370994436233226, 'l1_ratio': 0.1000090876763251}.\n"
     ]
    },
    {
     "name": "stdout",
     "output_type": "stream",
     "text": [
      "Parameters (alpha=0.527957, l1_ratio=0.251024):\n",
      "Elasticnet model (alpha=0.527957, l1_ratio=0.251024):\n",
      "  RMSE: 0.806532806304308\n",
      "  MAE: 0.6178589057408826\n",
      "  R2: 0.16780821685217728\n"
     ]
    },
    {
     "name": "stderr",
     "output_type": "stream",
     "text": [
      "[I 2019-10-27 22:57:20,187] Finished trial#44 resulted in value: 0.806532806304308. Current best value is 0.7853380730647925 with parameters: {'alpha': 0.10370994436233226, 'l1_ratio': 0.1000090876763251}.\n"
     ]
    },
    {
     "name": "stdout",
     "output_type": "stream",
     "text": [
      "Parameters (alpha=0.106563, l1_ratio=0.313556):\n",
      "Elasticnet model (alpha=0.106563, l1_ratio=0.313556):\n",
      "  RMSE: 0.786467345858208\n",
      "  MAE: 0.6116283028288048\n",
      "  R2: 0.2087007765176273\n"
     ]
    },
    {
     "name": "stderr",
     "output_type": "stream",
     "text": [
      "[I 2019-10-27 22:57:20,396] Finished trial#45 resulted in value: 0.786467345858208. Current best value is 0.7853380730647925 with parameters: {'alpha': 0.10370994436233226, 'l1_ratio': 0.1000090876763251}.\n"
     ]
    },
    {
     "name": "stdout",
     "output_type": "stream",
     "text": [
      "Parameters (alpha=0.143952, l1_ratio=0.324485):\n",
      "Elasticnet model (alpha=0.143952, l1_ratio=0.324485):\n",
      "  RMSE: 0.7872239527512402\n",
      "  MAE: 0.6113628593701527\n",
      "  R2: 0.20717753353595325\n"
     ]
    },
    {
     "name": "stderr",
     "output_type": "stream",
     "text": [
      "[I 2019-10-27 22:57:20,603] Finished trial#46 resulted in value: 0.7872239527512402. Current best value is 0.7853380730647925 with parameters: {'alpha': 0.10370994436233226, 'l1_ratio': 0.1000090876763251}.\n"
     ]
    },
    {
     "name": "stdout",
     "output_type": "stream",
     "text": [
      "Parameters (alpha=0.186446, l1_ratio=0.202587):\n",
      "Elasticnet model (alpha=0.186446, l1_ratio=0.202587):\n",
      "  RMSE: 0.7879081910083304\n",
      "  MAE: 0.6118806717741351\n",
      "  R2: 0.20579872584971948\n"
     ]
    },
    {
     "name": "stderr",
     "output_type": "stream",
     "text": [
      "[I 2019-10-27 22:57:20,800] Finished trial#47 resulted in value: 0.7879081910083304. Current best value is 0.7853380730647925 with parameters: {'alpha': 0.10370994436233226, 'l1_ratio': 0.1000090876763251}.\n"
     ]
    },
    {
     "name": "stdout",
     "output_type": "stream",
     "text": [
      "Parameters (alpha=0.217875, l1_ratio=0.368476):\n",
      "Elasticnet model (alpha=0.217875, l1_ratio=0.368476):\n",
      "  RMSE: 0.7912612431379895\n",
      "  MAE: 0.6121374008173106\n",
      "  R2: 0.19902467607437568\n"
     ]
    },
    {
     "name": "stderr",
     "output_type": "stream",
     "text": [
      "[I 2019-10-27 22:57:20,994] Finished trial#48 resulted in value: 0.7912612431379895. Current best value is 0.7853380730647925 with parameters: {'alpha': 0.10370994436233226, 'l1_ratio': 0.1000090876763251}.\n"
     ]
    },
    {
     "name": "stdout",
     "output_type": "stream",
     "text": [
      "Parameters (alpha=0.131207, l1_ratio=0.101453):\n",
      "Elasticnet model (alpha=0.131207, l1_ratio=0.101453):\n",
      "  RMSE: 0.7863855699022854\n",
      "  MAE: 0.611837313434628\n",
      "  R2: 0.20886532470024588\n"
     ]
    },
    {
     "name": "stderr",
     "output_type": "stream",
     "text": [
      "[I 2019-10-27 22:57:21,195] Finished trial#49 resulted in value: 0.7863855699022854. Current best value is 0.7853380730647925 with parameters: {'alpha': 0.10370994436233226, 'l1_ratio': 0.1000090876763251}.\n"
     ]
    },
    {
     "name": "stdout",
     "output_type": "stream",
     "text": [
      "Parameters (alpha=0.132702, l1_ratio=0.146673):\n",
      "Elasticnet model (alpha=0.132702, l1_ratio=0.146673):\n",
      "  RMSE: 0.787110404214632\n",
      "  MAE: 0.6123115587439478\n",
      "  R2: 0.20740622916458817\n"
     ]
    },
    {
     "name": "stderr",
     "output_type": "stream",
     "text": [
      "[I 2019-10-27 22:57:21,432] Finished trial#50 resulted in value: 0.787110404214632. Current best value is 0.7853380730647925 with parameters: {'alpha': 0.10370994436233226, 'l1_ratio': 0.1000090876763251}.\n"
     ]
    },
    {
     "name": "stdout",
     "output_type": "stream",
     "text": [
      "Parameters (alpha=0.100172, l1_ratio=0.100501):\n",
      "Elasticnet model (alpha=0.100172, l1_ratio=0.100501):\n",
      "  RMSE: 0.7851926259536915\n",
      "  MAE: 0.6110371694954359\n",
      "  R2: 0.21126380072695816\n"
     ]
    },
    {
     "name": "stderr",
     "output_type": "stream",
     "text": [
      "[I 2019-10-27 22:57:21,636] Finished trial#51 resulted in value: 0.7851926259536915. Current best value is 0.7851926259536915 with parameters: {'alpha': 0.1001720071933421, 'l1_ratio': 0.1005012293821135}.\n"
     ]
    },
    {
     "name": "stdout",
     "output_type": "stream",
     "text": [
      "Parameters (alpha=0.101313, l1_ratio=0.109398):\n",
      "Elasticnet model (alpha=0.101313, l1_ratio=0.109398):\n",
      "  RMSE: 0.7853958560239944\n",
      "  MAE: 0.6111987322016162\n",
      "  R2: 0.21085545339317202\n"
     ]
    },
    {
     "name": "stderr",
     "output_type": "stream",
     "text": [
      "[I 2019-10-27 22:57:21,852] Finished trial#52 resulted in value: 0.7853958560239944. Current best value is 0.7851926259536915 with parameters: {'alpha': 0.1001720071933421, 'l1_ratio': 0.1005012293821135}.\n"
     ]
    },
    {
     "name": "stdout",
     "output_type": "stream",
     "text": [
      "Parameters (alpha=0.163082, l1_ratio=0.110669):\n",
      "Elasticnet model (alpha=0.163082, l1_ratio=0.110669):\n",
      "  RMSE: 0.787546348095278\n",
      "  MAE: 0.6124967908574134\n",
      "  R2: 0.20652802430820805\n"
     ]
    },
    {
     "name": "stderr",
     "output_type": "stream",
     "text": [
      "[I 2019-10-27 22:57:22,055] Finished trial#53 resulted in value: 0.787546348095278. Current best value is 0.7851926259536915 with parameters: {'alpha': 0.1001720071933421, 'l1_ratio': 0.1005012293821135}.\n"
     ]
    },
    {
     "name": "stdout",
     "output_type": "stream",
     "text": [
      "Parameters (alpha=0.130130, l1_ratio=0.101079):\n",
      "Elasticnet model (alpha=0.130130, l1_ratio=0.101079):\n",
      "  RMSE: 0.786342636960434\n",
      "  MAE: 0.611811470057128\n",
      "  R2: 0.20895170678335262\n"
     ]
    },
    {
     "name": "stderr",
     "output_type": "stream",
     "text": [
      "[I 2019-10-27 22:57:22,256] Finished trial#54 resulted in value: 0.786342636960434. Current best value is 0.7851926259536915 with parameters: {'alpha': 0.1001720071933421, 'l1_ratio': 0.1005012293821135}.\n"
     ]
    },
    {
     "name": "stdout",
     "output_type": "stream",
     "text": [
      "Parameters (alpha=0.204984, l1_ratio=0.133673):\n",
      "Elasticnet model (alpha=0.204984, l1_ratio=0.133673):\n",
      "  RMSE: 0.7881522788494634\n",
      "  MAE: 0.6123274496114006\n",
      "  R2: 0.20530657485037063\n"
     ]
    },
    {
     "name": "stderr",
     "output_type": "stream",
     "text": [
      "[I 2019-10-27 22:57:22,452] Finished trial#55 resulted in value: 0.7881522788494634. Current best value is 0.7851926259536915 with parameters: {'alpha': 0.1001720071933421, 'l1_ratio': 0.1005012293821135}.\n"
     ]
    },
    {
     "name": "stdout",
     "output_type": "stream",
     "text": [
      "Parameters (alpha=0.100404, l1_ratio=0.708796):\n",
      "Elasticnet model (alpha=0.100404, l1_ratio=0.708796):\n",
      "  RMSE: 0.7874787928617432\n",
      "  MAE: 0.6110851188516527\n",
      "  R2: 0.2066641455300945\n"
     ]
    },
    {
     "name": "stderr",
     "output_type": "stream",
     "text": [
      "[I 2019-10-27 22:57:22,666] Finished trial#56 resulted in value: 0.7874787928617432. Current best value is 0.7851926259536915 with parameters: {'alpha': 0.1001720071933421, 'l1_ratio': 0.1005012293821135}.\n"
     ]
    },
    {
     "name": "stdout",
     "output_type": "stream",
     "text": [
      "Parameters (alpha=0.129580, l1_ratio=0.127465):\n",
      "Elasticnet model (alpha=0.129580, l1_ratio=0.127465):\n",
      "  RMSE: 0.7868538772587107\n",
      "  MAE: 0.6121829979014007\n",
      "  R2: 0.20792277305466778\n"
     ]
    },
    {
     "name": "stderr",
     "output_type": "stream",
     "text": [
      "[I 2019-10-27 22:57:22,876] Finished trial#57 resulted in value: 0.7868538772587107. Current best value is 0.7851926259536915 with parameters: {'alpha': 0.1001720071933421, 'l1_ratio': 0.1005012293821135}.\n"
     ]
    },
    {
     "name": "stdout",
     "output_type": "stream",
     "text": [
      "Parameters (alpha=0.405680, l1_ratio=0.189436):\n",
      "Elasticnet model (alpha=0.405680, l1_ratio=0.189436):\n",
      "  RMSE: 0.7960207995090415\n",
      "  MAE: 0.6135394213465285\n",
      "  R2: 0.18935971906544302\n"
     ]
    },
    {
     "name": "stderr",
     "output_type": "stream",
     "text": [
      "[I 2019-10-27 22:57:23,067] Finished trial#58 resulted in value: 0.7960207995090415. Current best value is 0.7851926259536915 with parameters: {'alpha': 0.1001720071933421, 'l1_ratio': 0.1005012293821135}.\n"
     ]
    },
    {
     "name": "stdout",
     "output_type": "stream",
     "text": [
      "Parameters (alpha=0.149499, l1_ratio=0.222968):\n",
      "Elasticnet model (alpha=0.149499, l1_ratio=0.222968):\n",
      "  RMSE: 0.7871711233975469\n",
      "  MAE: 0.6118407223011098\n",
      "  R2: 0.20728394008762385\n"
     ]
    },
    {
     "name": "stderr",
     "output_type": "stream",
     "text": [
      "[I 2019-10-27 22:57:23,289] Finished trial#59 resulted in value: 0.7871711233975469. Current best value is 0.7851926259536915 with parameters: {'alpha': 0.1001720071933421, 'l1_ratio': 0.1005012293821135}.\n"
     ]
    },
    {
     "name": "stdout",
     "output_type": "stream",
     "text": [
      "Parameters (alpha=0.173319, l1_ratio=0.101733):\n",
      "Elasticnet model (alpha=0.173319, l1_ratio=0.101733):\n",
      "  RMSE: 0.7876577937732072\n",
      "  MAE: 0.6125236621366235\n",
      "  R2: 0.2063034399919763\n"
     ]
    },
    {
     "name": "stderr",
     "output_type": "stream",
     "text": [
      "[I 2019-10-27 22:57:23,485] Finished trial#60 resulted in value: 0.7876577937732072. Current best value is 0.7851926259536915 with parameters: {'alpha': 0.1001720071933421, 'l1_ratio': 0.1005012293821135}.\n"
     ]
    },
    {
     "name": "stdout",
     "output_type": "stream",
     "text": [
      "Parameters (alpha=0.126622, l1_ratio=0.100853):\n",
      "Elasticnet model (alpha=0.126622, l1_ratio=0.100853):\n",
      "  RMSE: 0.786219982883191\n",
      "  MAE: 0.6117381821406316\n",
      "  R2: 0.2091984636724602\n"
     ]
    },
    {
     "name": "stderr",
     "output_type": "stream",
     "text": [
      "[I 2019-10-27 22:57:23,687] Finished trial#61 resulted in value: 0.786219982883191. Current best value is 0.7851926259536915 with parameters: {'alpha': 0.1001720071933421, 'l1_ratio': 0.1005012293821135}.\n"
     ]
    },
    {
     "name": "stdout",
     "output_type": "stream",
     "text": [
      "Parameters (alpha=0.118833, l1_ratio=0.123591):\n",
      "Elasticnet model (alpha=0.118833, l1_ratio=0.123591):\n",
      "  RMSE: 0.7863791482926832\n",
      "  MAE: 0.6118891933602179\n",
      "  R2: 0.20887824542890343\n"
     ]
    },
    {
     "name": "stderr",
     "output_type": "stream",
     "text": [
      "[I 2019-10-27 22:57:23,890] Finished trial#62 resulted in value: 0.7863791482926832. Current best value is 0.7851926259536915 with parameters: {'alpha': 0.1001720071933421, 'l1_ratio': 0.1005012293821135}.\n"
     ]
    },
    {
     "name": "stdout",
     "output_type": "stream",
     "text": [
      "Parameters (alpha=0.197325, l1_ratio=0.151904):\n",
      "Elasticnet model (alpha=0.197325, l1_ratio=0.151904):\n",
      "  RMSE: 0.7880255874326065\n",
      "  MAE: 0.6122007161444946\n",
      "  R2: 0.20556204006118817\n"
     ]
    },
    {
     "name": "stderr",
     "output_type": "stream",
     "text": [
      "[I 2019-10-27 22:57:24,091] Finished trial#63 resulted in value: 0.7880255874326065. Current best value is 0.7851926259536915 with parameters: {'alpha': 0.1001720071933421, 'l1_ratio': 0.1005012293821135}.\n"
     ]
    },
    {
     "name": "stdout",
     "output_type": "stream",
     "text": [
      "Parameters (alpha=0.156807, l1_ratio=0.191618):\n",
      "Elasticnet model (alpha=0.156807, l1_ratio=0.191618):\n",
      "  RMSE: 0.7873018795538478\n",
      "  MAE: 0.6119996349310823\n",
      "  R2: 0.20702056377527067\n"
     ]
    },
    {
     "name": "stderr",
     "output_type": "stream",
     "text": [
      "[I 2019-10-27 22:57:24,301] Finished trial#64 resulted in value: 0.7873018795538478. Current best value is 0.7851926259536915 with parameters: {'alpha': 0.1001720071933421, 'l1_ratio': 0.1005012293821135}.\n"
     ]
    },
    {
     "name": "stdout",
     "output_type": "stream",
     "text": [
      "Parameters (alpha=0.120011, l1_ratio=0.104442):\n",
      "Elasticnet model (alpha=0.120011, l1_ratio=0.104442):\n",
      "  RMSE: 0.7860542500167819\n",
      "  MAE: 0.6116434750378806\n",
      "  R2: 0.20953182582174978\n"
     ]
    },
    {
     "name": "stderr",
     "output_type": "stream",
     "text": [
      "[I 2019-10-27 22:57:24,494] Finished trial#65 resulted in value: 0.7860542500167819. Current best value is 0.7851926259536915 with parameters: {'alpha': 0.1001720071933421, 'l1_ratio': 0.1005012293821135}.\n"
     ]
    },
    {
     "name": "stdout",
     "output_type": "stream",
     "text": [
      "Parameters (alpha=0.102230, l1_ratio=0.561656):\n",
      "Elasticnet model (alpha=0.102230, l1_ratio=0.561656):\n",
      "  RMSE: 0.786681979525901\n",
      "  MAE: 0.6108576012475472\n",
      "  R2: 0.2082688129255128\n"
     ]
    },
    {
     "name": "stderr",
     "output_type": "stream",
     "text": [
      "[I 2019-10-27 22:57:24,704] Finished trial#66 resulted in value: 0.786681979525901. Current best value is 0.7851926259536915 with parameters: {'alpha': 0.1001720071933421, 'l1_ratio': 0.1005012293821135}.\n"
     ]
    },
    {
     "name": "stdout",
     "output_type": "stream",
     "text": [
      "Parameters (alpha=0.249667, l1_ratio=0.158101):\n",
      "Elasticnet model (alpha=0.249667, l1_ratio=0.158101):\n",
      "  RMSE: 0.7892909004931077\n",
      "  MAE: 0.6121993530224761\n",
      "  R2: 0.20300877335251077\n"
     ]
    },
    {
     "name": "stderr",
     "output_type": "stream",
     "text": [
      "[I 2019-10-27 22:57:24,901] Finished trial#67 resulted in value: 0.7892909004931077. Current best value is 0.7851926259536915 with parameters: {'alpha': 0.1001720071933421, 'l1_ratio': 0.1005012293821135}.\n"
     ]
    },
    {
     "name": "stdout",
     "output_type": "stream",
     "text": [
      "Parameters (alpha=0.122109, l1_ratio=0.123987):\n",
      "Elasticnet model (alpha=0.122109, l1_ratio=0.123987):\n",
      "  RMSE: 0.7865104385649392\n",
      "  MAE: 0.6119695071884343\n",
      "  R2: 0.2086140592247887\n"
     ]
    },
    {
     "name": "stderr",
     "output_type": "stream",
     "text": [
      "[I 2019-10-27 22:57:25,113] Finished trial#68 resulted in value: 0.7865104385649392. Current best value is 0.7851926259536915 with parameters: {'alpha': 0.1001720071933421, 'l1_ratio': 0.1005012293821135}.\n"
     ]
    },
    {
     "name": "stdout",
     "output_type": "stream",
     "text": [
      "Parameters (alpha=0.168898, l1_ratio=0.240517):\n",
      "Elasticnet model (alpha=0.168898, l1_ratio=0.240517):\n",
      "  RMSE: 0.7876052734178558\n",
      "  MAE: 0.611684075923838\n",
      "  R2: 0.20640928249346502\n"
     ]
    },
    {
     "name": "stderr",
     "output_type": "stream",
     "text": [
      "[I 2019-10-27 22:57:25,328] Finished trial#69 resulted in value: 0.7876052734178558. Current best value is 0.7851926259536915 with parameters: {'alpha': 0.1001720071933421, 'l1_ratio': 0.1005012293821135}.\n"
     ]
    },
    {
     "name": "stdout",
     "output_type": "stream",
     "text": [
      "Parameters (alpha=0.101267, l1_ratio=0.181655):\n",
      "Elasticnet model (alpha=0.101267, l1_ratio=0.181655):\n",
      "  RMSE: 0.7867926477543946\n",
      "  MAE: 0.6122750671464149\n",
      "  R2: 0.2080460401832105\n"
     ]
    },
    {
     "name": "stderr",
     "output_type": "stream",
     "text": [
      "[I 2019-10-27 22:57:25,531] Finished trial#70 resulted in value: 0.7867926477543946. Current best value is 0.7851926259536915 with parameters: {'alpha': 0.1001720071933421, 'l1_ratio': 0.1005012293821135}.\n"
     ]
    },
    {
     "name": "stdout",
     "output_type": "stream",
     "text": [
      "Parameters (alpha=0.123639, l1_ratio=0.101054):\n",
      "Elasticnet model (alpha=0.123639, l1_ratio=0.101054):\n",
      "  RMSE: 0.7861206766316777\n",
      "  MAE: 0.6116779108700534\n",
      "  R2: 0.209398220937281\n"
     ]
    },
    {
     "name": "stderr",
     "output_type": "stream",
     "text": [
      "[I 2019-10-27 22:57:25,744] Finished trial#71 resulted in value: 0.7861206766316777. Current best value is 0.7851926259536915 with parameters: {'alpha': 0.1001720071933421, 'l1_ratio': 0.1005012293821135}.\n"
     ]
    },
    {
     "name": "stdout",
     "output_type": "stream",
     "text": [
      "Parameters (alpha=0.153239, l1_ratio=0.118986):\n",
      "Elasticnet model (alpha=0.153239, l1_ratio=0.118986):\n",
      "  RMSE: 0.7874075014725332\n",
      "  MAE: 0.6124475982974751\n",
      "  R2: 0.20680778229988628\n"
     ]
    },
    {
     "name": "stderr",
     "output_type": "stream",
     "text": [
      "[I 2019-10-27 22:57:25,964] Finished trial#72 resulted in value: 0.7874075014725332. Current best value is 0.7851926259536915 with parameters: {'alpha': 0.1001720071933421, 'l1_ratio': 0.1005012293821135}.\n"
     ]
    },
    {
     "name": "stdout",
     "output_type": "stream",
     "text": [
      "Parameters (alpha=0.120349, l1_ratio=0.144289):\n",
      "Elasticnet model (alpha=0.120349, l1_ratio=0.144289):\n",
      "  RMSE: 0.7868710633008625\n",
      "  MAE: 0.6122369825019441\n",
      "  R2: 0.20788817242127555\n"
     ]
    },
    {
     "name": "stderr",
     "output_type": "stream",
     "text": [
      "[I 2019-10-27 22:57:26,166] Finished trial#73 resulted in value: 0.7868710633008625. Current best value is 0.7851926259536915 with parameters: {'alpha': 0.1001720071933421, 'l1_ratio': 0.1005012293821135}.\n"
     ]
    },
    {
     "name": "stdout",
     "output_type": "stream",
     "text": [
      "Parameters (alpha=0.178965, l1_ratio=0.102335):\n",
      "Elasticnet model (alpha=0.178965, l1_ratio=0.102335):\n",
      "  RMSE: 0.7877701356587672\n",
      "  MAE: 0.6125566179224858\n",
      "  R2: 0.20607701748324692\n"
     ]
    },
    {
     "name": "stderr",
     "output_type": "stream",
     "text": [
      "[I 2019-10-27 22:57:26,369] Finished trial#74 resulted in value: 0.7877701356587672. Current best value is 0.7851926259536915 with parameters: {'alpha': 0.1001720071933421, 'l1_ratio': 0.1005012293821135}.\n"
     ]
    },
    {
     "name": "stdout",
     "output_type": "stream",
     "text": [
      "Parameters (alpha=0.143325, l1_ratio=0.166023):\n",
      "Elasticnet model (alpha=0.143325, l1_ratio=0.166023):\n",
      "  RMSE: 0.7871555032000596\n",
      "  MAE: 0.6121718609009281\n",
      "  R2: 0.20731540023189132\n"
     ]
    },
    {
     "name": "stderr",
     "output_type": "stream",
     "text": [
      "[I 2019-10-27 22:57:26,581] Finished trial#75 resulted in value: 0.7871555032000596. Current best value is 0.7851926259536915 with parameters: {'alpha': 0.1001720071933421, 'l1_ratio': 0.1005012293821135}.\n"
     ]
    },
    {
     "name": "stdout",
     "output_type": "stream",
     "text": [
      "Parameters (alpha=0.213956, l1_ratio=0.126550):\n",
      "Elasticnet model (alpha=0.213956, l1_ratio=0.126550):\n",
      "  RMSE: 0.7883159566534879\n",
      "  MAE: 0.6123792142449547\n",
      "  R2: 0.20497646813222636\n"
     ]
    },
    {
     "name": "stderr",
     "output_type": "stream",
     "text": [
      "[I 2019-10-27 22:57:26,776] Finished trial#76 resulted in value: 0.7883159566534879. Current best value is 0.7851926259536915 with parameters: {'alpha': 0.1001720071933421, 'l1_ratio': 0.1005012293821135}.\n"
     ]
    },
    {
     "name": "stdout",
     "output_type": "stream",
     "text": [
      "Parameters (alpha=0.101360, l1_ratio=0.144338):\n",
      "Elasticnet model (alpha=0.101360, l1_ratio=0.144338):\n",
      "  RMSE: 0.786053481864232\n",
      "  MAE: 0.6117173427901598\n",
      "  R2: 0.20953337075289646\n"
     ]
    },
    {
     "name": "stderr",
     "output_type": "stream",
     "text": [
      "[I 2019-10-27 22:57:26,982] Finished trial#77 resulted in value: 0.786053481864232. Current best value is 0.7851926259536915 with parameters: {'alpha': 0.1001720071933421, 'l1_ratio': 0.1005012293821135}.\n"
     ]
    },
    {
     "name": "stdout",
     "output_type": "stream",
     "text": [
      "Parameters (alpha=0.708588, l1_ratio=0.204013):\n",
      "Elasticnet model (alpha=0.708588, l1_ratio=0.204013):\n",
      "  RMSE: 0.812151726213855\n",
      "  MAE: 0.6204025870290427\n",
      "  R2: 0.15617246616352465\n"
     ]
    },
    {
     "name": "stderr",
     "output_type": "stream",
     "text": [
      "[I 2019-10-27 22:57:27,192] Finished trial#78 resulted in value: 0.812151726213855. Current best value is 0.7851926259536915 with parameters: {'alpha': 0.1001720071933421, 'l1_ratio': 0.1005012293821135}.\n"
     ]
    },
    {
     "name": "stdout",
     "output_type": "stream",
     "text": [
      "Parameters (alpha=0.115520, l1_ratio=0.137388):\n",
      "Elasticnet model (alpha=0.115520, l1_ratio=0.137388):\n",
      "  RMSE: 0.7865307584287508\n",
      "  MAE: 0.6120158324414334\n",
      "  R2: 0.20857316704719375\n"
     ]
    },
    {
     "name": "stderr",
     "output_type": "stream",
     "text": [
      "[I 2019-10-27 22:57:27,409] Finished trial#79 resulted in value: 0.7865307584287508. Current best value is 0.7851926259536915 with parameters: {'alpha': 0.1001720071933421, 'l1_ratio': 0.1005012293821135}.\n"
     ]
    },
    {
     "name": "stdout",
     "output_type": "stream",
     "text": [
      "Parameters (alpha=0.569749, l1_ratio=0.178014):\n",
      "Elasticnet model (alpha=0.569749, l1_ratio=0.178014):\n",
      "  RMSE: 0.8032212157108576\n",
      "  MAE: 0.6162616614642645\n",
      "  R2: 0.17462807761311983\n"
     ]
    },
    {
     "name": "stderr",
     "output_type": "stream",
     "text": [
      "[I 2019-10-27 22:57:27,627] Finished trial#80 resulted in value: 0.8032212157108576. Current best value is 0.7851926259536915 with parameters: {'alpha': 0.1001720071933421, 'l1_ratio': 0.1005012293821135}.\n"
     ]
    },
    {
     "name": "stdout",
     "output_type": "stream",
     "text": [
      "Parameters (alpha=0.100962, l1_ratio=0.101080):\n",
      "Elasticnet model (alpha=0.100962, l1_ratio=0.101080):\n",
      "  RMSE: 0.7852373138955527\n",
      "  MAE: 0.6110713183983763\n",
      "  R2: 0.21117401893516818\n"
     ]
    },
    {
     "name": "stderr",
     "output_type": "stream",
     "text": [
      "[I 2019-10-27 22:57:27,848] Finished trial#81 resulted in value: 0.7852373138955527. Current best value is 0.7851926259536915 with parameters: {'alpha': 0.1001720071933421, 'l1_ratio': 0.1005012293821135}.\n"
     ]
    },
    {
     "name": "stdout",
     "output_type": "stream",
     "text": [
      "Parameters (alpha=0.107937, l1_ratio=0.115662):\n",
      "Elasticnet model (alpha=0.107937, l1_ratio=0.115662):\n",
      "  RMSE: 0.7857934092950098\n",
      "  MAE: 0.6114910648965249\n",
      "  R2: 0.21005634961668807\n"
     ]
    },
    {
     "name": "stderr",
     "output_type": "stream",
     "text": [
      "[I 2019-10-27 22:57:28,059] Finished trial#82 resulted in value: 0.7857934092950098. Current best value is 0.7851926259536915 with parameters: {'alpha': 0.1001720071933421, 'l1_ratio': 0.1005012293821135}.\n"
     ]
    },
    {
     "name": "stdout",
     "output_type": "stream",
     "text": [
      "Parameters (alpha=0.102663, l1_ratio=0.153039):\n",
      "Elasticnet model (alpha=0.102663, l1_ratio=0.153039):\n",
      "  RMSE: 0.7862937750095536\n",
      "  MAE: 0.6118966358524326\n",
      "  R2: 0.20905001243318477\n"
     ]
    },
    {
     "name": "stderr",
     "output_type": "stream",
     "text": [
      "[I 2019-10-27 22:57:28,261] Finished trial#83 resulted in value: 0.7862937750095536. Current best value is 0.7851926259536915 with parameters: {'alpha': 0.1001720071933421, 'l1_ratio': 0.1005012293821135}.\n"
     ]
    },
    {
     "name": "stdout",
     "output_type": "stream",
     "text": [
      "Parameters (alpha=0.795771, l1_ratio=0.116898):\n",
      "Elasticnet model (alpha=0.795771, l1_ratio=0.116898):\n",
      "  RMSE: 0.8073898385760105\n",
      "  MAE: 0.6182050964850957\n",
      "  R2: 0.16603868151594126\n"
     ]
    },
    {
     "name": "stderr",
     "output_type": "stream",
     "text": [
      "[I 2019-10-27 22:57:28,463] Finished trial#84 resulted in value: 0.8073898385760105. Current best value is 0.7851926259536915 with parameters: {'alpha': 0.1001720071933421, 'l1_ratio': 0.1005012293821135}.\n"
     ]
    },
    {
     "name": "stdout",
     "output_type": "stream",
     "text": [
      "Parameters (alpha=0.156874, l1_ratio=0.161798):\n",
      "Elasticnet model (alpha=0.156874, l1_ratio=0.161798):\n",
      "  RMSE: 0.7873363593969691\n",
      "  MAE: 0.6121754774677839\n",
      "  R2: 0.2069511052715225\n"
     ]
    },
    {
     "name": "stderr",
     "output_type": "stream",
     "text": [
      "[I 2019-10-27 22:57:28,673] Finished trial#85 resulted in value: 0.7873363593969691. Current best value is 0.7851926259536915 with parameters: {'alpha': 0.1001720071933421, 'l1_ratio': 0.1005012293821135}.\n"
     ]
    },
    {
     "name": "stdout",
     "output_type": "stream",
     "text": [
      "Parameters (alpha=0.101030, l1_ratio=0.139889):\n",
      "Elasticnet model (alpha=0.101030, l1_ratio=0.139889):\n",
      "  RMSE: 0.7859493445641916\n",
      "  MAE: 0.6116377655620703\n",
      "  R2: 0.2097428007973141\n"
     ]
    },
    {
     "name": "stderr",
     "output_type": "stream",
     "text": [
      "[I 2019-10-27 22:57:28,889] Finished trial#86 resulted in value: 0.7859493445641916. Current best value is 0.7851926259536915 with parameters: {'alpha': 0.1001720071933421, 'l1_ratio': 0.1005012293821135}.\n"
     ]
    },
    {
     "name": "stdout",
     "output_type": "stream",
     "text": [
      "Parameters (alpha=0.141246, l1_ratio=0.113775):\n",
      "Elasticnet model (alpha=0.141246, l1_ratio=0.113775):\n",
      "  RMSE: 0.7869594221705476\n",
      "  MAE: 0.6122039193276114\n",
      "  R2: 0.20771026770814605\n"
     ]
    },
    {
     "name": "stderr",
     "output_type": "stream",
     "text": [
      "[I 2019-10-27 22:57:29,105] Finished trial#87 resulted in value: 0.7869594221705476. Current best value is 0.7851926259536915 with parameters: {'alpha': 0.1001720071933421, 'l1_ratio': 0.1005012293821135}.\n"
     ]
    },
    {
     "name": "stdout",
     "output_type": "stream",
     "text": [
      "Parameters (alpha=0.101475, l1_ratio=0.146988):\n",
      "Elasticnet model (alpha=0.101475, l1_ratio=0.146988):\n",
      "  RMSE: 0.7861124437086486\n",
      "  MAE: 0.6117624414827608\n",
      "  R2: 0.20941478055644236\n"
     ]
    },
    {
     "name": "stderr",
     "output_type": "stream",
     "text": [
      "[I 2019-10-27 22:57:29,310] Finished trial#88 resulted in value: 0.7861124437086486. Current best value is 0.7851926259536915 with parameters: {'alpha': 0.1001720071933421, 'l1_ratio': 0.1005012293821135}.\n"
     ]
    },
    {
     "name": "stdout",
     "output_type": "stream",
     "text": [
      "Parameters (alpha=0.192257, l1_ratio=0.134175):\n",
      "Elasticnet model (alpha=0.192257, l1_ratio=0.134175):\n",
      "  RMSE: 0.7879215523785008\n",
      "  MAE: 0.6123262444685204\n",
      "  R2: 0.2057717894444101\n"
     ]
    },
    {
     "name": "stderr",
     "output_type": "stream",
     "text": [
      "[I 2019-10-27 22:57:29,534] Finished trial#89 resulted in value: 0.7879215523785008. Current best value is 0.7851926259536915 with parameters: {'alpha': 0.1001720071933421, 'l1_ratio': 0.1005012293821135}.\n"
     ]
    },
    {
     "name": "stdout",
     "output_type": "stream",
     "text": [
      "Parameters (alpha=0.115720, l1_ratio=0.202365):\n",
      "Elasticnet model (alpha=0.115720, l1_ratio=0.202365):\n",
      "  RMSE: 0.7867880657707583\n",
      "  MAE: 0.6120706054068226\n",
      "  R2: 0.20805526423869403\n"
     ]
    },
    {
     "name": "stderr",
     "output_type": "stream",
     "text": [
      "[I 2019-10-27 22:57:29,745] Finished trial#90 resulted in value: 0.7867880657707583. Current best value is 0.7851926259536915 with parameters: {'alpha': 0.1001720071933421, 'l1_ratio': 0.1005012293821135}.\n"
     ]
    },
    {
     "name": "stdout",
     "output_type": "stream",
     "text": [
      "Parameters (alpha=0.140056, l1_ratio=0.117343):\n",
      "Elasticnet model (alpha=0.140056, l1_ratio=0.117343):\n",
      "  RMSE: 0.7869959632839387\n",
      "  MAE: 0.6122350788345449\n",
      "  R2: 0.20763668876549868\n"
     ]
    },
    {
     "name": "stderr",
     "output_type": "stream",
     "text": [
      "[I 2019-10-27 22:57:29,955] Finished trial#91 resulted in value: 0.7869959632839387. Current best value is 0.7851926259536915 with parameters: {'alpha': 0.1001720071933421, 'l1_ratio': 0.1005012293821135}.\n"
     ]
    },
    {
     "name": "stdout",
     "output_type": "stream",
     "text": [
      "Parameters (alpha=0.111658, l1_ratio=0.172776):\n",
      "Elasticnet model (alpha=0.111658, l1_ratio=0.172776):\n",
      "  RMSE: 0.7868676816753183\n",
      "  MAE: 0.6122489068184915\n",
      "  R2: 0.2078949807027316\n"
     ]
    },
    {
     "name": "stderr",
     "output_type": "stream",
     "text": [
      "[I 2019-10-27 22:57:30,176] Finished trial#92 resulted in value: 0.7868676816753183. Current best value is 0.7851926259536915 with parameters: {'alpha': 0.1001720071933421, 'l1_ratio': 0.1005012293821135}.\n"
     ]
    },
    {
     "name": "stdout",
     "output_type": "stream",
     "text": [
      "Parameters (alpha=0.102226, l1_ratio=0.138890):\n",
      "Elasticnet model (alpha=0.102226, l1_ratio=0.138890):\n",
      "  RMSE: 0.7859858064178633\n",
      "  MAE: 0.6116616078883955\n",
      "  R2: 0.20966947568816707\n"
     ]
    },
    {
     "name": "stderr",
     "output_type": "stream",
     "text": [
      "[I 2019-10-27 22:57:30,392] Finished trial#93 resulted in value: 0.7859858064178633. Current best value is 0.7851926259536915 with parameters: {'alpha': 0.1001720071933421, 'l1_ratio': 0.1005012293821135}.\n"
     ]
    },
    {
     "name": "stdout",
     "output_type": "stream",
     "text": [
      "Parameters (alpha=0.100450, l1_ratio=0.133425):\n",
      "Elasticnet model (alpha=0.100450, l1_ratio=0.133425):\n",
      "  RMSE: 0.78579638864682\n",
      "  MAE: 0.6115202050208874\n",
      "  R2: 0.21005035943026362\n"
     ]
    },
    {
     "name": "stderr",
     "output_type": "stream",
     "text": [
      "[I 2019-10-27 22:57:30,599] Finished trial#94 resulted in value: 0.78579638864682. Current best value is 0.7851926259536915 with parameters: {'alpha': 0.1001720071933421, 'l1_ratio': 0.1005012293821135}.\n"
     ]
    },
    {
     "name": "stdout",
     "output_type": "stream",
     "text": [
      "Parameters (alpha=0.165363, l1_ratio=0.137219):\n",
      "Elasticnet model (alpha=0.165363, l1_ratio=0.137219):\n",
      "  RMSE: 0.7875007409841572\n",
      "  MAE: 0.612318615217771\n",
      "  R2: 0.20661992218018654\n"
     ]
    },
    {
     "name": "stderr",
     "output_type": "stream",
     "text": [
      "[I 2019-10-27 22:57:30,811] Finished trial#95 resulted in value: 0.7875007409841572. Current best value is 0.7851926259536915 with parameters: {'alpha': 0.1001720071933421, 'l1_ratio': 0.1005012293821135}.\n"
     ]
    },
    {
     "name": "stdout",
     "output_type": "stream",
     "text": [
      "Parameters (alpha=0.100057, l1_ratio=0.193486):\n",
      "Elasticnet model (alpha=0.100057, l1_ratio=0.193486):\n",
      "  RMSE: 0.7867423031398828\n",
      "  MAE: 0.6122202469787237\n",
      "  R2: 0.20814738668493094\n"
     ]
    },
    {
     "name": "stderr",
     "output_type": "stream",
     "text": [
      "[I 2019-10-27 22:57:31,022] Finished trial#96 resulted in value: 0.7867423031398828. Current best value is 0.7851926259536915 with parameters: {'alpha': 0.1001720071933421, 'l1_ratio': 0.1005012293821135}.\n"
     ]
    },
    {
     "name": "stdout",
     "output_type": "stream",
     "text": [
      "Parameters (alpha=0.138976, l1_ratio=0.157304):\n",
      "Elasticnet model (alpha=0.138976, l1_ratio=0.157304):\n",
      "  RMSE: 0.7871325748272701\n",
      "  MAE: 0.6122279128775545\n",
      "  R2: 0.20736157840947522\n"
     ]
    },
    {
     "name": "stderr",
     "output_type": "stream",
     "text": [
      "[I 2019-10-27 22:57:31,246] Finished trial#97 resulted in value: 0.7871325748272701. Current best value is 0.7851926259536915 with parameters: {'alpha': 0.1001720071933421, 'l1_ratio': 0.1005012293821135}.\n"
     ]
    },
    {
     "name": "stdout",
     "output_type": "stream",
     "text": [
      "Parameters (alpha=0.355528, l1_ratio=0.128279):\n",
      "Elasticnet model (alpha=0.355528, l1_ratio=0.128279):\n",
      "  RMSE: 0.7920412715871928\n",
      "  MAE: 0.6128568157248606\n",
      "  R2: 0.19744468842243457\n"
     ]
    },
    {
     "name": "stderr",
     "output_type": "stream",
     "text": [
      "[I 2019-10-27 22:57:31,452] Finished trial#98 resulted in value: 0.7920412715871928. Current best value is 0.7851926259536915 with parameters: {'alpha': 0.1001720071933421, 'l1_ratio': 0.1005012293821135}.\n"
     ]
    },
    {
     "name": "stdout",
     "output_type": "stream",
     "text": [
      "Parameters (alpha=0.100450, l1_ratio=0.235066):\n",
      "Elasticnet model (alpha=0.100450, l1_ratio=0.235066):\n",
      "  RMSE: 0.7865967154589315\n",
      "  MAE: 0.6120108226622007\n",
      "  R2: 0.20844042626966508\n"
     ]
    },
    {
     "name": "stderr",
     "output_type": "stream",
     "text": [
      "[I 2019-10-27 22:57:31,670] Finished trial#99 resulted in value: 0.7865967154589315. Current best value is 0.7851926259536915 with parameters: {'alpha': 0.1001720071933421, 'l1_ratio': 0.1005012293821135}.\n"
     ]
    }
   ],
   "source": [
    "import optuna\n",
    "optuna.logging.set_verbosity(optuna.logging.INFO)\n",
    "# Define an objective function to be minimized.\n",
    "def objective(trial):\n",
    "\n",
    "    suggested_alpha = trial.suggest_uniform('alpha', 0.1, 0.8)\n",
    "    suggested_l1_ratio = trial.suggest_uniform('l1_ratio', 0.1, 0.8)\n",
    "        \n",
    "    error = train_elasticnet(suggested_alpha, suggested_l1_ratio)\n",
    "    \n",
    "    return error  # A objective value linked with the Trial object.\n",
    "\n",
    "study = optuna.create_study()  # Create a new study.\n",
    "study.optimize(objective, n_trials=100)  # Invoke optimization of the objective function."
   ]
  },
  {
   "cell_type": "code",
   "execution_count": 54,
   "metadata": {},
   "outputs": [
    {
     "data": {
      "text/plain": [
       "{'alpha': 0.1001720071933421, 'l1_ratio': 0.1005012293821135}"
      ]
     },
     "execution_count": 54,
     "metadata": {},
     "output_type": "execute_result"
    }
   ],
   "source": [
    "study.best_params"
   ]
  },
  {
   "cell_type": "code",
   "execution_count": null,
   "metadata": {},
   "outputs": [],
   "source": []
  }
 ],
 "metadata": {
  "kernelspec": {
   "display_name": "Python 3",
   "language": "python",
   "name": "python3"
  },
  "language_info": {
   "codemirror_mode": {
    "name": "ipython",
    "version": 3
   },
   "file_extension": ".py",
   "mimetype": "text/x-python",
   "name": "python",
   "nbconvert_exporter": "python",
   "pygments_lexer": "ipython3",
   "version": "3.7.3"
  }
 },
 "nbformat": 4,
 "nbformat_minor": 2
}
