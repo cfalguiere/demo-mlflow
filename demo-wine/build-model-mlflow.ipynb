{
 "cells": [
  {
   "cell_type": "markdown",
   "metadata": {},
   "source": [
    "# Demo Wine avec MLflow"
   ]
  },
  {
   "cell_type": "markdown",
   "metadata": {},
   "source": [
    "## Setup MLflow\n",
    "Par defaut suppose que le repository est le répertoire local mlruns\n",
    "\n",
    "Pour travailler en coopération, on va désigner le serveur \n",
    "soit en ligne de commande avec\n",
    "```\n",
    "export MLFLOW_TRACKING_URI=http://localhost:5000\n",
    "```\n",
    "soit par programme"
   ]
  },
  {
   "cell_type": "code",
   "execution_count": 101,
   "metadata": {},
   "outputs": [],
   "source": [
    "import mlflow\n",
    "server_uri = \"http://localhost:5000\"\n",
    "mlflow.set_tracking_uri(server_uri)"
   ]
  },
  {
   "cell_type": "markdown",
   "metadata": {},
   "source": [
    "## Création d'une expérimentation\n",
    "\n",
    "L'expérimentation peut être crée puis sélectionnée en ligne de commande par\n",
    "```\n",
    "mlflow experiments create --experiment-name ac2  --artifact-location /opt/mlflow/mlruns/\n",
    "export MLFLOW_EXPERIMENT_ID=1\n",
    "```\n",
    "ou par programme (voir ci-après)"
   ]
  },
  {
   "cell_type": "code",
   "execution_count": 112,
   "metadata": {},
   "outputs": [
    {
     "name": "stdout",
     "output_type": "stream",
     "text": [
      "INFO: 'wine5' does not exist. Creating a new experiment\n"
     ]
    }
   ],
   "source": [
    "mlflow.set_experiment(\"wine5\")"
   ]
  },
  {
   "cell_type": "markdown",
   "metadata": {},
   "source": [
    "## Entraînement"
   ]
  },
  {
   "cell_type": "code",
   "execution_count": 73,
   "metadata": {},
   "outputs": [],
   "source": [
    "import warnings\n",
    "import logging\n",
    "logging.basicConfig(level=logging.WARN)\n",
    "logger = logging.getLogger(__name__)\n",
    "\n",
    "import numpy as np\n",
    "warnings.filterwarnings(\"ignore\")\n",
    "np.random.seed(40)\n",
    "\n",
    "import mlflow.sklearn"
   ]
  },
  {
   "cell_type": "code",
   "execution_count": 74,
   "metadata": {},
   "outputs": [],
   "source": [
    "import pandas as pd \n",
    "\n",
    "# read data from file\n",
    "df = pd.read_csv(\"wine-quality.csv\")"
   ]
  },
  {
   "cell_type": "code",
   "execution_count": 75,
   "metadata": {},
   "outputs": [],
   "source": [
    "from sklearn.model_selection import train_test_split\n",
    "# Split the data into training and test sets. (0.75, 0.25) split.\n",
    "train, test = train_test_split(df)\n",
    "\n",
    "# The predicted column is \"quality\" which is a scalar from [3, 9]\n",
    "train_x = train.drop([\"quality\"], axis=1)\n",
    "test_x = test.drop([\"quality\"], axis=1)\n",
    "train_y = train[[\"quality\"]]\n",
    "test_y = test[[\"quality\"]]\n",
    "\n",
    "# make it easy to pass datasets\n",
    "datasets = { 'train_x': train_x, 'train_y': train_y, 'test_x': test_x, 'test_y': test_y }"
   ]
  },
  {
   "cell_type": "code",
   "execution_count": 76,
   "metadata": {},
   "outputs": [
    {
     "name": "stdout",
     "output_type": "stream",
     "text": [
      "['train_x : (3673, 11)', 'train_y : (3673, 1)', 'test_x : (1225, 11)', 'test_y : (1225, 1)']\n"
     ]
    }
   ],
   "source": [
    "shapes = [ \"%s : %s\" % (name, dataset.shape) for (name,dataset) in datasets.items() ]\n",
    "print(shapes)"
   ]
  },
  {
   "cell_type": "code",
   "execution_count": 46,
   "metadata": {},
   "outputs": [],
   "source": [
    "def eval_parameters(in_alpha, in_l1_ratio):\n",
    "    # Set default values if no alpha is provided\n",
    "    alpha = float(in_alpha) if not in_alpha is None else 0.5\n",
    "    # Set default values if no l1_ratio is provided\n",
    "    l1_ratio = float(in_l1_ratio) if not in_l1_ratio is None else 0.5\n",
    "    return alpha, l1_ratio"
   ]
  },
  {
   "cell_type": "code",
   "execution_count": 47,
   "metadata": {},
   "outputs": [],
   "source": [
    "def eval_metrics(actual, predicted):\n",
    "    from sklearn.metrics import mean_squared_error, mean_absolute_error, r2_score\n",
    "    rmse = np.sqrt(mean_squared_error(actual, predicted))\n",
    "    mae = mean_absolute_error(actual, predicted)\n",
    "    r2 = r2_score(actual, predicted)\n",
    "    return rmse, mae, r2\n"
   ]
  },
  {
   "cell_type": "code",
   "execution_count": 205,
   "metadata": {},
   "outputs": [],
   "source": [
    "from sklearn.linear_model import lasso_path, enet_path\n",
    "import matplotlib.pyplot as plt\n",
    "from itertools import cycle\n",
    "def plot_enet_descent_path(tmpdir, X, y, l1_ratio):\n",
    "    # Compute paths\n",
    "    eps = 5e-3  # the smaller it is the longer is the path\n",
    "\n",
    "    # Reference the global image variable\n",
    "    global image\n",
    "    \n",
    "    print(\"Computing regularization path using ElasticNet.\")\n",
    "    alphas_enet, coefs_enet, _ = enet_path(X, y, eps=eps, l1_ratio=l1_ratio, fit_intercept=False)\n",
    "\n",
    "    # Display results\n",
    "    fig = plt.figure(1)\n",
    "    ax = plt.gca()\n",
    "\n",
    "    colors = cycle(['b', 'r', 'g', 'c', 'k'])\n",
    "    neg_log_alphas_enet = -np.log10(alphas_enet)\n",
    "    for coef_e, c in zip(coefs_enet, colors):\n",
    "        l1 = plt.plot(neg_log_alphas_enet, coef_e, linestyle='--', c=c)\n",
    "\n",
    "    plt.xlabel('-Log(alpha)')\n",
    "    plt.ylabel('coefficients')\n",
    "    title = 'ElasticNet Path by alpha for l1_ratio = ' + str(l1_ratio)\n",
    "    plt.title(title)\n",
    "    plt.axis('tight')\n",
    "\n",
    "    # Display images\n",
    "    image = fig\n",
    "    \n",
    "    # Save figure\n",
    "    fig.savefig(os.path.join(tempdir, \"ElasticNet-paths.png\"))\n",
    "\n",
    "    # Close plot\n",
    "    plt.close(fig)\n",
    "\n",
    "    # Return images\n",
    "    return image    \n"
   ]
  },
  {
   "cell_type": "code",
   "execution_count": 210,
   "metadata": {},
   "outputs": [],
   "source": [
    "import tempfile\n",
    "import shutil\n",
    "import os\n",
    "def train_elasticnet(in_alpha, in_l1_ratio, trial=None):\n",
    "    from sklearn.linear_model import ElasticNet\n",
    "\n",
    "    alpha, l1_ratio = eval_parameters(in_alpha, in_l1_ratio)\n",
    "    print(\"Parameters (alpha=%f, l1_ratio=%f):\" % (alpha, l1_ratio))\n",
    "    \n",
    "    run_name = \"en_%f_%f\" % (alpha,l1_ratio)\n",
    "    with mlflow.start_run() as run:\n",
    "        # train with ElasticNet\n",
    "        lr = ElasticNet(alpha=alpha, l1_ratio=l1_ratio, random_state=42)\n",
    "        lr.fit(train_x, train_y)\n",
    "\n",
    "        # Evaluate Metrics\n",
    "        predicted_qualities = lr.predict(test_x)\n",
    "        (rmse, mae, r2) = eval_metrics(test_y, predicted_qualities)\n",
    "\n",
    "        # Print out metrics\n",
    "        print(\"Elasticnet model (alpha=%f, l1_ratio=%f):\" % (alpha, l1_ratio))\n",
    "        print(\"  RMSE: %s\" % rmse)\n",
    "        print(\"  MAE: %s\" % mae)\n",
    "        print(\"  R2: %s\" % r2)\n",
    "\n",
    "        # Log parameter, metrics, and model to MLflow\n",
    "        mlflow.log_param(\"alpha\", alpha)\n",
    "        mlflow.log_param(\"l1_ratio\", l1_ratio)\n",
    "        mlflow.log_metric(\"rmse\", rmse)\n",
    "        mlflow.log_metric(\"mae\", mae)\n",
    "        mlflow.log_metric(\"r2\", r2)\n",
    "        mlflow.set_tag(\"algo\", \"ElastiNet\")\n",
    "        if trial != None:\n",
    "             mlflow.set_tag(\"trial\", trial)\n",
    "        \n",
    "        #run_id = run.info.run_id\n",
    "        # store info       \n",
    "        workdir = tempfile.mkdtemp()\n",
    "        with tempfile.TemporaryDirectory() as tmpdirname:  \n",
    "            coef_file_name = os.path.join(tmpdirname, \"coefs.txt\")\n",
    "            with open(coef_file_name, \"w\") as f: \n",
    "                f.write(\"Coefs:\\n\")         \n",
    "                print(\"\\nCoefs:\")\n",
    "                [ f.write(\"\\t %s: %s\\n\" % (name, coef)) for (name, coef) in zip(train_x.columns, lr.coef_) ]\n",
    "                [ print(\"\\t %s: %s\" % (name, coef)) for (name, coef) in zip(train_x.columns, lr.coef_) ]\n",
    "                f.write(\"\\t intercept: %s\\n\" % lr.intercept_) \n",
    "                print(\"\\t intercept: %s\" % lr.intercept_) \n",
    "\n",
    "            # Call plot_enet_descent_path\n",
    "            #image = plot_enet_descent_path(tmpdirname, train_x, train_y, l1_ratio)\n",
    "\n",
    "            # Log artifacts (output files)\n",
    "            mlflow.log_artifacts(tmpdirname, artifact_path=\"artifacts\")\n",
    "\n",
    "\n",
    "        # store model\n",
    "        mlflow.sklearn.log_model(lr, \"model\")\n",
    "        \n",
    "        return rmse"
   ]
  },
  {
   "cell_type": "code",
   "execution_count": 208,
   "metadata": {},
   "outputs": [
    {
     "name": "stdout",
     "output_type": "stream",
     "text": [
      "Parameters (alpha=0.500000, l1_ratio=0.500000):\n",
      "Elasticnet model (alpha=0.500000, l1_ratio=0.500000):\n",
      "  RMSE: 0.82224284975954\n",
      "  MAE: 0.6278761410160693\n",
      "  R2: 0.12678721972772689\n",
      "\n",
      "Coefs:\n",
      "\t fixed acidity: -0.0\n",
      "\t volatile acidity: -0.0\n",
      "\t citric acid: 0.0\n",
      "\t residual sugar: -0.0\n",
      "\t chlorides: -0.0\n",
      "\t free sulfur dioxide: 0.008224722161159152\n",
      "\t total sulfur dioxide: -0.004286873122114217\n",
      "\t density: -0.0\n",
      "\t pH: 0.0\n",
      "\t sulphates: 0.0\n",
      "\t alcohol: 0.09612081747951785\n",
      "\t intercept: [5.16789184]\n"
     ]
    },
    {
     "data": {
      "text/plain": [
       "0.82224284975954"
      ]
     },
     "execution_count": 208,
     "metadata": {},
     "output_type": "execute_result"
    }
   ],
   "source": [
    "train_elasticnet(0.5, 0.5) # alpha 0.5, L1 0.5"
   ]
  },
  {
   "cell_type": "code",
   "execution_count": 211,
   "metadata": {},
   "outputs": [
    {
     "name": "stdout",
     "output_type": "stream",
     "text": [
      "Parameters (alpha=0.500000, l1_ratio=0.400000):\n",
      "Elasticnet model (alpha=0.500000, l1_ratio=0.400000):\n",
      "  RMSE: 0.8134651568415164\n",
      "  MAE: 0.6249674191990106\n",
      "  R2: 0.1453313314484228\n",
      "\n",
      "Coefs:\n",
      "\t fixed acidity: -0.0\n",
      "\t volatile acidity: -0.0\n",
      "\t citric acid: 0.0\n",
      "\t residual sugar: -0.0\n",
      "\t chlorides: -0.0\n",
      "\t free sulfur dioxide: 0.008518403022712659\n",
      "\t total sulfur dioxide: -0.003996324972212648\n",
      "\t density: -0.0\n",
      "\t pH: 0.0\n",
      "\t sulphates: 0.0\n",
      "\t alcohol: 0.1258556349366895\n",
      "\t intercept: [4.80454277]\n"
     ]
    },
    {
     "data": {
      "text/plain": [
       "0.8134651568415164"
      ]
     },
     "execution_count": 211,
     "metadata": {},
     "output_type": "execute_result"
    }
   ],
   "source": [
    "train_elasticnet(0.5, 0.4)"
   ]
  },
  {
   "cell_type": "code",
   "execution_count": null,
   "metadata": {},
   "outputs": [],
   "source": [
    "!pip install optuna"
   ]
  },
  {
   "cell_type": "code",
   "execution_count": 144,
   "metadata": {},
   "outputs": [
    {
     "name": "stderr",
     "output_type": "stream",
     "text": [
      "[W 2019-11-19 20:52:35,660] The use of `Trial.trial_id` is deprecated. Please use `Trial.number` instead.\n"
     ]
    },
    {
     "name": "stdout",
     "output_type": "stream",
     "text": [
      "Parameters (alpha=0.747833, l1_ratio=0.704219):\n",
      "Elasticnet model (alpha=0.747833, l1_ratio=0.704219):\n",
      "  RMSE: 0.8594278650219525\n",
      "  MAE: 0.648058081447884\n",
      "  R2: 0.04602117824947993\n"
     ]
    },
    {
     "name": "stderr",
     "output_type": "stream",
     "text": [
      "[I 2019-11-19 20:52:36,001] Finished trial#0 resulted in value: 0.8594278650219525. Current best value is 0.8594278650219525 with parameters: {'alpha': 0.7478331033104612, 'l1_ratio': 0.704218605906453}.\n",
      "[W 2019-11-19 20:52:36,006] The use of `Trial.trial_id` is deprecated. Please use `Trial.number` instead.\n"
     ]
    },
    {
     "name": "stdout",
     "output_type": "stream",
     "text": [
      "Parameters (alpha=0.230129, l1_ratio=0.138279):\n",
      "Elasticnet model (alpha=0.230129, l1_ratio=0.138279):\n",
      "  RMSE: 0.7856004334637345\n",
      "  MAE: 0.615250791861742\n",
      "  R2: 0.20288074286893298\n"
     ]
    },
    {
     "name": "stderr",
     "output_type": "stream",
     "text": [
      "[I 2019-11-19 20:52:36,356] Finished trial#1 resulted in value: 0.7856004334637345. Current best value is 0.7856004334637345 with parameters: {'alpha': 0.23012921321484012, 'l1_ratio': 0.1382792394893255}.\n",
      "[W 2019-11-19 20:52:36,358] The use of `Trial.trial_id` is deprecated. Please use `Trial.number` instead.\n"
     ]
    },
    {
     "name": "stdout",
     "output_type": "stream",
     "text": [
      "Parameters (alpha=0.311145, l1_ratio=0.394130):\n",
      "Elasticnet model (alpha=0.311145, l1_ratio=0.394130):\n",
      "  RMSE: 0.798794979849952\n",
      "  MAE: 0.6209852412288732\n",
      "  R2: 0.17587986322089522\n"
     ]
    },
    {
     "name": "stderr",
     "output_type": "stream",
     "text": [
      "[I 2019-11-19 20:52:36,695] Finished trial#2 resulted in value: 0.798794979849952. Current best value is 0.7856004334637345 with parameters: {'alpha': 0.23012921321484012, 'l1_ratio': 0.1382792394893255}.\n",
      "[W 2019-11-19 20:52:36,703] The use of `Trial.trial_id` is deprecated. Please use `Trial.number` instead.\n"
     ]
    },
    {
     "name": "stdout",
     "output_type": "stream",
     "text": [
      "Parameters (alpha=0.670664, l1_ratio=0.682124):\n",
      "Elasticnet model (alpha=0.670664, l1_ratio=0.682124):\n",
      "  RMSE: 0.8592382549447765\n",
      "  MAE: 0.6482131128685734\n",
      "  R2: 0.04644207231572384\n"
     ]
    },
    {
     "name": "stderr",
     "output_type": "stream",
     "text": [
      "[I 2019-11-19 20:52:37,048] Finished trial#3 resulted in value: 0.8592382549447765. Current best value is 0.7856004334637345 with parameters: {'alpha': 0.23012921321484012, 'l1_ratio': 0.1382792394893255}.\n",
      "[W 2019-11-19 20:52:37,055] The use of `Trial.trial_id` is deprecated. Please use `Trial.number` instead.\n"
     ]
    },
    {
     "name": "stdout",
     "output_type": "stream",
     "text": [
      "Parameters (alpha=0.765408, l1_ratio=0.645781):\n",
      "Elasticnet model (alpha=0.765408, l1_ratio=0.645781):\n",
      "  RMSE: 0.8593325124674904\n",
      "  MAE: 0.6481132185248797\n",
      "  R2: 0.04623285225974705\n"
     ]
    },
    {
     "name": "stderr",
     "output_type": "stream",
     "text": [
      "[I 2019-11-19 20:52:37,404] Finished trial#4 resulted in value: 0.8593325124674904. Current best value is 0.7856004334637345 with parameters: {'alpha': 0.23012921321484012, 'l1_ratio': 0.1382792394893255}.\n",
      "[W 2019-11-19 20:52:37,408] The use of `Trial.trial_id` is deprecated. Please use `Trial.number` instead.\n"
     ]
    },
    {
     "name": "stdout",
     "output_type": "stream",
     "text": [
      "Parameters (alpha=0.512885, l1_ratio=0.437418):\n",
      "Elasticnet model (alpha=0.512885, l1_ratio=0.437418):\n",
      "  RMSE: 0.8177890369999725\n",
      "  MAE: 0.6263327512489808\n",
      "  R2: 0.1362213988875023\n"
     ]
    },
    {
     "name": "stderr",
     "output_type": "stream",
     "text": [
      "[I 2019-11-19 20:52:37,747] Finished trial#5 resulted in value: 0.8177890369999725. Current best value is 0.7856004334637345 with parameters: {'alpha': 0.23012921321484012, 'l1_ratio': 0.1382792394893255}.\n",
      "[W 2019-11-19 20:52:37,754] The use of `Trial.trial_id` is deprecated. Please use `Trial.number` instead.\n"
     ]
    },
    {
     "name": "stdout",
     "output_type": "stream",
     "text": [
      "Parameters (alpha=0.474913, l1_ratio=0.132097):\n",
      "Elasticnet model (alpha=0.474913, l1_ratio=0.132097):\n",
      "  RMSE: 0.7956868524094556\n",
      "  MAE: 0.6193953181140316\n",
      "  R2: 0.18228072228801506\n"
     ]
    },
    {
     "name": "stderr",
     "output_type": "stream",
     "text": [
      "[I 2019-11-19 20:52:38,114] Finished trial#6 resulted in value: 0.7956868524094556. Current best value is 0.7856004334637345 with parameters: {'alpha': 0.23012921321484012, 'l1_ratio': 0.1382792394893255}.\n",
      "[W 2019-11-19 20:52:38,122] The use of `Trial.trial_id` is deprecated. Please use `Trial.number` instead.\n"
     ]
    },
    {
     "name": "stdout",
     "output_type": "stream",
     "text": [
      "Parameters (alpha=0.633333, l1_ratio=0.660651):\n",
      "Elasticnet model (alpha=0.633333, l1_ratio=0.660651):\n",
      "  RMSE: 0.8591581862858239\n",
      "  MAE: 0.6483581514025663\n",
      "  R2: 0.04661977982978671\n"
     ]
    },
    {
     "name": "stderr",
     "output_type": "stream",
     "text": [
      "[I 2019-11-19 20:52:38,482] Finished trial#7 resulted in value: 0.8591581862858239. Current best value is 0.7856004334637345 with parameters: {'alpha': 0.23012921321484012, 'l1_ratio': 0.1382792394893255}.\n",
      "[W 2019-11-19 20:52:38,490] The use of `Trial.trial_id` is deprecated. Please use `Trial.number` instead.\n"
     ]
    },
    {
     "name": "stdout",
     "output_type": "stream",
     "text": [
      "Parameters (alpha=0.266714, l1_ratio=0.289272):\n",
      "Elasticnet model (alpha=0.266714, l1_ratio=0.289272):\n",
      "  RMSE: 0.7916293854561741\n",
      "  MAE: 0.6182267137507418\n",
      "  R2: 0.1905990939892478\n"
     ]
    },
    {
     "name": "stderr",
     "output_type": "stream",
     "text": [
      "[I 2019-11-19 20:52:38,835] Finished trial#8 resulted in value: 0.7916293854561741. Current best value is 0.7856004334637345 with parameters: {'alpha': 0.23012921321484012, 'l1_ratio': 0.1382792394893255}.\n",
      "[W 2019-11-19 20:52:38,844] The use of `Trial.trial_id` is deprecated. Please use `Trial.number` instead.\n"
     ]
    },
    {
     "name": "stdout",
     "output_type": "stream",
     "text": [
      "Parameters (alpha=0.149517, l1_ratio=0.132079):\n",
      "Elasticnet model (alpha=0.149517, l1_ratio=0.132079):\n",
      "  RMSE: 0.7826920215171774\n",
      "  MAE: 0.6137056214619601\n",
      "  R2: 0.2087719303680402\n"
     ]
    },
    {
     "name": "stderr",
     "output_type": "stream",
     "text": [
      "[I 2019-11-19 20:52:39,198] Finished trial#9 resulted in value: 0.7826920215171774. Current best value is 0.7826920215171774 with parameters: {'alpha': 0.14951687827376203, 'l1_ratio': 0.1320793890792829}.\n",
      "[W 2019-11-19 20:52:39,207] The use of `Trial.trial_id` is deprecated. Please use `Trial.number` instead.\n"
     ]
    },
    {
     "name": "stdout",
     "output_type": "stream",
     "text": [
      "Parameters (alpha=0.103435, l1_ratio=0.256178):\n",
      "Elasticnet model (alpha=0.103435, l1_ratio=0.256178):\n",
      "  RMSE: 0.7824425035246286\n",
      "  MAE: 0.6137013265672588\n",
      "  R2: 0.20927632843277577\n"
     ]
    },
    {
     "name": "stderr",
     "output_type": "stream",
     "text": [
      "[I 2019-11-19 20:52:39,549] Finished trial#10 resulted in value: 0.7824425035246286. Current best value is 0.7824425035246286 with parameters: {'alpha': 0.10343520338140716, 'l1_ratio': 0.25617786551846433}.\n",
      "[W 2019-11-19 20:52:39,558] The use of `Trial.trial_id` is deprecated. Please use `Trial.number` instead.\n"
     ]
    },
    {
     "name": "stdout",
     "output_type": "stream",
     "text": [
      "Parameters (alpha=0.102987, l1_ratio=0.256114):\n",
      "Elasticnet model (alpha=0.102987, l1_ratio=0.256114):\n",
      "  RMSE: 0.7824244660801936\n",
      "  MAE: 0.6136911739644977\n",
      "  R2: 0.20931278470867776\n"
     ]
    },
    {
     "name": "stderr",
     "output_type": "stream",
     "text": [
      "[I 2019-11-19 20:52:39,903] Finished trial#11 resulted in value: 0.7824244660801936. Current best value is 0.7824244660801936 with parameters: {'alpha': 0.10298690459807185, 'l1_ratio': 0.25611367569816706}.\n",
      "[W 2019-11-19 20:52:39,914] The use of `Trial.trial_id` is deprecated. Please use `Trial.number` instead.\n"
     ]
    },
    {
     "name": "stdout",
     "output_type": "stream",
     "text": [
      "Parameters (alpha=0.115881, l1_ratio=0.269517):\n",
      "Elasticnet model (alpha=0.115881, l1_ratio=0.269517):\n",
      "  RMSE: 0.7831041776408941\n",
      "  MAE: 0.6141156701922014\n",
      "  R2: 0.20793840875841696\n"
     ]
    },
    {
     "name": "stderr",
     "output_type": "stream",
     "text": [
      "[I 2019-11-19 20:52:40,275] Finished trial#12 resulted in value: 0.7831041776408941. Current best value is 0.7824244660801936 with parameters: {'alpha': 0.10298690459807185, 'l1_ratio': 0.25611367569816706}.\n",
      "[W 2019-11-19 20:52:40,286] The use of `Trial.trial_id` is deprecated. Please use `Trial.number` instead.\n"
     ]
    },
    {
     "name": "stdout",
     "output_type": "stream",
     "text": [
      "Parameters (alpha=0.106529, l1_ratio=0.274752):\n",
      "Elasticnet model (alpha=0.106529, l1_ratio=0.274752):\n",
      "  RMSE: 0.7827448155548922\n",
      "  MAE: 0.6138911923289017\n",
      "  R2: 0.20866518714796245\n"
     ]
    },
    {
     "name": "stderr",
     "output_type": "stream",
     "text": [
      "[I 2019-11-19 20:52:40,645] Finished trial#13 resulted in value: 0.7827448155548922. Current best value is 0.7824244660801936 with parameters: {'alpha': 0.10298690459807185, 'l1_ratio': 0.25611367569816706}.\n",
      "[W 2019-11-19 20:52:40,659] The use of `Trial.trial_id` is deprecated. Please use `Trial.number` instead.\n"
     ]
    },
    {
     "name": "stdout",
     "output_type": "stream",
     "text": [
      "Parameters (alpha=0.384271, l1_ratio=0.539249):\n",
      "Elasticnet model (alpha=0.384271, l1_ratio=0.539249):\n",
      "  RMSE: 0.8118012194834267\n",
      "  MAE: 0.6244624838751374\n",
      "  R2: 0.1488241931920652\n"
     ]
    },
    {
     "name": "stderr",
     "output_type": "stream",
     "text": [
      "[I 2019-11-19 20:52:41,014] Finished trial#14 resulted in value: 0.8118012194834267. Current best value is 0.7824244660801936 with parameters: {'alpha': 0.10298690459807185, 'l1_ratio': 0.25611367569816706}.\n",
      "[W 2019-11-19 20:52:41,023] The use of `Trial.trial_id` is deprecated. Please use `Trial.number` instead.\n"
     ]
    },
    {
     "name": "stdout",
     "output_type": "stream",
     "text": [
      "Parameters (alpha=0.185840, l1_ratio=0.352271):\n",
      "Elasticnet model (alpha=0.185840, l1_ratio=0.352271):\n",
      "  RMSE: 0.7880146705410891\n",
      "  MAE: 0.6167039063644454\n",
      "  R2: 0.19797394347269437\n"
     ]
    },
    {
     "name": "stderr",
     "output_type": "stream",
     "text": [
      "[I 2019-11-19 20:52:41,375] Finished trial#15 resulted in value: 0.7880146705410891. Current best value is 0.7824244660801936 with parameters: {'alpha': 0.10298690459807185, 'l1_ratio': 0.25611367569816706}.\n",
      "[W 2019-11-19 20:52:41,384] The use of `Trial.trial_id` is deprecated. Please use `Trial.number` instead.\n"
     ]
    },
    {
     "name": "stdout",
     "output_type": "stream",
     "text": [
      "Parameters (alpha=0.347622, l1_ratio=0.195728):\n",
      "Elasticnet model (alpha=0.347622, l1_ratio=0.195728):\n",
      "  RMSE: 0.7928438426874318\n",
      "  MAE: 0.6185005949957344\n",
      "  R2: 0.1881137471594032\n"
     ]
    },
    {
     "name": "stderr",
     "output_type": "stream",
     "text": [
      "[I 2019-11-19 20:52:41,734] Finished trial#16 resulted in value: 0.7928438426874318. Current best value is 0.7824244660801936 with parameters: {'alpha': 0.10298690459807185, 'l1_ratio': 0.25611367569816706}.\n",
      "[W 2019-11-19 20:52:41,744] The use of `Trial.trial_id` is deprecated. Please use `Trial.number` instead.\n"
     ]
    },
    {
     "name": "stdout",
     "output_type": "stream",
     "text": [
      "Parameters (alpha=0.104332, l1_ratio=0.535034):\n",
      "Elasticnet model (alpha=0.104332, l1_ratio=0.535034):\n",
      "  RMSE: 0.7850444088474395\n",
      "  MAE: 0.6153964025095494\n",
      "  R2: 0.2040086981550615\n"
     ]
    },
    {
     "name": "stderr",
     "output_type": "stream",
     "text": [
      "[I 2019-11-19 20:52:42,099] Finished trial#17 resulted in value: 0.7850444088474395. Current best value is 0.7824244660801936 with parameters: {'alpha': 0.10298690459807185, 'l1_ratio': 0.25611367569816706}.\n",
      "[W 2019-11-19 20:52:42,113] The use of `Trial.trial_id` is deprecated. Please use `Trial.number` instead.\n"
     ]
    },
    {
     "name": "stdout",
     "output_type": "stream",
     "text": [
      "Parameters (alpha=0.226868, l1_ratio=0.206267):\n",
      "Elasticnet model (alpha=0.226868, l1_ratio=0.206267):\n",
      "  RMSE: 0.7872831564694485\n",
      "  MAE: 0.6161572509842158\n",
      "  R2: 0.1994622940183336\n"
     ]
    },
    {
     "name": "stderr",
     "output_type": "stream",
     "text": [
      "[I 2019-11-19 20:52:42,465] Finished trial#18 resulted in value: 0.7872831564694485. Current best value is 0.7824244660801936 with parameters: {'alpha': 0.10298690459807185, 'l1_ratio': 0.25611367569816706}.\n",
      "[W 2019-11-19 20:52:42,479] The use of `Trial.trial_id` is deprecated. Please use `Trial.number` instead.\n"
     ]
    },
    {
     "name": "stdout",
     "output_type": "stream",
     "text": [
      "Parameters (alpha=0.397847, l1_ratio=0.350606):\n",
      "Elasticnet model (alpha=0.397847, l1_ratio=0.350606):\n",
      "  RMSE: 0.802747052580987\n",
      "  MAE: 0.6218854058562556\n",
      "  R2: 0.1677049501743677\n"
     ]
    },
    {
     "name": "stderr",
     "output_type": "stream",
     "text": [
      "[I 2019-11-19 20:52:42,838] Finished trial#19 resulted in value: 0.802747052580987. Current best value is 0.7824244660801936 with parameters: {'alpha': 0.10298690459807185, 'l1_ratio': 0.25611367569816706}.\n",
      "[W 2019-11-19 20:52:42,848] The use of `Trial.trial_id` is deprecated. Please use `Trial.number` instead.\n"
     ]
    },
    {
     "name": "stdout",
     "output_type": "stream",
     "text": [
      "Parameters (alpha=0.155657, l1_ratio=0.510116):\n",
      "Elasticnet model (alpha=0.155657, l1_ratio=0.510116):\n",
      "  RMSE: 0.7886334628248477\n",
      "  MAE: 0.6171466158362923\n",
      "  R2: 0.1967138593402752\n"
     ]
    },
    {
     "name": "stderr",
     "output_type": "stream",
     "text": [
      "[I 2019-11-19 20:52:43,197] Finished trial#20 resulted in value: 0.7886334628248477. Current best value is 0.7824244660801936 with parameters: {'alpha': 0.10298690459807185, 'l1_ratio': 0.25611367569816706}.\n",
      "[W 2019-11-19 20:52:43,206] The use of `Trial.trial_id` is deprecated. Please use `Trial.number` instead.\n"
     ]
    },
    {
     "name": "stdout",
     "output_type": "stream",
     "text": [
      "Parameters (alpha=0.151925, l1_ratio=0.224130):\n",
      "Elasticnet model (alpha=0.151925, l1_ratio=0.224130):\n",
      "  RMSE: 0.7841184259342462\n",
      "  MAE: 0.6146536826779797\n",
      "  R2: 0.20588538089007513\n"
     ]
    },
    {
     "name": "stderr",
     "output_type": "stream",
     "text": [
      "[I 2019-11-19 20:52:43,556] Finished trial#21 resulted in value: 0.7841184259342462. Current best value is 0.7824244660801936 with parameters: {'alpha': 0.10298690459807185, 'l1_ratio': 0.25611367569816706}.\n",
      "[W 2019-11-19 20:52:43,566] The use of `Trial.trial_id` is deprecated. Please use `Trial.number` instead.\n"
     ]
    },
    {
     "name": "stdout",
     "output_type": "stream",
     "text": [
      "Parameters (alpha=0.107654, l1_ratio=0.105799):\n",
      "Elasticnet model (alpha=0.107654, l1_ratio=0.105799):\n",
      "  RMSE: 0.7798766649659757\n",
      "  MAE: 0.6117281269740258\n",
      "  R2: 0.21445381476230418\n"
     ]
    },
    {
     "name": "stderr",
     "output_type": "stream",
     "text": [
      "[I 2019-11-19 20:52:43,913] Finished trial#22 resulted in value: 0.7798766649659757. Current best value is 0.7798766649659757 with parameters: {'alpha': 0.10765356742249957, 'l1_ratio': 0.10579851513989386}.\n",
      "[W 2019-11-19 20:52:43,925] The use of `Trial.trial_id` is deprecated. Please use `Trial.number` instead.\n"
     ]
    },
    {
     "name": "stdout",
     "output_type": "stream",
     "text": [
      "Parameters (alpha=0.212424, l1_ratio=0.172680):\n",
      "Elasticnet model (alpha=0.212424, l1_ratio=0.172680):\n",
      "  RMSE: 0.7857787891368502\n",
      "  MAE: 0.6154138850913589\n",
      "  R2: 0.20251876017598347\n"
     ]
    },
    {
     "name": "stderr",
     "output_type": "stream",
     "text": [
      "[I 2019-11-19 20:52:44,277] Finished trial#23 resulted in value: 0.7857787891368502. Current best value is 0.7798766649659757 with parameters: {'alpha': 0.10765356742249957, 'l1_ratio': 0.10579851513989386}.\n",
      "[W 2019-11-19 20:52:44,287] The use of `Trial.trial_id` is deprecated. Please use `Trial.number` instead.\n"
     ]
    },
    {
     "name": "stdout",
     "output_type": "stream",
     "text": [
      "Parameters (alpha=0.282272, l1_ratio=0.320523):\n",
      "Elasticnet model (alpha=0.282272, l1_ratio=0.320523):\n",
      "  RMSE: 0.7937988228698195\n",
      "  MAE: 0.6191377036535154\n",
      "  R2: 0.18615673573897284\n"
     ]
    },
    {
     "name": "stderr",
     "output_type": "stream",
     "text": [
      "[I 2019-11-19 20:52:44,633] Finished trial#24 resulted in value: 0.7937988228698195. Current best value is 0.7798766649659757 with parameters: {'alpha': 0.10765356742249957, 'l1_ratio': 0.10579851513989386}.\n",
      "[W 2019-11-19 20:52:44,648] The use of `Trial.trial_id` is deprecated. Please use `Trial.number` instead.\n"
     ]
    },
    {
     "name": "stdout",
     "output_type": "stream",
     "text": [
      "Parameters (alpha=0.114226, l1_ratio=0.122769):\n",
      "Elasticnet model (alpha=0.114226, l1_ratio=0.122769):\n",
      "  RMSE: 0.7807803068351974\n",
      "  MAE: 0.6124196393572714\n",
      "  R2: 0.21263233783514401\n"
     ]
    },
    {
     "name": "stderr",
     "output_type": "stream",
     "text": [
      "[I 2019-11-19 20:52:44,994] Finished trial#25 resulted in value: 0.7807803068351974. Current best value is 0.7798766649659757 with parameters: {'alpha': 0.10765356742249957, 'l1_ratio': 0.10579851513989386}.\n",
      "[W 2019-11-19 20:52:45,008] The use of `Trial.trial_id` is deprecated. Please use `Trial.number` instead.\n"
     ]
    },
    {
     "name": "stdout",
     "output_type": "stream",
     "text": [
      "Parameters (alpha=0.184382, l1_ratio=0.115260):\n",
      "Elasticnet model (alpha=0.184382, l1_ratio=0.115260):\n",
      "  RMSE: 0.7834938593513728\n",
      "  MAE: 0.6141235065241236\n",
      "  R2: 0.2071499345837703\n"
     ]
    },
    {
     "name": "stderr",
     "output_type": "stream",
     "text": [
      "[I 2019-11-19 20:52:45,364] Finished trial#26 resulted in value: 0.7834938593513728. Current best value is 0.7798766649659757 with parameters: {'alpha': 0.10765356742249957, 'l1_ratio': 0.10579851513989386}.\n",
      "[W 2019-11-19 20:52:45,378] The use of `Trial.trial_id` is deprecated. Please use `Trial.number` instead.\n"
     ]
    },
    {
     "name": "stdout",
     "output_type": "stream",
     "text": [
      "Parameters (alpha=0.256136, l1_ratio=0.108583):\n",
      "Elasticnet model (alpha=0.256136, l1_ratio=0.108583):\n",
      "  RMSE: 0.7857417205295755\n",
      "  MAE: 0.6152412735424279\n",
      "  R2: 0.20259399972692027\n"
     ]
    },
    {
     "name": "stderr",
     "output_type": "stream",
     "text": [
      "[I 2019-11-19 20:52:45,725] Finished trial#27 resulted in value: 0.7857417205295755. Current best value is 0.7798766649659757 with parameters: {'alpha': 0.10765356742249957, 'l1_ratio': 0.10579851513989386}.\n",
      "[W 2019-11-19 20:52:45,738] The use of `Trial.trial_id` is deprecated. Please use `Trial.number` instead.\n"
     ]
    },
    {
     "name": "stdout",
     "output_type": "stream",
     "text": [
      "Parameters (alpha=0.104819, l1_ratio=0.100394):\n",
      "Elasticnet model (alpha=0.104819, l1_ratio=0.100394):\n",
      "  RMSE: 0.7795547246067687\n",
      "  MAE: 0.6114802707676813\n",
      "  R2: 0.2151022424762512\n"
     ]
    },
    {
     "name": "stderr",
     "output_type": "stream",
     "text": [
      "[I 2019-11-19 20:52:46,093] Finished trial#28 resulted in value: 0.7795547246067687. Current best value is 0.7795547246067687 with parameters: {'alpha': 0.10481895746364839, 'l1_ratio': 0.10039390043518259}.\n",
      "[W 2019-11-19 20:52:46,107] The use of `Trial.trial_id` is deprecated. Please use `Trial.number` instead.\n"
     ]
    },
    {
     "name": "stdout",
     "output_type": "stream",
     "text": [
      "Parameters (alpha=0.308072, l1_ratio=0.173642):\n",
      "Elasticnet model (alpha=0.308072, l1_ratio=0.173642):\n",
      "  RMSE: 0.7900889607245338\n",
      "  MAE: 0.6173369415669178\n",
      "  R2: 0.1937460415560769\n"
     ]
    },
    {
     "name": "stderr",
     "output_type": "stream",
     "text": [
      "[I 2019-11-19 20:52:46,464] Finished trial#29 resulted in value: 0.7900889607245338. Current best value is 0.7795547246067687 with parameters: {'alpha': 0.10481895746364839, 'l1_ratio': 0.10039390043518259}.\n",
      "[W 2019-11-19 20:52:46,478] The use of `Trial.trial_id` is deprecated. Please use `Trial.number` instead.\n"
     ]
    },
    {
     "name": "stdout",
     "output_type": "stream",
     "text": [
      "Parameters (alpha=0.546788, l1_ratio=0.103716):\n",
      "Elasticnet model (alpha=0.546788, l1_ratio=0.103716):\n",
      "  RMSE: 0.7968111319261791\n",
      "  MAE: 0.6196857374975954\n",
      "  R2: 0.17996826850341674\n"
     ]
    },
    {
     "name": "stderr",
     "output_type": "stream",
     "text": [
      "[I 2019-11-19 20:52:46,820] Finished trial#30 resulted in value: 0.7968111319261791. Current best value is 0.7795547246067687 with parameters: {'alpha': 0.10481895746364839, 'l1_ratio': 0.10039390043518259}.\n",
      "[W 2019-11-19 20:52:46,837] The use of `Trial.trial_id` is deprecated. Please use `Trial.number` instead.\n"
     ]
    },
    {
     "name": "stdout",
     "output_type": "stream",
     "text": [
      "Parameters (alpha=0.111272, l1_ratio=0.169067):\n",
      "Elasticnet model (alpha=0.111272, l1_ratio=0.169067):\n",
      "  RMSE: 0.7819676835085013\n",
      "  MAE: 0.6133491850386621\n",
      "  R2: 0.21023572801727586\n"
     ]
    },
    {
     "name": "stderr",
     "output_type": "stream",
     "text": [
      "[I 2019-11-19 20:52:47,195] Finished trial#31 resulted in value: 0.7819676835085013. Current best value is 0.7795547246067687 with parameters: {'alpha': 0.10481895746364839, 'l1_ratio': 0.10039390043518259}.\n",
      "[W 2019-11-19 20:52:47,211] The use of `Trial.trial_id` is deprecated. Please use `Trial.number` instead.\n"
     ]
    },
    {
     "name": "stdout",
     "output_type": "stream",
     "text": [
      "Parameters (alpha=0.148886, l1_ratio=0.782309):\n",
      "Elasticnet model (alpha=0.148886, l1_ratio=0.782309):\n",
      "  RMSE: 0.7931460481061079\n",
      "  MAE: 0.6192985922311262\n",
      "  R2: 0.18749470171172566\n"
     ]
    },
    {
     "name": "stderr",
     "output_type": "stream",
     "text": [
      "[I 2019-11-19 20:52:47,571] Finished trial#32 resulted in value: 0.7931460481061079. Current best value is 0.7795547246067687 with parameters: {'alpha': 0.10481895746364839, 'l1_ratio': 0.10039390043518259}.\n",
      "[W 2019-11-19 20:52:47,588] The use of `Trial.trial_id` is deprecated. Please use `Trial.number` instead.\n"
     ]
    },
    {
     "name": "stdout",
     "output_type": "stream",
     "text": [
      "Parameters (alpha=0.197015, l1_ratio=0.146398):\n",
      "Elasticnet model (alpha=0.197015, l1_ratio=0.146398):\n",
      "  RMSE: 0.7845147573585018\n",
      "  MAE: 0.6147355672115504\n",
      "  R2: 0.20508241004244543\n"
     ]
    },
    {
     "name": "stderr",
     "output_type": "stream",
     "text": [
      "[I 2019-11-19 20:52:47,934] Finished trial#33 resulted in value: 0.7845147573585018. Current best value is 0.7795547246067687 with parameters: {'alpha': 0.10481895746364839, 'l1_ratio': 0.10039390043518259}.\n",
      "[W 2019-11-19 20:52:47,948] The use of `Trial.trial_id` is deprecated. Please use `Trial.number` instead.\n"
     ]
    },
    {
     "name": "stdout",
     "output_type": "stream",
     "text": [
      "Parameters (alpha=0.102411, l1_ratio=0.164118):\n",
      "Elasticnet model (alpha=0.102411, l1_ratio=0.164118):\n",
      "  RMSE: 0.7813604792648168\n",
      "  MAE: 0.6129144327541827\n",
      "  R2: 0.21146176853283494\n"
     ]
    },
    {
     "name": "stderr",
     "output_type": "stream",
     "text": [
      "[I 2019-11-19 20:52:48,295] Finished trial#34 resulted in value: 0.7813604792648168. Current best value is 0.7795547246067687 with parameters: {'alpha': 0.10481895746364839, 'l1_ratio': 0.10039390043518259}.\n",
      "[W 2019-11-19 20:52:48,309] The use of `Trial.trial_id` is deprecated. Please use `Trial.number` instead.\n"
     ]
    },
    {
     "name": "stdout",
     "output_type": "stream",
     "text": [
      "Parameters (alpha=0.161621, l1_ratio=0.106914):\n",
      "Elasticnet model (alpha=0.161621, l1_ratio=0.106914):\n",
      "  RMSE: 0.782626136586092\n",
      "  MAE: 0.6136094129108518\n",
      "  R2: 0.20890513170732783\n"
     ]
    },
    {
     "name": "stderr",
     "output_type": "stream",
     "text": [
      "[I 2019-11-19 20:52:48,656] Finished trial#35 resulted in value: 0.782626136586092. Current best value is 0.7795547246067687 with parameters: {'alpha': 0.10481895746364839, 'l1_ratio': 0.10039390043518259}.\n",
      "[W 2019-11-19 20:52:48,670] The use of `Trial.trial_id` is deprecated. Please use `Trial.number` instead.\n"
     ]
    },
    {
     "name": "stdout",
     "output_type": "stream",
     "text": [
      "Parameters (alpha=0.235882, l1_ratio=0.228001):\n",
      "Elasticnet model (alpha=0.235882, l1_ratio=0.228001):\n",
      "  RMSE: 0.7881868207101825\n",
      "  MAE: 0.6166071914026935\n",
      "  R2: 0.19762348298579913\n"
     ]
    },
    {
     "name": "stderr",
     "output_type": "stream",
     "text": [
      "[I 2019-11-19 20:52:49,018] Finished trial#36 resulted in value: 0.7881868207101825. Current best value is 0.7795547246067687 with parameters: {'alpha': 0.10481895746364839, 'l1_ratio': 0.10039390043518259}.\n",
      "[W 2019-11-19 20:52:49,030] The use of `Trial.trial_id` is deprecated. Please use `Trial.number` instead.\n"
     ]
    },
    {
     "name": "stdout",
     "output_type": "stream",
     "text": [
      "Parameters (alpha=0.133254, l1_ratio=0.104859):\n",
      "Elasticnet model (alpha=0.133254, l1_ratio=0.104859):\n",
      "  RMSE: 0.7812117102074221\n",
      "  MAE: 0.6126810089618043\n",
      "  R2: 0.21176201131387096\n"
     ]
    },
    {
     "name": "stderr",
     "output_type": "stream",
     "text": [
      "[I 2019-11-19 20:52:49,379] Finished trial#37 resulted in value: 0.7812117102074221. Current best value is 0.7795547246067687 with parameters: {'alpha': 0.10481895746364839, 'l1_ratio': 0.10039390043518259}.\n",
      "[W 2019-11-19 20:52:49,390] The use of `Trial.trial_id` is deprecated. Please use `Trial.number` instead.\n"
     ]
    },
    {
     "name": "stdout",
     "output_type": "stream",
     "text": [
      "Parameters (alpha=0.663861, l1_ratio=0.141238):\n",
      "Elasticnet model (alpha=0.663861, l1_ratio=0.141238):\n",
      "  RMSE: 0.8038483390548685\n",
      "  MAE: 0.6221399899273015\n",
      "  R2: 0.16541973713004687\n"
     ]
    },
    {
     "name": "stderr",
     "output_type": "stream",
     "text": [
      "[I 2019-11-19 20:52:49,740] Finished trial#38 resulted in value: 0.8038483390548685. Current best value is 0.7795547246067687 with parameters: {'alpha': 0.10481895746364839, 'l1_ratio': 0.10039390043518259}.\n",
      "[W 2019-11-19 20:52:49,752] The use of `Trial.trial_id` is deprecated. Please use `Trial.number` instead.\n"
     ]
    },
    {
     "name": "stdout",
     "output_type": "stream",
     "text": [
      "Parameters (alpha=0.138911, l1_ratio=0.102420):\n",
      "Elasticnet model (alpha=0.138911, l1_ratio=0.102420):\n",
      "  RMSE: 0.7814034914088007\n",
      "  MAE: 0.6128031047026223\n",
      "  R2: 0.21137495161703612\n"
     ]
    },
    {
     "name": "stderr",
     "output_type": "stream",
     "text": [
      "[I 2019-11-19 20:52:50,107] Finished trial#39 resulted in value: 0.7814034914088007. Current best value is 0.7795547246067687 with parameters: {'alpha': 0.10481895746364839, 'l1_ratio': 0.10039390043518259}.\n",
      "[W 2019-11-19 20:52:50,120] The use of `Trial.trial_id` is deprecated. Please use `Trial.number` instead.\n"
     ]
    },
    {
     "name": "stdout",
     "output_type": "stream",
     "text": [
      "Parameters (alpha=0.798470, l1_ratio=0.203731):\n",
      "Elasticnet model (alpha=0.798470, l1_ratio=0.203731):\n",
      "  RMSE: 0.8143598696554085\n",
      "  MAE: 0.6252341831364941\n",
      "  R2: 0.14345023418902458\n"
     ]
    },
    {
     "name": "stderr",
     "output_type": "stream",
     "text": [
      "[I 2019-11-19 20:52:50,477] Finished trial#40 resulted in value: 0.8143598696554085. Current best value is 0.7795547246067687 with parameters: {'alpha': 0.10481895746364839, 'l1_ratio': 0.10039390043518259}.\n",
      "[W 2019-11-19 20:52:50,490] The use of `Trial.trial_id` is deprecated. Please use `Trial.number` instead.\n"
     ]
    },
    {
     "name": "stdout",
     "output_type": "stream",
     "text": [
      "Parameters (alpha=0.185662, l1_ratio=0.155358):\n",
      "Elasticnet model (alpha=0.185662, l1_ratio=0.155358):\n",
      "  RMSE: 0.7842684096454429\n",
      "  MAE: 0.6146251647129147\n",
      "  R2: 0.2055815603326332\n"
     ]
    },
    {
     "name": "stderr",
     "output_type": "stream",
     "text": [
      "[I 2019-11-19 20:52:50,841] Finished trial#41 resulted in value: 0.7842684096454429. Current best value is 0.7795547246067687 with parameters: {'alpha': 0.10481895746364839, 'l1_ratio': 0.10039390043518259}.\n",
      "[W 2019-11-19 20:52:50,856] The use of `Trial.trial_id` is deprecated. Please use `Trial.number` instead.\n"
     ]
    },
    {
     "name": "stdout",
     "output_type": "stream",
     "text": [
      "Parameters (alpha=0.129045, l1_ratio=0.141116):\n",
      "Elasticnet model (alpha=0.129045, l1_ratio=0.141116):\n",
      "  RMSE: 0.7822135019122535\n",
      "  MAE: 0.613460501694206\n",
      "  R2: 0.20973911131211165\n"
     ]
    },
    {
     "name": "stderr",
     "output_type": "stream",
     "text": [
      "[I 2019-11-19 20:52:51,215] Finished trial#42 resulted in value: 0.7822135019122535. Current best value is 0.7795547246067687 with parameters: {'alpha': 0.10481895746364839, 'l1_ratio': 0.10039390043518259}.\n",
      "[W 2019-11-19 20:52:51,231] The use of `Trial.trial_id` is deprecated. Please use `Trial.number` instead.\n"
     ]
    },
    {
     "name": "stdout",
     "output_type": "stream",
     "text": [
      "Parameters (alpha=0.102782, l1_ratio=0.100108):\n",
      "Elasticnet model (alpha=0.102782, l1_ratio=0.100108):\n",
      "  RMSE: 0.7794260526252847\n",
      "  MAE: 0.6113839221659579\n",
      "  R2: 0.21536132887918624\n"
     ]
    },
    {
     "name": "stderr",
     "output_type": "stream",
     "text": [
      "[I 2019-11-19 20:52:51,590] Finished trial#43 resulted in value: 0.7794260526252847. Current best value is 0.7794260526252847 with parameters: {'alpha': 0.1027822033072079, 'l1_ratio': 0.10010821186339591}.\n",
      "[W 2019-11-19 20:52:51,607] The use of `Trial.trial_id` is deprecated. Please use `Trial.number` instead.\n"
     ]
    },
    {
     "name": "stdout",
     "output_type": "stream",
     "text": [
      "Parameters (alpha=0.176619, l1_ratio=0.103078):\n",
      "Elasticnet model (alpha=0.176619, l1_ratio=0.103078):\n",
      "  RMSE: 0.783074555459668\n",
      "  MAE: 0.613872849960711\n",
      "  R2: 0.20799832964483966\n"
     ]
    },
    {
     "name": "stderr",
     "output_type": "stream",
     "text": [
      "[I 2019-11-19 20:52:51,963] Finished trial#44 resulted in value: 0.783074555459668. Current best value is 0.7794260526252847 with parameters: {'alpha': 0.1027822033072079, 'l1_ratio': 0.10010821186339591}.\n",
      "[W 2019-11-19 20:52:51,976] The use of `Trial.trial_id` is deprecated. Please use `Trial.number` instead.\n"
     ]
    },
    {
     "name": "stdout",
     "output_type": "stream",
     "text": [
      "Parameters (alpha=0.213715, l1_ratio=0.101493):\n",
      "Elasticnet model (alpha=0.213715, l1_ratio=0.101493):\n",
      "  RMSE: 0.7841451334062399\n",
      "  MAE: 0.614440833501992\n",
      "  R2: 0.20583128407398377\n"
     ]
    },
    {
     "name": "stderr",
     "output_type": "stream",
     "text": [
      "[I 2019-11-19 20:52:52,324] Finished trial#45 resulted in value: 0.7841451334062399. Current best value is 0.7794260526252847 with parameters: {'alpha': 0.1027822033072079, 'l1_ratio': 0.10010821186339591}.\n",
      "[W 2019-11-19 20:52:52,337] The use of `Trial.trial_id` is deprecated. Please use `Trial.number` instead.\n"
     ]
    },
    {
     "name": "stdout",
     "output_type": "stream",
     "text": [
      "Parameters (alpha=0.132188, l1_ratio=0.234914):\n",
      "Elasticnet model (alpha=0.132188, l1_ratio=0.234914):\n",
      "  RMSE: 0.7833976273956063\n",
      "  MAE: 0.6142576066247604\n",
      "  R2: 0.20734468487038993\n"
     ]
    },
    {
     "name": "stderr",
     "output_type": "stream",
     "text": [
      "[I 2019-11-19 20:52:52,686] Finished trial#46 resulted in value: 0.7833976273956063. Current best value is 0.7794260526252847 with parameters: {'alpha': 0.1027822033072079, 'l1_ratio': 0.10010821186339591}.\n",
      "[W 2019-11-19 20:52:52,704] The use of `Trial.trial_id` is deprecated. Please use `Trial.number` instead.\n"
     ]
    },
    {
     "name": "stdout",
     "output_type": "stream",
     "text": [
      "Parameters (alpha=0.100041, l1_ratio=0.194950):\n",
      "Elasticnet model (alpha=0.100041, l1_ratio=0.194950):\n",
      "  RMSE: 0.7818427370919312\n",
      "  MAE: 0.6132954290486765\n",
      "  R2: 0.21048809223684473\n"
     ]
    },
    {
     "name": "stderr",
     "output_type": "stream",
     "text": [
      "[I 2019-11-19 20:52:53,054] Finished trial#47 resulted in value: 0.7818427370919312. Current best value is 0.7794260526252847 with parameters: {'alpha': 0.1027822033072079, 'l1_ratio': 0.10010821186339591}.\n",
      "[W 2019-11-19 20:52:53,070] The use of `Trial.trial_id` is deprecated. Please use `Trial.number` instead.\n"
     ]
    },
    {
     "name": "stdout",
     "output_type": "stream",
     "text": [
      "Parameters (alpha=0.239075, l1_ratio=0.443619):\n",
      "Elasticnet model (alpha=0.239075, l1_ratio=0.443619):\n",
      "  RMSE: 0.7946216402917364\n",
      "  MAE: 0.6196317810534929\n",
      "  R2: 0.1844686720648625\n"
     ]
    },
    {
     "name": "stderr",
     "output_type": "stream",
     "text": [
      "[I 2019-11-19 20:52:53,427] Finished trial#48 resulted in value: 0.7946216402917364. Current best value is 0.7794260526252847 with parameters: {'alpha': 0.1027822033072079, 'l1_ratio': 0.10010821186339591}.\n",
      "[W 2019-11-19 20:52:53,441] The use of `Trial.trial_id` is deprecated. Please use `Trial.number` instead.\n"
     ]
    },
    {
     "name": "stdout",
     "output_type": "stream",
     "text": [
      "Parameters (alpha=0.572842, l1_ratio=0.735530):\n",
      "Elasticnet model (alpha=0.572842, l1_ratio=0.735530):\n",
      "  RMSE: 0.8591627430265977\n",
      "  MAE: 0.6483485097122867\n",
      "  R2: 0.046609666865464194\n"
     ]
    },
    {
     "name": "stderr",
     "output_type": "stream",
     "text": [
      "[I 2019-11-19 20:52:53,797] Finished trial#49 resulted in value: 0.8591627430265977. Current best value is 0.7794260526252847 with parameters: {'alpha': 0.1027822033072079, 'l1_ratio': 0.10010821186339591}.\n",
      "[W 2019-11-19 20:52:53,811] The use of `Trial.trial_id` is deprecated. Please use `Trial.number` instead.\n"
     ]
    },
    {
     "name": "stdout",
     "output_type": "stream",
     "text": [
      "Parameters (alpha=0.286799, l1_ratio=0.130884):\n",
      "Elasticnet model (alpha=0.286799, l1_ratio=0.130884):\n",
      "  RMSE: 0.7876912879823273\n",
      "  MAE: 0.6161821694561754\n",
      "  R2: 0.19863207340400724\n"
     ]
    },
    {
     "name": "stderr",
     "output_type": "stream",
     "text": [
      "[I 2019-11-19 20:52:54,164] Finished trial#50 resulted in value: 0.7876912879823273. Current best value is 0.7794260526252847 with parameters: {'alpha': 0.1027822033072079, 'l1_ratio': 0.10010821186339591}.\n",
      "[W 2019-11-19 20:52:54,182] The use of `Trial.trial_id` is deprecated. Please use `Trial.number` instead.\n"
     ]
    },
    {
     "name": "stdout",
     "output_type": "stream",
     "text": [
      "Parameters (alpha=0.103042, l1_ratio=0.153169):\n",
      "Elasticnet model (alpha=0.103042, l1_ratio=0.153169):\n",
      "  RMSE: 0.781045515252637\n",
      "  MAE: 0.6126657907455343\n",
      "  R2: 0.21209735508966154\n"
     ]
    },
    {
     "name": "stderr",
     "output_type": "stream",
     "text": [
      "[I 2019-11-19 20:52:54,533] Finished trial#51 resulted in value: 0.781045515252637. Current best value is 0.7794260526252847 with parameters: {'alpha': 0.1027822033072079, 'l1_ratio': 0.10010821186339591}.\n",
      "[W 2019-11-19 20:52:54,547] The use of `Trial.trial_id` is deprecated. Please use `Trial.number` instead.\n"
     ]
    },
    {
     "name": "stdout",
     "output_type": "stream",
     "text": [
      "Parameters (alpha=0.123435, l1_ratio=0.128591):\n",
      "Elasticnet model (alpha=0.123435, l1_ratio=0.128591):\n",
      "  RMSE: 0.781501258291215\n",
      "  MAE: 0.6129453264608874\n",
      "  R2: 0.21117759842736739\n"
     ]
    },
    {
     "name": "stderr",
     "output_type": "stream",
     "text": [
      "[I 2019-11-19 20:52:54,913] Finished trial#52 resulted in value: 0.781501258291215. Current best value is 0.7794260526252847 with parameters: {'alpha': 0.1027822033072079, 'l1_ratio': 0.10010821186339591}.\n",
      "[W 2019-11-19 20:52:54,929] The use of `Trial.trial_id` is deprecated. Please use `Trial.number` instead.\n"
     ]
    },
    {
     "name": "stdout",
     "output_type": "stream",
     "text": [
      "Parameters (alpha=0.101745, l1_ratio=0.184073):\n",
      "Elasticnet model (alpha=0.101745, l1_ratio=0.184073):\n",
      "  RMSE: 0.7818149475408703\n",
      "  MAE: 0.613267913169438\n",
      "  R2: 0.2105442155222983\n"
     ]
    },
    {
     "name": "stderr",
     "output_type": "stream",
     "text": [
      "[I 2019-11-19 20:52:55,296] Finished trial#53 resulted in value: 0.7818149475408703. Current best value is 0.7794260526252847 with parameters: {'alpha': 0.1027822033072079, 'l1_ratio': 0.10010821186339591}.\n",
      "[W 2019-11-19 20:52:55,310] The use of `Trial.trial_id` is deprecated. Please use `Trial.number` instead.\n"
     ]
    },
    {
     "name": "stdout",
     "output_type": "stream",
     "text": [
      "Parameters (alpha=0.166873, l1_ratio=0.126639):\n",
      "Elasticnet model (alpha=0.166873, l1_ratio=0.126639):\n",
      "  RMSE: 0.7831362706662932\n",
      "  MAE: 0.6139511943820714\n",
      "  R2: 0.20787348719532772\n"
     ]
    },
    {
     "name": "stderr",
     "output_type": "stream",
     "text": [
      "[I 2019-11-19 20:52:55,670] Finished trial#54 resulted in value: 0.7831362706662932. Current best value is 0.7794260526252847 with parameters: {'alpha': 0.1027822033072079, 'l1_ratio': 0.10010821186339591}.\n",
      "[W 2019-11-19 20:52:55,684] The use of `Trial.trial_id` is deprecated. Please use `Trial.number` instead.\n"
     ]
    },
    {
     "name": "stdout",
     "output_type": "stream",
     "text": [
      "Parameters (alpha=0.128502, l1_ratio=0.618219):\n",
      "Elasticnet model (alpha=0.128502, l1_ratio=0.618219):\n",
      "  RMSE: 0.7878551704026989\n",
      "  MAE: 0.6168438445424917\n",
      "  R2: 0.1982985829127233\n"
     ]
    },
    {
     "name": "stderr",
     "output_type": "stream",
     "text": [
      "[I 2019-11-19 20:52:56,035] Finished trial#55 resulted in value: 0.7878551704026989. Current best value is 0.7794260526252847 with parameters: {'alpha': 0.1027822033072079, 'l1_ratio': 0.10010821186339591}.\n",
      "[W 2019-11-19 20:52:56,050] The use of `Trial.trial_id` is deprecated. Please use `Trial.number` instead.\n"
     ]
    },
    {
     "name": "stdout",
     "output_type": "stream",
     "text": [
      "Parameters (alpha=0.454863, l1_ratio=0.100505):\n",
      "Elasticnet model (alpha=0.454863, l1_ratio=0.100505):\n",
      "  RMSE: 0.7931212250059545\n",
      "  MAE: 0.6182778147259548\n",
      "  R2: 0.18754555888949176\n"
     ]
    },
    {
     "name": "stderr",
     "output_type": "stream",
     "text": [
      "[I 2019-11-19 20:52:56,404] Finished trial#56 resulted in value: 0.7931212250059545. Current best value is 0.7794260526252847 with parameters: {'alpha': 0.1027822033072079, 'l1_ratio': 0.10010821186339591}.\n",
      "[W 2019-11-19 20:52:56,418] The use of `Trial.trial_id` is deprecated. Please use `Trial.number` instead.\n"
     ]
    },
    {
     "name": "stdout",
     "output_type": "stream",
     "text": [
      "Parameters (alpha=0.101814, l1_ratio=0.297433):\n",
      "Elasticnet model (alpha=0.101814, l1_ratio=0.297433):\n",
      "  RMSE: 0.78275675129577\n",
      "  MAE: 0.6139191812901552\n",
      "  R2: 0.20864105351181728\n"
     ]
    },
    {
     "name": "stderr",
     "output_type": "stream",
     "text": [
      "[I 2019-11-19 20:52:56,777] Finished trial#57 resulted in value: 0.78275675129577. Current best value is 0.7794260526252847 with parameters: {'alpha': 0.1027822033072079, 'l1_ratio': 0.10010821186339591}.\n",
      "[W 2019-11-19 20:52:56,792] The use of `Trial.trial_id` is deprecated. Please use `Trial.number` instead.\n"
     ]
    },
    {
     "name": "stdout",
     "output_type": "stream",
     "text": [
      "Parameters (alpha=0.204014, l1_ratio=0.249838):\n",
      "Elasticnet model (alpha=0.204014, l1_ratio=0.249838):\n",
      "  RMSE: 0.7870871193162656\n",
      "  MAE: 0.616136402659435\n",
      "  R2: 0.1998609195771791\n"
     ]
    },
    {
     "name": "stderr",
     "output_type": "stream",
     "text": [
      "[I 2019-11-19 20:52:57,151] Finished trial#58 resulted in value: 0.7870871193162656. Current best value is 0.7794260526252847 with parameters: {'alpha': 0.1027822033072079, 'l1_ratio': 0.10010821186339591}.\n",
      "[W 2019-11-19 20:52:57,166] The use of `Trial.trial_id` is deprecated. Please use `Trial.number` instead.\n"
     ]
    },
    {
     "name": "stdout",
     "output_type": "stream",
     "text": [
      "Parameters (alpha=0.159290, l1_ratio=0.155361):\n",
      "Elasticnet model (alpha=0.159290, l1_ratio=0.155361):\n",
      "  RMSE: 0.7833146446093502\n",
      "  MAE: 0.6140970641937924\n",
      "  R2: 0.20751260282298645\n"
     ]
    },
    {
     "name": "stderr",
     "output_type": "stream",
     "text": [
      "[I 2019-11-19 20:52:57,519] Finished trial#59 resulted in value: 0.7833146446093502. Current best value is 0.7794260526252847 with parameters: {'alpha': 0.1027822033072079, 'l1_ratio': 0.10010821186339591}.\n",
      "[W 2019-11-19 20:52:57,533] The use of `Trial.trial_id` is deprecated. Please use `Trial.number` instead.\n"
     ]
    },
    {
     "name": "stdout",
     "output_type": "stream",
     "text": [
      "Parameters (alpha=0.135688, l1_ratio=0.414124):\n",
      "Elasticnet model (alpha=0.135688, l1_ratio=0.414124):\n",
      "  RMSE: 0.7858285494371078\n",
      "  MAE: 0.6157240303371533\n",
      "  R2: 0.20241775423646513\n"
     ]
    },
    {
     "name": "stderr",
     "output_type": "stream",
     "text": [
      "[I 2019-11-19 20:52:57,885] Finished trial#60 resulted in value: 0.7858285494371078. Current best value is 0.7794260526252847 with parameters: {'alpha': 0.1027822033072079, 'l1_ratio': 0.10010821186339591}.\n",
      "[W 2019-11-19 20:52:57,904] The use of `Trial.trial_id` is deprecated. Please use `Trial.number` instead.\n"
     ]
    },
    {
     "name": "stdout",
     "output_type": "stream",
     "text": [
      "Parameters (alpha=0.100360, l1_ratio=0.160575):\n",
      "Elasticnet model (alpha=0.100360, l1_ratio=0.160575):\n",
      "  RMSE: 0.7810944461159722\n",
      "  MAE: 0.6127128376489479\n",
      "  R2: 0.21199863110108141\n"
     ]
    },
    {
     "name": "stderr",
     "output_type": "stream",
     "text": [
      "[I 2019-11-19 20:52:58,270] Finished trial#61 resulted in value: 0.7810944461159722. Current best value is 0.7794260526252847 with parameters: {'alpha': 0.1027822033072079, 'l1_ratio': 0.10010821186339591}.\n",
      "[W 2019-11-19 20:52:58,284] The use of `Trial.trial_id` is deprecated. Please use `Trial.number` instead.\n"
     ]
    },
    {
     "name": "stdout",
     "output_type": "stream",
     "text": [
      "Parameters (alpha=0.119664, l1_ratio=0.190508):\n",
      "Elasticnet model (alpha=0.119664, l1_ratio=0.190508):\n",
      "  RMSE: 0.782409698953051\n",
      "  MAE: 0.6136266787322354\n",
      "  R2: 0.20934263057612912\n"
     ]
    },
    {
     "name": "stderr",
     "output_type": "stream",
     "text": [
      "[I 2019-11-19 20:52:58,649] Finished trial#62 resulted in value: 0.782409698953051. Current best value is 0.7794260526252847 with parameters: {'alpha': 0.1027822033072079, 'l1_ratio': 0.10010821186339591}.\n",
      "[W 2019-11-19 20:52:58,666] The use of `Trial.trial_id` is deprecated. Please use `Trial.number` instead.\n"
     ]
    },
    {
     "name": "stdout",
     "output_type": "stream",
     "text": [
      "Parameters (alpha=0.171648, l1_ratio=0.122510):\n",
      "Elasticnet model (alpha=0.171648, l1_ratio=0.122510):\n",
      "  RMSE: 0.7832203237918055\n",
      "  MAE: 0.6139904091620701\n",
      "  R2: 0.20770344199448\n"
     ]
    },
    {
     "name": "stderr",
     "output_type": "stream",
     "text": [
      "[I 2019-11-19 20:52:59,035] Finished trial#63 resulted in value: 0.7832203237918055. Current best value is 0.7794260526252847 with parameters: {'alpha': 0.1027822033072079, 'l1_ratio': 0.10010821186339591}.\n",
      "[W 2019-11-19 20:52:59,051] The use of `Trial.trial_id` is deprecated. Please use `Trial.number` instead.\n"
     ]
    },
    {
     "name": "stdout",
     "output_type": "stream",
     "text": [
      "Parameters (alpha=0.101525, l1_ratio=0.217090):\n",
      "Elasticnet model (alpha=0.101525, l1_ratio=0.217090):\n",
      "  RMSE: 0.7820502595080598\n",
      "  MAE: 0.6134432942779455\n",
      "  R2: 0.2100689205674512\n"
     ]
    },
    {
     "name": "stderr",
     "output_type": "stream",
     "text": [
      "[I 2019-11-19 20:52:59,417] Finished trial#64 resulted in value: 0.7820502595080598. Current best value is 0.7794260526252847 with parameters: {'alpha': 0.1027822033072079, 'l1_ratio': 0.10010821186339591}.\n",
      "[W 2019-11-19 20:52:59,433] The use of `Trial.trial_id` is deprecated. Please use `Trial.number` instead.\n"
     ]
    },
    {
     "name": "stdout",
     "output_type": "stream",
     "text": [
      "Parameters (alpha=0.148461, l1_ratio=0.158605):\n",
      "Elasticnet model (alpha=0.148461, l1_ratio=0.158605):\n",
      "  RMSE: 0.7829955102539189\n",
      "  MAE: 0.6139190633490635\n",
      "  R2: 0.2081582142301921\n"
     ]
    },
    {
     "name": "stderr",
     "output_type": "stream",
     "text": [
      "[I 2019-11-19 20:52:59,795] Finished trial#65 resulted in value: 0.7829955102539189. Current best value is 0.7794260526252847 with parameters: {'alpha': 0.1027822033072079, 'l1_ratio': 0.10010821186339591}.\n",
      "[W 2019-11-19 20:52:59,813] The use of `Trial.trial_id` is deprecated. Please use `Trial.number` instead.\n"
     ]
    },
    {
     "name": "stdout",
     "output_type": "stream",
     "text": [
      "Parameters (alpha=0.737073, l1_ratio=0.184908):\n",
      "Elasticnet model (alpha=0.737073, l1_ratio=0.184908):\n",
      "  RMSE: 0.8099040458201182\n",
      "  MAE: 0.623876516237852\n",
      "  R2: 0.15279792805146097\n"
     ]
    },
    {
     "name": "stderr",
     "output_type": "stream",
     "text": [
      "[I 2019-11-19 20:53:00,173] Finished trial#66 resulted in value: 0.8099040458201182. Current best value is 0.7794260526252847 with parameters: {'alpha': 0.1027822033072079, 'l1_ratio': 0.10010821186339591}.\n",
      "[W 2019-11-19 20:53:00,188] The use of `Trial.trial_id` is deprecated. Please use `Trial.number` instead.\n"
     ]
    },
    {
     "name": "stdout",
     "output_type": "stream",
     "text": [
      "Parameters (alpha=0.197657, l1_ratio=0.100599):\n",
      "Elasticnet model (alpha=0.197657, l1_ratio=0.100599):\n",
      "  RMSE: 0.7836397218870658\n",
      "  MAE: 0.6141728020460501\n",
      "  R2: 0.20685469835553516\n"
     ]
    },
    {
     "name": "stderr",
     "output_type": "stream",
     "text": [
      "[I 2019-11-19 20:53:00,549] Finished trial#67 resulted in value: 0.7836397218870658. Current best value is 0.7794260526252847 with parameters: {'alpha': 0.1027822033072079, 'l1_ratio': 0.10010821186339591}.\n",
      "[W 2019-11-19 20:53:00,569] The use of `Trial.trial_id` is deprecated. Please use `Trial.number` instead.\n"
     ]
    },
    {
     "name": "stdout",
     "output_type": "stream",
     "text": [
      "Parameters (alpha=0.405157, l1_ratio=0.142612):\n",
      "Elasticnet model (alpha=0.405157, l1_ratio=0.142612):\n",
      "  RMSE: 0.793200926348442\n",
      "  MAE: 0.6184721781972846\n",
      "  R2: 0.18738226238147004\n"
     ]
    },
    {
     "name": "stderr",
     "output_type": "stream",
     "text": [
      "[I 2019-11-19 20:53:00,935] Finished trial#68 resulted in value: 0.793200926348442. Current best value is 0.7794260526252847 with parameters: {'alpha': 0.1027822033072079, 'l1_ratio': 0.10010821186339591}.\n",
      "[W 2019-11-19 20:53:00,954] The use of `Trial.trial_id` is deprecated. Please use `Trial.number` instead.\n"
     ]
    },
    {
     "name": "stdout",
     "output_type": "stream",
     "text": [
      "Parameters (alpha=0.118145, l1_ratio=0.121815):\n",
      "Elasticnet model (alpha=0.118145, l1_ratio=0.121815):\n",
      "  RMSE: 0.7809753171132457\n",
      "  MAE: 0.6125580215232708\n",
      "  R2: 0.21223897760228916\n"
     ]
    },
    {
     "name": "stderr",
     "output_type": "stream",
     "text": [
      "[I 2019-11-19 20:53:01,331] Finished trial#69 resulted in value: 0.7809753171132457. Current best value is 0.7794260526252847 with parameters: {'alpha': 0.1027822033072079, 'l1_ratio': 0.10010821186339591}.\n",
      "[W 2019-11-19 20:53:01,347] The use of `Trial.trial_id` is deprecated. Please use `Trial.number` instead.\n"
     ]
    },
    {
     "name": "stdout",
     "output_type": "stream",
     "text": [
      "Parameters (alpha=0.120516, l1_ratio=0.479681):\n",
      "Elasticnet model (alpha=0.120516, l1_ratio=0.479681):\n",
      "  RMSE: 0.7855938240056034\n",
      "  MAE: 0.6156497523617246\n",
      "  R2: 0.20289415555041423\n"
     ]
    },
    {
     "name": "stderr",
     "output_type": "stream",
     "text": [
      "[I 2019-11-19 20:53:01,719] Finished trial#70 resulted in value: 0.7855938240056034. Current best value is 0.7794260526252847 with parameters: {'alpha': 0.1027822033072079, 'l1_ratio': 0.10010821186339591}.\n",
      "[W 2019-11-19 20:53:01,738] The use of `Trial.trial_id` is deprecated. Please use `Trial.number` instead.\n"
     ]
    },
    {
     "name": "stdout",
     "output_type": "stream",
     "text": [
      "Parameters (alpha=0.147672, l1_ratio=0.128386):\n",
      "Elasticnet model (alpha=0.147672, l1_ratio=0.128386):\n",
      "  RMSE: 0.7825951818363002\n",
      "  MAE: 0.6136479536817931\n",
      "  R2: 0.20896770988682456\n"
     ]
    },
    {
     "name": "stderr",
     "output_type": "stream",
     "text": [
      "[I 2019-11-19 20:53:02,112] Finished trial#71 resulted in value: 0.7825951818363002. Current best value is 0.7794260526252847 with parameters: {'alpha': 0.1027822033072079, 'l1_ratio': 0.10010821186339591}.\n",
      "[W 2019-11-19 20:53:02,128] The use of `Trial.trial_id` is deprecated. Please use `Trial.number` instead.\n"
     ]
    },
    {
     "name": "stdout",
     "output_type": "stream",
     "text": [
      "Parameters (alpha=0.115747, l1_ratio=0.165847):\n",
      "Elasticnet model (alpha=0.115747, l1_ratio=0.165847):\n",
      "  RMSE: 0.7820666805776408\n",
      "  MAE: 0.6134051275449065\n",
      "  R2: 0.21003574712560058\n"
     ]
    },
    {
     "name": "stderr",
     "output_type": "stream",
     "text": [
      "[I 2019-11-19 20:53:02,491] Finished trial#72 resulted in value: 0.7820666805776408. Current best value is 0.7794260526252847 with parameters: {'alpha': 0.1027822033072079, 'l1_ratio': 0.10010821186339591}.\n",
      "[W 2019-11-19 20:53:02,511] The use of `Trial.trial_id` is deprecated. Please use `Trial.number` instead.\n"
     ]
    },
    {
     "name": "stdout",
     "output_type": "stream",
     "text": [
      "Parameters (alpha=0.166788, l1_ratio=0.117807):\n",
      "Elasticnet model (alpha=0.166788, l1_ratio=0.117807):\n",
      "  RMSE: 0.7830069824785698\n",
      "  MAE: 0.6138640409897778\n",
      "  R2: 0.2081350103847427\n"
     ]
    },
    {
     "name": "stderr",
     "output_type": "stream",
     "text": [
      "[I 2019-11-19 20:53:02,879] Finished trial#73 resulted in value: 0.7830069824785698. Current best value is 0.7794260526252847 with parameters: {'alpha': 0.1027822033072079, 'l1_ratio': 0.10010821186339591}.\n",
      "[W 2019-11-19 20:53:02,900] The use of `Trial.trial_id` is deprecated. Please use `Trial.number` instead.\n"
     ]
    },
    {
     "name": "stdout",
     "output_type": "stream",
     "text": [
      "Parameters (alpha=0.141519, l1_ratio=0.148774):\n",
      "Elasticnet model (alpha=0.141519, l1_ratio=0.148774):\n",
      "  RMSE: 0.7826532984211994\n",
      "  MAE: 0.6137082848778022\n",
      "  R2: 0.20885021925235958\n"
     ]
    },
    {
     "name": "stderr",
     "output_type": "stream",
     "text": [
      "[I 2019-11-19 20:53:03,259] Finished trial#74 resulted in value: 0.7826532984211994. Current best value is 0.7794260526252847 with parameters: {'alpha': 0.1027822033072079, 'l1_ratio': 0.10010821186339591}.\n",
      "[W 2019-11-19 20:53:03,276] The use of `Trial.trial_id` is deprecated. Please use `Trial.number` instead.\n"
     ]
    },
    {
     "name": "stdout",
     "output_type": "stream",
     "text": [
      "Parameters (alpha=0.100793, l1_ratio=0.207600):\n",
      "Elasticnet model (alpha=0.100793, l1_ratio=0.207600):\n",
      "  RMSE: 0.7819557848940255\n",
      "  MAE: 0.613377611055095\n",
      "  R2: 0.21025976233302313\n"
     ]
    },
    {
     "name": "stderr",
     "output_type": "stream",
     "text": [
      "[I 2019-11-19 20:53:03,642] Finished trial#75 resulted in value: 0.7819557848940255. Current best value is 0.7794260526252847 with parameters: {'alpha': 0.1027822033072079, 'l1_ratio': 0.10010821186339591}.\n",
      "[W 2019-11-19 20:53:03,660] The use of `Trial.trial_id` is deprecated. Please use `Trial.number` instead.\n"
     ]
    },
    {
     "name": "stdout",
     "output_type": "stream",
     "text": [
      "Parameters (alpha=0.187136, l1_ratio=0.176517):\n",
      "Elasticnet model (alpha=0.187136, l1_ratio=0.176517):\n",
      "  RMSE: 0.7847633931077412\n",
      "  MAE: 0.6149222830046315\n",
      "  R2: 0.20457846477322583\n"
     ]
    },
    {
     "name": "stderr",
     "output_type": "stream",
     "text": [
      "[I 2019-11-19 20:53:04,025] Finished trial#76 resulted in value: 0.7847633931077412. Current best value is 0.7794260526252847 with parameters: {'alpha': 0.1027822033072079, 'l1_ratio': 0.10010821186339591}.\n",
      "[W 2019-11-19 20:53:04,041] The use of `Trial.trial_id` is deprecated. Please use `Trial.number` instead.\n"
     ]
    },
    {
     "name": "stdout",
     "output_type": "stream",
     "text": [
      "Parameters (alpha=0.221523, l1_ratio=0.115009):\n",
      "Elasticnet model (alpha=0.221523, l1_ratio=0.115009):\n",
      "  RMSE: 0.7846971400800804\n",
      "  MAE: 0.614757043521605\n",
      "  R2: 0.20471276476962963\n"
     ]
    },
    {
     "name": "stderr",
     "output_type": "stream",
     "text": [
      "[I 2019-11-19 20:53:04,398] Finished trial#77 resulted in value: 0.7846971400800804. Current best value is 0.7794260526252847 with parameters: {'alpha': 0.1027822033072079, 'l1_ratio': 0.10010821186339591}.\n",
      "[W 2019-11-19 20:53:04,416] The use of `Trial.trial_id` is deprecated. Please use `Trial.number` instead.\n"
     ]
    },
    {
     "name": "stdout",
     "output_type": "stream",
     "text": [
      "Parameters (alpha=0.119802, l1_ratio=0.101695):\n",
      "Elasticnet model (alpha=0.119802, l1_ratio=0.101695):\n",
      "  RMSE: 0.7804239868882866\n",
      "  MAE: 0.612121244668884\n",
      "  R2: 0.2133508262078242\n"
     ]
    },
    {
     "name": "stderr",
     "output_type": "stream",
     "text": [
      "[I 2019-11-19 20:53:04,776] Finished trial#78 resulted in value: 0.7804239868882866. Current best value is 0.7794260526252847 with parameters: {'alpha': 0.1027822033072079, 'l1_ratio': 0.10010821186339591}.\n",
      "[W 2019-11-19 20:53:04,795] The use of `Trial.trial_id` is deprecated. Please use `Trial.number` instead.\n"
     ]
    },
    {
     "name": "stdout",
     "output_type": "stream",
     "text": [
      "Parameters (alpha=0.115635, l1_ratio=0.142748):\n",
      "Elasticnet model (alpha=0.115635, l1_ratio=0.142748):\n",
      "  RMSE: 0.7815251347624781\n",
      "  MAE: 0.6129938981121076\n",
      "  R2: 0.21112939739655334\n"
     ]
    },
    {
     "name": "stderr",
     "output_type": "stream",
     "text": [
      "[I 2019-11-19 20:53:05,160] Finished trial#79 resulted in value: 0.7815251347624781. Current best value is 0.7794260526252847 with parameters: {'alpha': 0.1027822033072079, 'l1_ratio': 0.10010821186339591}.\n",
      "[W 2019-11-19 20:53:05,177] The use of `Trial.trial_id` is deprecated. Please use `Trial.number` instead.\n"
     ]
    },
    {
     "name": "stdout",
     "output_type": "stream",
     "text": [
      "Parameters (alpha=0.100516, l1_ratio=0.237963):\n",
      "Elasticnet model (alpha=0.100516, l1_ratio=0.237963):\n",
      "  RMSE: 0.7821801418085356\n",
      "  MAE: 0.6135361893521742\n",
      "  R2: 0.20980651649745663\n"
     ]
    },
    {
     "name": "stderr",
     "output_type": "stream",
     "text": [
      "[I 2019-11-19 20:53:05,542] Finished trial#80 resulted in value: 0.7821801418085356. Current best value is 0.7794260526252847 with parameters: {'alpha': 0.1027822033072079, 'l1_ratio': 0.10010821186339591}.\n",
      "[W 2019-11-19 20:53:05,559] The use of `Trial.trial_id` is deprecated. Please use `Trial.number` instead.\n"
     ]
    },
    {
     "name": "stdout",
     "output_type": "stream",
     "text": [
      "Parameters (alpha=0.137960, l1_ratio=0.102167):\n",
      "Elasticnet model (alpha=0.137960, l1_ratio=0.102167):\n",
      "  RMSE: 0.7813492312694623\n",
      "  MAE: 0.6127657327506476\n",
      "  R2: 0.21148447101334167\n"
     ]
    },
    {
     "name": "stderr",
     "output_type": "stream",
     "text": [
      "[I 2019-11-19 20:53:05,920] Finished trial#81 resulted in value: 0.7813492312694623. Current best value is 0.7794260526252847 with parameters: {'alpha': 0.1027822033072079, 'l1_ratio': 0.10010821186339591}.\n",
      "[W 2019-11-19 20:53:05,940] The use of `Trial.trial_id` is deprecated. Please use `Trial.number` instead.\n"
     ]
    },
    {
     "name": "stdout",
     "output_type": "stream",
     "text": [
      "Parameters (alpha=0.155854, l1_ratio=0.125309):\n",
      "Elasticnet model (alpha=0.155854, l1_ratio=0.125309):\n",
      "  RMSE: 0.7827909665846459\n",
      "  MAE: 0.6137536715427704\n",
      "  R2: 0.20857186939634487\n"
     ]
    },
    {
     "name": "stderr",
     "output_type": "stream",
     "text": [
      "[I 2019-11-19 20:53:06,303] Finished trial#82 resulted in value: 0.7827909665846459. Current best value is 0.7794260526252847 with parameters: {'alpha': 0.1027822033072079, 'l1_ratio': 0.10010821186339591}.\n",
      "[W 2019-11-19 20:53:06,321] The use of `Trial.trial_id` is deprecated. Please use `Trial.number` instead.\n"
     ]
    },
    {
     "name": "stdout",
     "output_type": "stream",
     "text": [
      "Parameters (alpha=0.120818, l1_ratio=0.165175):\n",
      "Elasticnet model (alpha=0.120818, l1_ratio=0.165175):\n",
      "  RMSE: 0.782206246547584\n",
      "  MAE: 0.6134852229336901\n",
      "  R2: 0.20975377125936767\n"
     ]
    },
    {
     "name": "stderr",
     "output_type": "stream",
     "text": [
      "[I 2019-11-19 20:53:06,684] Finished trial#83 resulted in value: 0.782206246547584. Current best value is 0.7794260526252847 with parameters: {'alpha': 0.1027822033072079, 'l1_ratio': 0.10010821186339591}.\n",
      "[W 2019-11-19 20:53:06,703] The use of `Trial.trial_id` is deprecated. Please use `Trial.number` instead.\n"
     ]
    },
    {
     "name": "stdout",
     "output_type": "stream",
     "text": [
      "Parameters (alpha=0.178666, l1_ratio=0.100490):\n",
      "Elasticnet model (alpha=0.178666, l1_ratio=0.100490):\n",
      "  RMSE: 0.7830931099935046\n",
      "  MAE: 0.6138776740697066\n",
      "  R2: 0.20796079708606463\n"
     ]
    },
    {
     "name": "stderr",
     "output_type": "stream",
     "text": [
      "[I 2019-11-19 20:53:07,072] Finished trial#84 resulted in value: 0.7830931099935046. Current best value is 0.7794260526252847 with parameters: {'alpha': 0.1027822033072079, 'l1_ratio': 0.10010821186339591}.\n",
      "[W 2019-11-19 20:53:07,093] The use of `Trial.trial_id` is deprecated. Please use `Trial.number` instead.\n"
     ]
    },
    {
     "name": "stdout",
     "output_type": "stream",
     "text": [
      "Parameters (alpha=0.136866, l1_ratio=0.116558):\n",
      "Elasticnet model (alpha=0.136866, l1_ratio=0.116558):\n",
      "  RMSE: 0.7817983965170822\n",
      "  MAE: 0.6131138883159817\n",
      "  R2: 0.2105776407291271\n"
     ]
    },
    {
     "name": "stderr",
     "output_type": "stream",
     "text": [
      "[I 2019-11-19 20:53:07,459] Finished trial#85 resulted in value: 0.7817983965170822. Current best value is 0.7794260526252847 with parameters: {'alpha': 0.1027822033072079, 'l1_ratio': 0.10010821186339591}.\n",
      "[W 2019-11-19 20:53:07,482] The use of `Trial.trial_id` is deprecated. Please use `Trial.number` instead.\n"
     ]
    },
    {
     "name": "stdout",
     "output_type": "stream",
     "text": [
      "Parameters (alpha=0.251685, l1_ratio=0.174297):\n",
      "Elasticnet model (alpha=0.251685, l1_ratio=0.174297):\n",
      "  RMSE: 0.787641047423347\n",
      "  MAE: 0.6162602161389511\n",
      "  R2: 0.19873429590976677\n"
     ]
    },
    {
     "name": "stderr",
     "output_type": "stream",
     "text": [
      "[I 2019-11-19 20:53:07,845] Finished trial#86 resulted in value: 0.787641047423347. Current best value is 0.7794260526252847 with parameters: {'alpha': 0.1027822033072079, 'l1_ratio': 0.10010821186339591}.\n",
      "[W 2019-11-19 20:53:07,867] The use of `Trial.trial_id` is deprecated. Please use `Trial.number` instead.\n"
     ]
    },
    {
     "name": "stdout",
     "output_type": "stream",
     "text": [
      "Parameters (alpha=0.100086, l1_ratio=0.139722):\n",
      "Elasticnet model (alpha=0.100086, l1_ratio=0.139722):\n",
      "  RMSE: 0.7804160648318273\n",
      "  MAE: 0.6121819652894858\n",
      "  R2: 0.21336679662299185\n"
     ]
    },
    {
     "name": "stderr",
     "output_type": "stream",
     "text": [
      "[I 2019-11-19 20:53:08,233] Finished trial#87 resulted in value: 0.7804160648318273. Current best value is 0.7794260526252847 with parameters: {'alpha': 0.1027822033072079, 'l1_ratio': 0.10010821186339591}.\n",
      "[W 2019-11-19 20:53:08,254] The use of `Trial.trial_id` is deprecated. Please use `Trial.number` instead.\n"
     ]
    },
    {
     "name": "stdout",
     "output_type": "stream",
     "text": [
      "Parameters (alpha=0.101456, l1_ratio=0.143584):\n",
      "Elasticnet model (alpha=0.101456, l1_ratio=0.143584):\n",
      "  RMSE: 0.780630089999915\n",
      "  MAE: 0.6123462201337713\n",
      "  R2: 0.212935277086148\n"
     ]
    },
    {
     "name": "stderr",
     "output_type": "stream",
     "text": [
      "[I 2019-11-19 20:53:08,619] Finished trial#88 resulted in value: 0.780630089999915. Current best value is 0.7794260526252847 with parameters: {'alpha': 0.1027822033072079, 'l1_ratio': 0.10010821186339591}.\n",
      "[W 2019-11-19 20:53:08,638] The use of `Trial.trial_id` is deprecated. Please use `Trial.number` instead.\n"
     ]
    },
    {
     "name": "stdout",
     "output_type": "stream",
     "text": [
      "Parameters (alpha=0.163403, l1_ratio=0.139182):\n",
      "Elasticnet model (alpha=0.163403, l1_ratio=0.139182):\n",
      "  RMSE: 0.7832115806724661\n",
      "  MAE: 0.6140127975456487\n",
      "  R2: 0.2077211307711485\n"
     ]
    },
    {
     "name": "stderr",
     "output_type": "stream",
     "text": [
      "[I 2019-11-19 20:53:08,999] Finished trial#89 resulted in value: 0.7832115806724661. Current best value is 0.7794260526252847 with parameters: {'alpha': 0.1027822033072079, 'l1_ratio': 0.10010821186339591}.\n",
      "[W 2019-11-19 20:53:09,020] The use of `Trial.trial_id` is deprecated. Please use `Trial.number` instead.\n"
     ]
    },
    {
     "name": "stdout",
     "output_type": "stream",
     "text": [
      "Parameters (alpha=0.114421, l1_ratio=0.204354):\n",
      "Elasticnet model (alpha=0.114421, l1_ratio=0.204354):\n",
      "  RMSE: 0.782367731823687\n",
      "  MAE: 0.6136170720778501\n",
      "  R2: 0.2094274473421961\n"
     ]
    },
    {
     "name": "stderr",
     "output_type": "stream",
     "text": [
      "[I 2019-11-19 20:53:09,389] Finished trial#90 resulted in value: 0.782367731823687. Current best value is 0.7794260526252847 with parameters: {'alpha': 0.1027822033072079, 'l1_ratio': 0.10010821186339591}.\n",
      "[W 2019-11-19 20:53:09,410] The use of `Trial.trial_id` is deprecated. Please use `Trial.number` instead.\n"
     ]
    },
    {
     "name": "stdout",
     "output_type": "stream",
     "text": [
      "Parameters (alpha=0.107122, l1_ratio=0.142938):\n",
      "Elasticnet model (alpha=0.107122, l1_ratio=0.142938):\n",
      "  RMSE: 0.7809899806960868\n",
      "  MAE: 0.6126084100303975\n",
      "  R2: 0.21220939534225536\n"
     ]
    },
    {
     "name": "stderr",
     "output_type": "stream",
     "text": [
      "[I 2019-11-19 20:53:09,773] Finished trial#91 resulted in value: 0.7809899806960868. Current best value is 0.7794260526252847 with parameters: {'alpha': 0.1027822033072079, 'l1_ratio': 0.10010821186339591}.\n",
      "[W 2019-11-19 20:53:09,795] The use of `Trial.trial_id` is deprecated. Please use `Trial.number` instead.\n"
     ]
    },
    {
     "name": "stdout",
     "output_type": "stream",
     "text": [
      "Parameters (alpha=0.148593, l1_ratio=0.148623):\n",
      "Elasticnet model (alpha=0.148593, l1_ratio=0.148623):\n",
      "  RMSE: 0.7828702052177503\n",
      "  MAE: 0.6138340847672802\n",
      "  R2: 0.2084116354131581\n"
     ]
    },
    {
     "name": "stderr",
     "output_type": "stream",
     "text": [
      "[I 2019-11-19 20:53:10,175] Finished trial#92 resulted in value: 0.7828702052177503. Current best value is 0.7794260526252847 with parameters: {'alpha': 0.1027822033072079, 'l1_ratio': 0.10010821186339591}.\n",
      "[W 2019-11-19 20:53:10,194] The use of `Trial.trial_id` is deprecated. Please use `Trial.number` instead.\n"
     ]
    },
    {
     "name": "stdout",
     "output_type": "stream",
     "text": [
      "Parameters (alpha=0.125266, l1_ratio=0.117801):\n",
      "Elasticnet model (alpha=0.125266, l1_ratio=0.117801):\n",
      "  RMSE: 0.781235857855795\n",
      "  MAE: 0.6127327917604378\n",
      "  R2: 0.21171328089236552\n"
     ]
    },
    {
     "name": "stderr",
     "output_type": "stream",
     "text": [
      "[I 2019-11-19 20:53:10,558] Finished trial#93 resulted in value: 0.781235857855795. Current best value is 0.7794260526252847 with parameters: {'alpha': 0.1027822033072079, 'l1_ratio': 0.10010821186339591}.\n",
      "[W 2019-11-19 20:53:10,581] The use of `Trial.trial_id` is deprecated. Please use `Trial.number` instead.\n"
     ]
    },
    {
     "name": "stdout",
     "output_type": "stream",
     "text": [
      "Parameters (alpha=0.102074, l1_ratio=0.136276):\n",
      "Elasticnet model (alpha=0.102074, l1_ratio=0.136276):\n",
      "  RMSE: 0.780445133637203\n",
      "  MAE: 0.6121987179747119\n",
      "  R2: 0.21330819477101826\n"
     ]
    },
    {
     "name": "stderr",
     "output_type": "stream",
     "text": [
      "[I 2019-11-19 20:53:10,954] Finished trial#94 resulted in value: 0.780445133637203. Current best value is 0.7794260526252847 with parameters: {'alpha': 0.1027822033072079, 'l1_ratio': 0.10010821186339591}.\n",
      "[W 2019-11-19 20:53:10,973] The use of `Trial.trial_id` is deprecated. Please use `Trial.number` instead.\n"
     ]
    },
    {
     "name": "stdout",
     "output_type": "stream",
     "text": [
      "Parameters (alpha=0.116344, l1_ratio=0.133486):\n",
      "Elasticnet model (alpha=0.116344, l1_ratio=0.133486):\n",
      "  RMSE: 0.7812557320245825\n",
      "  MAE: 0.6127826087343525\n",
      "  R2: 0.21167317330532964\n"
     ]
    },
    {
     "name": "stderr",
     "output_type": "stream",
     "text": [
      "[I 2019-11-19 20:53:11,338] Finished trial#95 resulted in value: 0.7812557320245825. Current best value is 0.7794260526252847 with parameters: {'alpha': 0.1027822033072079, 'l1_ratio': 0.10010821186339591}.\n",
      "[W 2019-11-19 20:53:11,359] The use of `Trial.trial_id` is deprecated. Please use `Trial.number` instead.\n"
     ]
    },
    {
     "name": "stdout",
     "output_type": "stream",
     "text": [
      "Parameters (alpha=0.188865, l1_ratio=0.186552):\n",
      "Elasticnet model (alpha=0.188865, l1_ratio=0.186552):\n",
      "  RMSE: 0.7850600184857459\n",
      "  MAE: 0.6150900069144882\n",
      "  R2: 0.20397704323285326\n"
     ]
    },
    {
     "name": "stderr",
     "output_type": "stream",
     "text": [
      "[I 2019-11-19 20:53:11,717] Finished trial#96 resulted in value: 0.7850600184857459. Current best value is 0.7794260526252847 with parameters: {'alpha': 0.1027822033072079, 'l1_ratio': 0.10010821186339591}.\n",
      "[W 2019-11-19 20:53:11,738] The use of `Trial.trial_id` is deprecated. Please use `Trial.number` instead.\n"
     ]
    },
    {
     "name": "stdout",
     "output_type": "stream",
     "text": [
      "Parameters (alpha=0.133931, l1_ratio=0.602951):\n",
      "Elasticnet model (alpha=0.133931, l1_ratio=0.602951):\n",
      "  RMSE: 0.788150958815487\n",
      "  MAE: 0.6169807731946214\n",
      "  R2: 0.19769649635468312\n"
     ]
    },
    {
     "name": "stderr",
     "output_type": "stream",
     "text": [
      "[I 2019-11-19 20:53:12,107] Finished trial#97 resulted in value: 0.788150958815487. Current best value is 0.7794260526252847 with parameters: {'alpha': 0.1027822033072079, 'l1_ratio': 0.10010821186339591}.\n",
      "[W 2019-11-19 20:53:12,130] The use of `Trial.trial_id` is deprecated. Please use `Trial.number` instead.\n"
     ]
    },
    {
     "name": "stdout",
     "output_type": "stream",
     "text": [
      "Parameters (alpha=0.340320, l1_ratio=0.114356):\n",
      "Elasticnet model (alpha=0.340320, l1_ratio=0.114356):\n",
      "  RMSE: 0.7892284725918028\n",
      "  MAE: 0.6168051880982486\n",
      "  R2: 0.1955012721773578\n"
     ]
    },
    {
     "name": "stderr",
     "output_type": "stream",
     "text": [
      "[I 2019-11-19 20:53:12,498] Finished trial#98 resulted in value: 0.7892284725918028. Current best value is 0.7794260526252847 with parameters: {'alpha': 0.1027822033072079, 'l1_ratio': 0.10010821186339591}.\n",
      "[W 2019-11-19 20:53:12,517] The use of `Trial.trial_id` is deprecated. Please use `Trial.number` instead.\n"
     ]
    },
    {
     "name": "stdout",
     "output_type": "stream",
     "text": [
      "Parameters (alpha=0.173062, l1_ratio=0.216709):\n",
      "Elasticnet model (alpha=0.173062, l1_ratio=0.216709):\n",
      "  RMSE: 0.7849805858551631\n",
      "  MAE: 0.6151026353147879\n",
      "  R2: 0.20413811881216049\n"
     ]
    },
    {
     "name": "stderr",
     "output_type": "stream",
     "text": [
      "[I 2019-11-19 20:53:12,887] Finished trial#99 resulted in value: 0.7849805858551631. Current best value is 0.7794260526252847 with parameters: {'alpha': 0.1027822033072079, 'l1_ratio': 0.10010821186339591}.\n"
     ]
    }
   ],
   "source": [
    "import optuna\n",
    "from datetime import datetime\n",
    "optuna.logging.set_verbosity(optuna.logging.INFO)\n",
    "ts = datetime.now().strftime('%Y%m%dT%H%M%S')\n",
    "# Define an objective function to be minimized.\n",
    "def objective(trial):\n",
    "\n",
    "    suggested_alpha = trial.suggest_uniform('alpha', 0.1, 0.8)\n",
    "    suggested_l1_ratio = trial.suggest_uniform('l1_ratio', 0.1, 0.8)\n",
    "        \n",
    "    error = train_elasticnet(suggested_alpha, suggested_l1_ratio, trial=\"%s_%s\" % (ts,trial.trial_id))\n",
    "    \n",
    "    return error  # A objective value linked with the Trial object.\n",
    "\n",
    "study = optuna.create_study()  # Create a new study.\n",
    "study.optimize(objective, n_trials=100)  # Invoke optimization of the objective function."
   ]
  },
  {
   "cell_type": "code",
   "execution_count": 145,
   "metadata": {},
   "outputs": [
    {
     "data": {
      "text/plain": [
       "{'alpha': 0.1027822033072079, 'l1_ratio': 0.10010821186339591}"
      ]
     },
     "execution_count": 145,
     "metadata": {},
     "output_type": "execute_result"
    }
   ],
   "source": [
    "study.best_params"
   ]
  },
  {
   "cell_type": "code",
   "execution_count": 146,
   "metadata": {},
   "outputs": [
    {
     "data": {
      "text/plain": [
       "FrozenTrial(number=43, state=TrialState.COMPLETE, value=0.7794260526252847, datetime_start=datetime.datetime(2019, 11, 19, 20, 52, 51, 221698), datetime_complete=datetime.datetime(2019, 11, 19, 20, 52, 51, 590577), params={'alpha': 0.1027822033072079, 'l1_ratio': 0.10010821186339591}, distributions={'alpha': UniformDistribution(high=0.8, low=0.1), 'l1_ratio': UniformDistribution(high=0.8, low=0.1)}, user_attrs={}, system_attrs={'_number': 43}, intermediate_values={}, trial_id=43)"
      ]
     },
     "execution_count": 146,
     "metadata": {},
     "output_type": "execute_result"
    }
   ],
   "source": [
    "study.best_trial"
   ]
  },
  {
   "cell_type": "code",
   "execution_count": 147,
   "metadata": {},
   "outputs": [
    {
     "name": "stdout",
     "output_type": "stream",
     "text": [
      "trial_id: 43\n",
      "tag: 20191119T205235_43\n"
     ]
    }
   ],
   "source": [
    "trial_id = study.best_trial.number\n",
    "print(\"trial_id: %s\" % trial_id)\n",
    "tag = \"%s_%s\" % (ts, trial_id)\n",
    "print(\"tag: %s\" % tag)"
   ]
  },
  {
   "cell_type": "code",
   "execution_count": 152,
   "metadata": {},
   "outputs": [
    {
     "data": {
      "text/html": [
       "<div>\n",
       "<style scoped>\n",
       "    .dataframe tbody tr th:only-of-type {\n",
       "        vertical-align: middle;\n",
       "    }\n",
       "\n",
       "    .dataframe tbody tr th {\n",
       "        vertical-align: top;\n",
       "    }\n",
       "\n",
       "    .dataframe thead th {\n",
       "        text-align: right;\n",
       "    }\n",
       "</style>\n",
       "<table border=\"1\" class=\"dataframe\">\n",
       "  <thead>\n",
       "    <tr style=\"text-align: right;\">\n",
       "      <th></th>\n",
       "      <th>run_id</th>\n",
       "      <th>experiment_id</th>\n",
       "      <th>status</th>\n",
       "      <th>artifact_uri</th>\n",
       "      <th>start_time</th>\n",
       "      <th>end_time</th>\n",
       "      <th>metrics.rmse</th>\n",
       "      <th>metrics.mae</th>\n",
       "      <th>metrics.r2</th>\n",
       "      <th>params.alpha</th>\n",
       "      <th>params.l1_ratio</th>\n",
       "      <th>tags.trial</th>\n",
       "      <th>tags.mlflow.source.name</th>\n",
       "      <th>tags.algo</th>\n",
       "      <th>tags.mlflow.user</th>\n",
       "      <th>tags.mlflow.source.type</th>\n",
       "    </tr>\n",
       "  </thead>\n",
       "  <tbody>\n",
       "    <tr>\n",
       "      <th>0</th>\n",
       "      <td>cfe1faaad16b41d2bdb00b16f1a2d037</td>\n",
       "      <td>7</td>\n",
       "      <td>FINISHED</td>\n",
       "      <td>/opt/mlflow/mlruns/7/cfe1faaad16b41d2bdb00b16f...</td>\n",
       "      <td>2019-11-19 20:52:51.237000+00:00</td>\n",
       "      <td>2019-11-19 20:52:51.499000+00:00</td>\n",
       "      <td>0.779426</td>\n",
       "      <td>0.611384</td>\n",
       "      <td>0.215361</td>\n",
       "      <td>0.1027822033072079</td>\n",
       "      <td>0.10010821186339591</td>\n",
       "      <td>20191119T205235_43</td>\n",
       "      <td>/opt/miniconda/envs/demo/lib/python3.7/site-pa...</td>\n",
       "      <td>ElastiNet</td>\n",
       "      <td>ubuntu</td>\n",
       "      <td>LOCAL</td>\n",
       "    </tr>\n",
       "  </tbody>\n",
       "</table>\n",
       "</div>"
      ],
      "text/plain": [
       "                             run_id experiment_id    status  \\\n",
       "0  cfe1faaad16b41d2bdb00b16f1a2d037             7  FINISHED   \n",
       "\n",
       "                                        artifact_uri  \\\n",
       "0  /opt/mlflow/mlruns/7/cfe1faaad16b41d2bdb00b16f...   \n",
       "\n",
       "                        start_time                         end_time  \\\n",
       "0 2019-11-19 20:52:51.237000+00:00 2019-11-19 20:52:51.499000+00:00   \n",
       "\n",
       "   metrics.rmse  metrics.mae  metrics.r2        params.alpha  \\\n",
       "0      0.779426     0.611384    0.215361  0.1027822033072079   \n",
       "\n",
       "       params.l1_ratio          tags.trial  \\\n",
       "0  0.10010821186339591  20191119T205235_43   \n",
       "\n",
       "                             tags.mlflow.source.name  tags.algo  \\\n",
       "0  /opt/miniconda/envs/demo/lib/python3.7/site-pa...  ElastiNet   \n",
       "\n",
       "  tags.mlflow.user tags.mlflow.source.type  \n",
       "0           ubuntu                   LOCAL  "
      ]
     },
     "execution_count": 152,
     "metadata": {},
     "output_type": "execute_result"
    }
   ],
   "source": [
    "from mlflow.entities import ViewType\n",
    "query = \"tags.trial = '%s'\" % tag\n",
    "runs = mlflow.search_runs(filter_string=query, run_view_type=ViewType.ACTIVE_ONLY)\n",
    "runs.head(10)"
   ]
  },
  {
   "cell_type": "code",
   "execution_count": 159,
   "metadata": {},
   "outputs": [
    {
     "name": "stdout",
     "output_type": "stream",
     "text": [
      "best model - id: cfe1faaad16b41d2bdb00b16f1a2d037 - uri: /opt/mlflow/mlruns/7/cfe1faaad16b41d2bdb00b16f1a2d037/artifacts\n"
     ]
    }
   ],
   "source": [
    "best_model_id = runs['run_id'][0]\n",
    "best_model_uri = runs['artifact_uri'][0]\n",
    "print(\"best model - id: %s - uri: %s\" % (best_model_id, best_model_uri) )"
   ]
  },
  {
   "cell_type": "code",
   "execution_count": 162,
   "metadata": {},
   "outputs": [],
   "source": [
    "from  mlflow.tracking import MlflowClient\n",
    "mlflow_client = MlflowClient()\n",
    "mlflow_client.set_tag(best_model_id, \"best_model\", \"true\")"
   ]
  },
  {
   "cell_type": "code",
   "execution_count": 168,
   "metadata": {},
   "outputs": [
    {
     "data": {
      "text/html": [
       "<div>\n",
       "<style scoped>\n",
       "    .dataframe tbody tr th:only-of-type {\n",
       "        vertical-align: middle;\n",
       "    }\n",
       "\n",
       "    .dataframe tbody tr th {\n",
       "        vertical-align: top;\n",
       "    }\n",
       "\n",
       "    .dataframe thead th {\n",
       "        text-align: right;\n",
       "    }\n",
       "</style>\n",
       "<table border=\"1\" class=\"dataframe\">\n",
       "  <thead>\n",
       "    <tr style=\"text-align: right;\">\n",
       "      <th></th>\n",
       "      <th>run_id</th>\n",
       "      <th>experiment_id</th>\n",
       "      <th>status</th>\n",
       "      <th>artifact_uri</th>\n",
       "      <th>start_time</th>\n",
       "      <th>end_time</th>\n",
       "      <th>metrics.rmse</th>\n",
       "      <th>metrics.mae</th>\n",
       "      <th>metrics.r2</th>\n",
       "      <th>params.alpha</th>\n",
       "      <th>params.l1_ratio</th>\n",
       "      <th>tags.trial</th>\n",
       "      <th>tags.mlflow.source.name</th>\n",
       "      <th>tags.algo</th>\n",
       "      <th>tags.mlflow.user</th>\n",
       "      <th>tags.mlflow.source.type</th>\n",
       "      <th>tags.best_model</th>\n",
       "    </tr>\n",
       "  </thead>\n",
       "  <tbody>\n",
       "    <tr>\n",
       "      <th>0</th>\n",
       "      <td>cfe1faaad16b41d2bdb00b16f1a2d037</td>\n",
       "      <td>7</td>\n",
       "      <td>FINISHED</td>\n",
       "      <td>/opt/mlflow/mlruns/7/cfe1faaad16b41d2bdb00b16f...</td>\n",
       "      <td>2019-11-19 20:52:51.237000+00:00</td>\n",
       "      <td>2019-11-19 20:52:51.499000+00:00</td>\n",
       "      <td>0.779426</td>\n",
       "      <td>0.611384</td>\n",
       "      <td>0.215361</td>\n",
       "      <td>0.1027822033072079</td>\n",
       "      <td>0.10010821186339591</td>\n",
       "      <td>20191119T205235_43</td>\n",
       "      <td>/opt/miniconda/envs/demo/lib/python3.7/site-pa...</td>\n",
       "      <td>ElastiNet</td>\n",
       "      <td>ubuntu</td>\n",
       "      <td>LOCAL</td>\n",
       "      <td>true</td>\n",
       "    </tr>\n",
       "  </tbody>\n",
       "</table>\n",
       "</div>"
      ],
      "text/plain": [
       "                             run_id experiment_id    status  \\\n",
       "0  cfe1faaad16b41d2bdb00b16f1a2d037             7  FINISHED   \n",
       "\n",
       "                                        artifact_uri  \\\n",
       "0  /opt/mlflow/mlruns/7/cfe1faaad16b41d2bdb00b16f...   \n",
       "\n",
       "                        start_time                         end_time  \\\n",
       "0 2019-11-19 20:52:51.237000+00:00 2019-11-19 20:52:51.499000+00:00   \n",
       "\n",
       "   metrics.rmse  metrics.mae  metrics.r2        params.alpha  \\\n",
       "0      0.779426     0.611384    0.215361  0.1027822033072079   \n",
       "\n",
       "       params.l1_ratio          tags.trial  \\\n",
       "0  0.10010821186339591  20191119T205235_43   \n",
       "\n",
       "                             tags.mlflow.source.name  tags.algo  \\\n",
       "0  /opt/miniconda/envs/demo/lib/python3.7/site-pa...  ElastiNet   \n",
       "\n",
       "  tags.mlflow.user tags.mlflow.source.type tags.best_model  \n",
       "0           ubuntu                   LOCAL            true  "
      ]
     },
     "execution_count": 168,
     "metadata": {},
     "output_type": "execute_result"
    }
   ],
   "source": [
    "runs = mlflow.search_runs(filter_string=query, run_view_type=ViewType.ACTIVE_ONLY)\n",
    "runs.head(10)"
   ]
  },
  {
   "cell_type": "code",
   "execution_count": null,
   "metadata": {},
   "outputs": [],
   "source": []
  }
 ],
 "metadata": {
  "kernelspec": {
   "display_name": "Python 3",
   "language": "python",
   "name": "python3"
  }
 },
 "nbformat": 4,
 "nbformat_minor": 2
}
