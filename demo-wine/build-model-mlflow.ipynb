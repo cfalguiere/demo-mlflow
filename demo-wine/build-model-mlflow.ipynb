{
 "cells": [
  {
   "cell_type": "markdown",
   "metadata": {},
   "source": [
    "# Demo Wine avec MLflow"
   ]
  },
  {
   "cell_type": "markdown",
   "metadata": {},
   "source": [
    "## Setup MLflow\n",
    "Par defaut suppose que le repository est le répertoire local mlruns\n",
    "\n",
    "Pour travailler en coopération, on va désigner le serveur \n",
    "soit en ligne de commande avec\n",
    "```\n",
    "export MLFLOW_TRACKING_URI=http://localhost:5000\n",
    "```\n",
    "soit par programme"
   ]
  },
  {
   "cell_type": "code",
   "execution_count": 3,
   "metadata": {},
   "outputs": [],
   "source": [
    "import mlflow\n",
    "server_uri = \"http://localhost:5000\"\n",
    "mlflow.set_tracking_uri(server_uri)"
   ]
  },
  {
   "cell_type": "markdown",
   "metadata": {},
   "source": [
    "## Création d'une expérimentation\n",
    "\n",
    "L'expérimentation peut être crée puis sélectionnée en ligne de commande par\n",
    "```\n",
    "mlflow experiments create --experiment-name ac2  --artifact-location /opt/mlflow/mlruns/\n",
    "export MLFLOW_EXPERIMENT_ID=1\n",
    "```\n",
    "ou par programme (voir ci-après)"
   ]
  },
  {
   "cell_type": "code",
   "execution_count": 4,
   "metadata": {},
   "outputs": [],
   "source": [
    "mlflow.set_experiment(\"wine7\")"
   ]
  },
  {
   "cell_type": "markdown",
   "metadata": {},
   "source": [
    "## Entraînement"
   ]
  },
  {
   "cell_type": "code",
   "execution_count": 5,
   "metadata": {},
   "outputs": [],
   "source": [
    "import warnings\n",
    "import logging\n",
    "logging.basicConfig(level=logging.WARN)\n",
    "logger = logging.getLogger(__name__)\n",
    "\n",
    "import numpy as np\n",
    "warnings.filterwarnings(\"ignore\")\n",
    "np.random.seed(40)\n",
    "\n",
    "import mlflow.sklearn"
   ]
  },
  {
   "cell_type": "code",
   "execution_count": 6,
   "metadata": {},
   "outputs": [],
   "source": [
    "import pandas as pd \n",
    "\n",
    "# read data from file\n",
    "df = pd.read_csv(\"wine-quality.csv\")"
   ]
  },
  {
   "cell_type": "code",
   "execution_count": 7,
   "metadata": {},
   "outputs": [],
   "source": [
    "from sklearn.model_selection import train_test_split\n",
    "# Split the data into training and test sets. (0.75, 0.25) split.\n",
    "train, test = train_test_split(df)\n",
    "\n",
    "# The predicted column is \"quality\" which is a scalar from [3, 9]\n",
    "train_x = train.drop([\"quality\"], axis=1)\n",
    "test_x = test.drop([\"quality\"], axis=1)\n",
    "train_y = train[[\"quality\"]]\n",
    "test_y = test[[\"quality\"]]\n",
    "\n",
    "# make it easy to pass datasets\n",
    "datasets = { 'train_x': train_x, 'train_y': train_y, 'test_x': test_x, 'test_y': test_y }"
   ]
  },
  {
   "cell_type": "code",
   "execution_count": 8,
   "metadata": {},
   "outputs": [
    {
     "name": "stdout",
     "output_type": "stream",
     "text": [
      "['train_x : (3673, 11)', 'train_y : (3673, 1)', 'test_x : (1225, 11)', 'test_y : (1225, 1)']\n"
     ]
    }
   ],
   "source": [
    "shapes = [ \"%s : %s\" % (name, dataset.shape) for (name,dataset) in datasets.items() ]\n",
    "print(shapes)"
   ]
  },
  {
   "cell_type": "code",
   "execution_count": 9,
   "metadata": {},
   "outputs": [],
   "source": [
    "def eval_parameters(in_alpha, in_l1_ratio):\n",
    "    # Set default values if no alpha is provided\n",
    "    alpha = float(in_alpha) if not in_alpha is None else 0.5\n",
    "    # Set default values if no l1_ratio is provided\n",
    "    l1_ratio = float(in_l1_ratio) if not in_l1_ratio is None else 0.5\n",
    "    return alpha, l1_ratio"
   ]
  },
  {
   "cell_type": "code",
   "execution_count": 10,
   "metadata": {},
   "outputs": [],
   "source": [
    "def eval_metrics(actual, predicted):\n",
    "    from sklearn.metrics import mean_squared_error, mean_absolute_error, r2_score\n",
    "    rmse = np.sqrt(mean_squared_error(actual, predicted))\n",
    "    mae = mean_absolute_error(actual, predicted)\n",
    "    r2 = r2_score(actual, predicted)\n",
    "    return rmse, mae, r2\n"
   ]
  },
  {
   "cell_type": "code",
   "execution_count": 11,
   "metadata": {},
   "outputs": [],
   "source": [
    "from sklearn.linear_model import lasso_path, enet_path\n",
    "import matplotlib.pyplot as plt\n",
    "from itertools import cycle\n",
    "def plot_enet_descent_path(tmpdir, X, y, l1_ratio):\n",
    "    # Compute paths\n",
    "    eps = 5e-3  # the smaller it is the longer is the path\n",
    "\n",
    "    # Reference the global image variable\n",
    "    global image\n",
    "    \n",
    "    print(\"Computing regularization path using ElasticNet.\")\n",
    "    alphas_enet, coefs_enet, _ = enet_path(X, y, eps=eps, l1_ratio=l1_ratio, fit_intercept=False)\n",
    "\n",
    "    # Display results\n",
    "    fig = plt.figure(1)\n",
    "    ax = plt.gca()\n",
    "\n",
    "    colors = cycle(['b', 'r', 'g', 'c', 'k'])\n",
    "    neg_log_alphas_enet = -np.log10(alphas_enet)\n",
    "    for coef_e, c in zip(coefs_enet, colors):\n",
    "        l1 = plt.plot(neg_log_alphas_enet, coef_e, linestyle='--', c=c)\n",
    "\n",
    "    plt.xlabel('-Log(alpha)')\n",
    "    plt.ylabel('coefficients')\n",
    "    title = 'ElasticNet Path by alpha for l1_ratio = ' + str(l1_ratio)\n",
    "    plt.title(title)\n",
    "    plt.axis('tight')\n",
    "\n",
    "    # Display images\n",
    "    image = fig\n",
    "    \n",
    "    # Save figure\n",
    "    fig.savefig(os.path.join(tempdir, \"ElasticNet-paths.png\"))\n",
    "\n",
    "    # Close plot\n",
    "    plt.close(fig)\n",
    "\n",
    "    # Return images\n",
    "    return image    \n"
   ]
  },
  {
   "cell_type": "code",
   "execution_count": 12,
   "metadata": {},
   "outputs": [],
   "source": [
    "import os\n",
    "def output_enet_coefs(tempdir, columns, lr):\n",
    "    coef_file_name = os.path.join(tempdir, \"coefs.txt\")\n",
    "    with open(coef_file_name, \"w\") as f: \n",
    "        f.write(\"Coefs:\\n\")         \n",
    "        [ f.write(\"\\t %s: %s\\n\" % (name, coef)) for (name, coef) in zip(columns, lr.coef_) ]\n",
    "        f.write(\"\\t intercept: %s\\n\" % lr.intercept_) "
   ]
  },
  {
   "cell_type": "code",
   "execution_count": 13,
   "metadata": {},
   "outputs": [],
   "source": [
    "def plot_enet_feature_importance(tempdir, columns, coefs):\n",
    "    # Reference the global image variable\n",
    "    global image\n",
    "    \n",
    "    # Display results\n",
    "    fig = plt.figure(1)\n",
    "    ax = plt.gca()\n",
    "    \n",
    "    feature_importance = pd.Series(index = columns, data = np.abs(coefs))\n",
    "    n_selected_features = (feature_importance>0).sum()\n",
    "    print('{0:d} features, reduction of {1:2.2f}%'.format(\n",
    "        n_selected_features,(1-n_selected_features/len(feature_importance))*100))\n",
    "    feature_importance.sort_values().tail(30).plot(kind = 'bar', figsize = (20,12));\n",
    "    \n",
    "    # Display images\n",
    "    image = fig\n",
    "    \n",
    "    # Save figure\n",
    "    fig.savefig(os.path.join(tempdir, \"feature-importance.png\"))\n",
    "\n",
    "    # Close plot\n",
    "    plt.close(fig)\n",
    "\n",
    "    # Return images\n",
    "    return image    "
   ]
  },
  {
   "cell_type": "code",
   "execution_count": 14,
   "metadata": {},
   "outputs": [],
   "source": [
    "import tempfile\n",
    "def train_elasticnet(in_alpha, in_l1_ratio, trial=None):\n",
    "    from sklearn.linear_model import ElasticNet\n",
    "\n",
    "    alpha, l1_ratio = eval_parameters(in_alpha, in_l1_ratio)\n",
    "    print(\"Parameters (alpha=%f, l1_ratio=%f):\" % (alpha, l1_ratio))\n",
    "    \n",
    "    run_name = \"en_%f_%f\" % (alpha,l1_ratio)\n",
    "    with mlflow.start_run() as run:\n",
    "        # train with ElasticNet\n",
    "        lr = ElasticNet(alpha=alpha, l1_ratio=l1_ratio, random_state=42)\n",
    "        lr.fit(train_x, train_y)\n",
    "\n",
    "        # Evaluate Metrics\n",
    "        predicted_qualities = lr.predict(test_x)\n",
    "        (rmse, mae, r2) = eval_metrics(test_y, predicted_qualities)\n",
    "\n",
    "        # Print out metrics\n",
    "        print(\"Elasticnet model (alpha=%f, l1_ratio=%f):\" % (alpha, l1_ratio))\n",
    "        print(\"  RMSE: %s\" % rmse)\n",
    "        print(\"  MAE: %s\" % mae)\n",
    "        print(\"  R2: %s\" % r2)\n",
    "\n",
    "        # Log parameter, metrics, and model to MLflow\n",
    "        mlflow.log_param(\"alpha\", alpha)\n",
    "        mlflow.log_param(\"l1_ratio\", l1_ratio)\n",
    "        mlflow.log_metric(\"rmse\", rmse)\n",
    "        mlflow.log_metric(\"mae\", mae)\n",
    "        mlflow.log_metric(\"r2\", r2)\n",
    "        mlflow.set_tag(\"algo\", \"ElastiNet\")\n",
    "        if trial != None:\n",
    "             mlflow.set_tag(\"trial\", trial)\n",
    "        \n",
    "        #run_id = run.info.run_id\n",
    "        # store info       \n",
    "        with tempfile.TemporaryDirectory() as tmpdirname:  \n",
    "            output_enet_coefs(tmpdirname, train_x.columns, lr) \n",
    "\n",
    "            # plots\n",
    "            plot_enet_feature_importance(tmpdirname, train_x.columns, lr.coef_)\n",
    "            # Call plot_enet_descent_path\n",
    "            #image = plot_enet_descent_path(tmpdirname, train_x, train_y, l1_ratio)\n",
    "\n",
    "            # Log artifacts (output files)\n",
    "            mlflow.log_artifacts(tmpdirname, artifact_path=\"artifacts\")\n",
    "\n",
    "\n",
    "        # store model\n",
    "        mlflow.sklearn.log_model(lr, \"model\")\n",
    "        \n",
    "        return rmse"
   ]
  },
  {
   "cell_type": "code",
   "execution_count": 15,
   "metadata": {},
   "outputs": [
    {
     "name": "stdout",
     "output_type": "stream",
     "text": [
      "Parameters (alpha=0.500000, l1_ratio=0.500000):\n",
      "Elasticnet model (alpha=0.500000, l1_ratio=0.500000):\n",
      "  RMSE: 0.82224284975954\n",
      "  MAE: 0.6278761410160693\n",
      "  R2: 0.12678721972772689\n",
      "3 features, reduction of 72.73%\n"
     ]
    },
    {
     "data": {
      "text/plain": [
       "0.82224284975954"
      ]
     },
     "execution_count": 15,
     "metadata": {},
     "output_type": "execute_result"
    }
   ],
   "source": [
    "train_elasticnet(0.5, 0.5) # alpha 0.5, L1 0.5"
   ]
  },
  {
   "cell_type": "code",
   "execution_count": 16,
   "metadata": {},
   "outputs": [
    {
     "name": "stdout",
     "output_type": "stream",
     "text": [
      "Parameters (alpha=0.500000, l1_ratio=0.400000):\n",
      "Elasticnet model (alpha=0.500000, l1_ratio=0.400000):\n",
      "  RMSE: 0.8134651568415164\n",
      "  MAE: 0.6249674191990106\n",
      "  R2: 0.1453313314484228\n",
      "3 features, reduction of 72.73%\n"
     ]
    },
    {
     "data": {
      "text/plain": [
       "0.8134651568415164"
      ]
     },
     "execution_count": 16,
     "metadata": {},
     "output_type": "execute_result"
    }
   ],
   "source": [
    "train_elasticnet(0.5, 0.4)"
   ]
  },
  {
   "cell_type": "markdown",
   "metadata": {},
   "source": [
    "## Auto tuning"
   ]
  },
  {
   "cell_type": "code",
   "execution_count": 17,
   "metadata": {},
   "outputs": [
    {
     "name": "stdout",
     "output_type": "stream",
     "text": [
      "Requirement already satisfied: optuna in /opt/miniconda/envs/demo/lib/python3.7/site-packages (0.19.0)\n",
      "Requirement already satisfied: numpy in /opt/miniconda/envs/demo/lib/python3.7/site-packages (from optuna) (1.17.3)\n",
      "Requirement already satisfied: typing in /opt/miniconda/envs/demo/lib/python3.7/site-packages (from optuna) (3.7.4.1)\n",
      "Requirement already satisfied: colorlog in /opt/miniconda/envs/demo/lib/python3.7/site-packages (from optuna) (4.0.2)\n",
      "Requirement already satisfied: six in /opt/miniconda/envs/demo/lib/python3.7/site-packages (from optuna) (1.13.0)\n",
      "Requirement already satisfied: sqlalchemy>=1.1.0 in /opt/miniconda/envs/demo/lib/python3.7/site-packages (from optuna) (1.3.11)\n",
      "Requirement already satisfied: alembic in /opt/miniconda/envs/demo/lib/python3.7/site-packages (from optuna) (1.3.1)\n",
      "Requirement already satisfied: cliff in /opt/miniconda/envs/demo/lib/python3.7/site-packages (from optuna) (2.16.0)\n",
      "Requirement already satisfied: tqdm in /opt/miniconda/envs/demo/lib/python3.7/site-packages (from optuna) (4.38.0)\n",
      "Requirement already satisfied: scipy in /opt/miniconda/envs/demo/lib/python3.7/site-packages (from optuna) (1.3.2)\n",
      "Requirement already satisfied: python-dateutil in /opt/miniconda/envs/demo/lib/python3.7/site-packages (from alembic->optuna) (2.8.1)\n",
      "Requirement already satisfied: Mako in /opt/miniconda/envs/demo/lib/python3.7/site-packages (from alembic->optuna) (1.1.0)\n",
      "Requirement already satisfied: python-editor>=0.3 in /opt/miniconda/envs/demo/lib/python3.7/site-packages (from alembic->optuna) (1.0.4)\n",
      "Requirement already satisfied: pyparsing>=2.1.0 in /opt/miniconda/envs/demo/lib/python3.7/site-packages (from cliff->optuna) (2.4.5)\n",
      "Requirement already satisfied: cmd2!=0.8.3,<0.9.0,>=0.8.0 in /opt/miniconda/envs/demo/lib/python3.7/site-packages (from cliff->optuna) (0.8.9)\n",
      "Requirement already satisfied: pbr!=2.1.0,>=2.0.0 in /opt/miniconda/envs/demo/lib/python3.7/site-packages (from cliff->optuna) (5.4.3)\n",
      "Requirement already satisfied: stevedore>=1.20.0 in /opt/miniconda/envs/demo/lib/python3.7/site-packages (from cliff->optuna) (1.31.0)\n",
      "Requirement already satisfied: PrettyTable<0.8,>=0.7.2 in /opt/miniconda/envs/demo/lib/python3.7/site-packages (from cliff->optuna) (0.7.2)\n",
      "Requirement already satisfied: PyYAML>=3.12 in /opt/miniconda/envs/demo/lib/python3.7/site-packages (from cliff->optuna) (5.1.2)\n",
      "Requirement already satisfied: MarkupSafe>=0.9.2 in /opt/miniconda/envs/demo/lib/python3.7/site-packages (from Mako->alembic->optuna) (1.1.1)\n",
      "Requirement already satisfied: wcwidth; sys_platform != \"win32\" in /opt/miniconda/envs/demo/lib/python3.7/site-packages (from cmd2!=0.8.3,<0.9.0,>=0.8.0->cliff->optuna) (0.1.7)\n",
      "Requirement already satisfied: pyperclip in /opt/miniconda/envs/demo/lib/python3.7/site-packages (from cmd2!=0.8.3,<0.9.0,>=0.8.0->cliff->optuna) (1.7.0)\n"
     ]
    }
   ],
   "source": [
    "!pip install optuna"
   ]
  },
  {
   "cell_type": "code",
   "execution_count": 18,
   "metadata": {},
   "outputs": [
    {
     "name": "stderr",
     "output_type": "stream",
     "text": [
      "[W 2019-11-21 16:45:48,704] The use of `Trial.trial_id` is deprecated. Please use `Trial.number` instead.\n"
     ]
    },
    {
     "name": "stdout",
     "output_type": "stream",
     "text": [
      "Parameters (alpha=0.284014, l1_ratio=0.286575):\n",
      "Elasticnet model (alpha=0.284014, l1_ratio=0.286575):\n",
      "  RMSE: 0.7926654218357168\n",
      "  MAE: 0.6186358180524036\n",
      "  R2: 0.1884791183198683\n",
      "4 features, reduction of 63.64%\n"
     ]
    },
    {
     "name": "stderr",
     "output_type": "stream",
     "text": [
      "[I 2019-11-21 16:45:49,156] Finished trial#0 resulted in value: 0.7926654218357168. Current best value is 0.7926654218357168 with parameters: {'alpha': 0.28401433914824936, 'l1_ratio': 0.28657524954696023}.\n",
      "[W 2019-11-21 16:45:49,159] The use of `Trial.trial_id` is deprecated. Please use `Trial.number` instead.\n"
     ]
    },
    {
     "name": "stdout",
     "output_type": "stream",
     "text": [
      "Parameters (alpha=0.169605, l1_ratio=0.568143):\n",
      "Elasticnet model (alpha=0.169605, l1_ratio=0.568143):\n",
      "  RMSE: 0.791071871143961\n",
      "  MAE: 0.6183016651201375\n",
      "  R2: 0.19173875276830044\n",
      "4 features, reduction of 63.64%\n"
     ]
    },
    {
     "name": "stderr",
     "output_type": "stream",
     "text": [
      "[I 2019-11-21 16:45:49,603] Finished trial#1 resulted in value: 0.791071871143961. Current best value is 0.791071871143961 with parameters: {'alpha': 0.16960522906120284, 'l1_ratio': 0.5681434297161756}.\n",
      "[W 2019-11-21 16:45:49,606] The use of `Trial.trial_id` is deprecated. Please use `Trial.number` instead.\n"
     ]
    },
    {
     "name": "stdout",
     "output_type": "stream",
     "text": [
      "Parameters (alpha=0.167355, l1_ratio=0.299802):\n",
      "Elasticnet model (alpha=0.167355, l1_ratio=0.299802):\n",
      "  RMSE: 0.78609070205462\n",
      "  MAE: 0.6157498829345069\n",
      "  R2: 0.20188551816662437\n",
      "4 features, reduction of 63.64%\n"
     ]
    },
    {
     "name": "stderr",
     "output_type": "stream",
     "text": [
      "[I 2019-11-21 16:45:50,055] Finished trial#2 resulted in value: 0.78609070205462. Current best value is 0.78609070205462 with parameters: {'alpha': 0.16735484993659588, 'l1_ratio': 0.29980166294985}.\n",
      "[W 2019-11-21 16:45:50,061] The use of `Trial.trial_id` is deprecated. Please use `Trial.number` instead.\n"
     ]
    },
    {
     "name": "stdout",
     "output_type": "stream",
     "text": [
      "Parameters (alpha=0.176957, l1_ratio=0.636385):\n",
      "Elasticnet model (alpha=0.176957, l1_ratio=0.636385):\n",
      "  RMSE: 0.79353115103093\n",
      "  MAE: 0.619372446643624\n",
      "  R2: 0.18670550499416938\n",
      "4 features, reduction of 63.64%\n"
     ]
    },
    {
     "name": "stderr",
     "output_type": "stream",
     "text": [
      "[I 2019-11-21 16:45:50,512] Finished trial#3 resulted in value: 0.79353115103093. Current best value is 0.78609070205462 with parameters: {'alpha': 0.16735484993659588, 'l1_ratio': 0.29980166294985}.\n",
      "[W 2019-11-21 16:45:50,517] The use of `Trial.trial_id` is deprecated. Please use `Trial.number` instead.\n"
     ]
    },
    {
     "name": "stdout",
     "output_type": "stream",
     "text": [
      "Parameters (alpha=0.795617, l1_ratio=0.495704):\n",
      "Elasticnet model (alpha=0.795617, l1_ratio=0.495704):\n",
      "  RMSE: 0.8591204931858903\n",
      "  MAE: 0.6484520634737146\n",
      "  R2: 0.04670343163732538\n",
      "2 features, reduction of 81.82%\n"
     ]
    },
    {
     "name": "stderr",
     "output_type": "stream",
     "text": [
      "[I 2019-11-21 16:45:50,968] Finished trial#4 resulted in value: 0.8591204931858903. Current best value is 0.78609070205462 with parameters: {'alpha': 0.16735484993659588, 'l1_ratio': 0.29980166294985}.\n",
      "[W 2019-11-21 16:45:50,974] The use of `Trial.trial_id` is deprecated. Please use `Trial.number` instead.\n"
     ]
    },
    {
     "name": "stdout",
     "output_type": "stream",
     "text": [
      "Parameters (alpha=0.756680, l1_ratio=0.672489):\n",
      "Elasticnet model (alpha=0.756680, l1_ratio=0.672489):\n",
      "  RMSE: 0.8593738257082941\n",
      "  MAE: 0.64808792680291\n",
      "  R2: 0.0461411435010366\n",
      "2 features, reduction of 81.82%\n"
     ]
    },
    {
     "name": "stderr",
     "output_type": "stream",
     "text": [
      "[I 2019-11-21 16:45:51,420] Finished trial#5 resulted in value: 0.8593738257082941. Current best value is 0.78609070205462 with parameters: {'alpha': 0.16735484993659588, 'l1_ratio': 0.29980166294985}.\n",
      "[W 2019-11-21 16:45:51,425] The use of `Trial.trial_id` is deprecated. Please use `Trial.number` instead.\n"
     ]
    },
    {
     "name": "stdout",
     "output_type": "stream",
     "text": [
      "Parameters (alpha=0.761243, l1_ratio=0.485079):\n",
      "Elasticnet model (alpha=0.761243, l1_ratio=0.485079):\n",
      "  RMSE: 0.8532032663198574\n",
      "  MAE: 0.6442339233353273\n",
      "  R2: 0.05978994568014695\n",
      "3 features, reduction of 72.73%\n"
     ]
    },
    {
     "name": "stderr",
     "output_type": "stream",
     "text": [
      "[I 2019-11-21 16:45:51,874] Finished trial#6 resulted in value: 0.8532032663198574. Current best value is 0.78609070205462 with parameters: {'alpha': 0.16735484993659588, 'l1_ratio': 0.29980166294985}.\n",
      "[W 2019-11-21 16:45:51,881] The use of `Trial.trial_id` is deprecated. Please use `Trial.number` instead.\n"
     ]
    },
    {
     "name": "stdout",
     "output_type": "stream",
     "text": [
      "Parameters (alpha=0.488468, l1_ratio=0.636855):\n",
      "Elasticnet model (alpha=0.488468, l1_ratio=0.636855):\n",
      "  RMSE: 0.8356059986887688\n",
      "  MAE: 0.6337812559918685\n",
      "  R2: 0.09817354652156962\n",
      "3 features, reduction of 72.73%\n"
     ]
    },
    {
     "name": "stderr",
     "output_type": "stream",
     "text": [
      "[I 2019-11-21 16:45:52,346] Finished trial#7 resulted in value: 0.8356059986887688. Current best value is 0.78609070205462 with parameters: {'alpha': 0.16735484993659588, 'l1_ratio': 0.29980166294985}.\n",
      "[W 2019-11-21 16:45:52,351] The use of `Trial.trial_id` is deprecated. Please use `Trial.number` instead.\n"
     ]
    },
    {
     "name": "stdout",
     "output_type": "stream",
     "text": [
      "Parameters (alpha=0.205692, l1_ratio=0.761175):\n",
      "Elasticnet model (alpha=0.205692, l1_ratio=0.761175):\n",
      "  RMSE: 0.7997038739914807\n",
      "  MAE: 0.6212240796206294\n",
      "  R2: 0.17400337645605723\n",
      "3 features, reduction of 72.73%\n"
     ]
    },
    {
     "name": "stderr",
     "output_type": "stream",
     "text": [
      "[I 2019-11-21 16:45:52,806] Finished trial#8 resulted in value: 0.7997038739914807. Current best value is 0.78609070205462 with parameters: {'alpha': 0.16735484993659588, 'l1_ratio': 0.29980166294985}.\n",
      "[W 2019-11-21 16:45:52,810] The use of `Trial.trial_id` is deprecated. Please use `Trial.number` instead.\n"
     ]
    },
    {
     "name": "stdout",
     "output_type": "stream",
     "text": [
      "Parameters (alpha=0.574791, l1_ratio=0.446746):\n",
      "Elasticnet model (alpha=0.574791, l1_ratio=0.446746):\n",
      "  RMSE: 0.825073207528356\n",
      "  MAE: 0.6290827116737711\n",
      "  R2: 0.1207652559393696\n",
      "3 features, reduction of 72.73%\n"
     ]
    },
    {
     "name": "stderr",
     "output_type": "stream",
     "text": [
      "[I 2019-11-21 16:45:53,263] Finished trial#9 resulted in value: 0.825073207528356. Current best value is 0.78609070205462 with parameters: {'alpha': 0.16735484993659588, 'l1_ratio': 0.29980166294985}.\n",
      "[W 2019-11-21 16:45:53,275] The use of `Trial.trial_id` is deprecated. Please use `Trial.number` instead.\n"
     ]
    },
    {
     "name": "stdout",
     "output_type": "stream",
     "text": [
      "Parameters (alpha=0.346755, l1_ratio=0.110223):\n",
      "Elasticnet model (alpha=0.346755, l1_ratio=0.110223):\n",
      "  RMSE: 0.7892939689231222\n",
      "  MAE: 0.6168180171968558\n",
      "  R2: 0.19536773948451147\n",
      "5 features, reduction of 54.55%\n"
     ]
    },
    {
     "name": "stderr",
     "output_type": "stream",
     "text": [
      "[I 2019-11-21 16:45:53,737] Finished trial#10 resulted in value: 0.7892939689231222. Current best value is 0.78609070205462 with parameters: {'alpha': 0.16735484993659588, 'l1_ratio': 0.29980166294985}.\n",
      "[W 2019-11-21 16:45:53,748] The use of `Trial.trial_id` is deprecated. Please use `Trial.number` instead.\n"
     ]
    },
    {
     "name": "stdout",
     "output_type": "stream",
     "text": [
      "Parameters (alpha=0.392029, l1_ratio=0.109129):\n",
      "Elasticnet model (alpha=0.392029, l1_ratio=0.109129):\n",
      "  RMSE: 0.7911140393728309\n",
      "  MAE: 0.6175541892288833\n",
      "  R2: 0.1916525814483434\n",
      "5 features, reduction of 54.55%\n"
     ]
    },
    {
     "name": "stderr",
     "output_type": "stream",
     "text": [
      "[I 2019-11-21 16:45:54,205] Finished trial#11 resulted in value: 0.7911140393728309. Current best value is 0.78609070205462 with parameters: {'alpha': 0.16735484993659588, 'l1_ratio': 0.29980166294985}.\n",
      "[W 2019-11-21 16:45:54,217] The use of `Trial.trial_id` is deprecated. Please use `Trial.number` instead.\n"
     ]
    },
    {
     "name": "stdout",
     "output_type": "stream",
     "text": [
      "Parameters (alpha=0.330808, l1_ratio=0.115244):\n",
      "Elasticnet model (alpha=0.330808, l1_ratio=0.115244):\n",
      "  RMSE: 0.7888762195456919\n",
      "  MAE: 0.6166588534302462\n",
      "  R2: 0.1962192490264223\n",
      "5 features, reduction of 54.55%\n"
     ]
    },
    {
     "name": "stderr",
     "output_type": "stream",
     "text": [
      "[I 2019-11-21 16:45:54,668] Finished trial#12 resulted in value: 0.7888762195456919. Current best value is 0.78609070205462 with parameters: {'alpha': 0.16735484993659588, 'l1_ratio': 0.29980166294985}.\n",
      "[W 2019-11-21 16:45:54,680] The use of `Trial.trial_id` is deprecated. Please use `Trial.number` instead.\n"
     ]
    },
    {
     "name": "stdout",
     "output_type": "stream",
     "text": [
      "Parameters (alpha=0.108666, l1_ratio=0.246578):\n",
      "Elasticnet model (alpha=0.108666, l1_ratio=0.246578):\n",
      "  RMSE: 0.7825580976721205\n",
      "  MAE: 0.6137570575793523\n",
      "  R2: 0.20904267604293703\n",
      "5 features, reduction of 54.55%\n"
     ]
    },
    {
     "name": "stderr",
     "output_type": "stream",
     "text": [
      "[I 2019-11-21 16:45:55,140] Finished trial#13 resulted in value: 0.7825580976721205. Current best value is 0.7825580976721205 with parameters: {'alpha': 0.10866615558690618, 'l1_ratio': 0.24657752085596468}.\n",
      "[W 2019-11-21 16:45:55,148] The use of `Trial.trial_id` is deprecated. Please use `Trial.number` instead.\n"
     ]
    },
    {
     "name": "stdout",
     "output_type": "stream",
     "text": [
      "Parameters (alpha=0.112298, l1_ratio=0.296810):\n",
      "Elasticnet model (alpha=0.112298, l1_ratio=0.296810):\n",
      "  RMSE: 0.7832504144302974\n",
      "  MAE: 0.6142350264843508\n",
      "  R2: 0.20764256214611376\n",
      "5 features, reduction of 54.55%\n"
     ]
    },
    {
     "name": "stderr",
     "output_type": "stream",
     "text": [
      "[I 2019-11-21 16:45:55,621] Finished trial#14 resulted in value: 0.7832504144302974. Current best value is 0.7825580976721205 with parameters: {'alpha': 0.10866615558690618, 'l1_ratio': 0.24657752085596468}.\n",
      "[W 2019-11-21 16:45:55,633] The use of `Trial.trial_id` is deprecated. Please use `Trial.number` instead.\n"
     ]
    },
    {
     "name": "stdout",
     "output_type": "stream",
     "text": [
      "Parameters (alpha=0.108385, l1_ratio=0.259017):\n",
      "Elasticnet model (alpha=0.108385, l1_ratio=0.259017):\n",
      "  RMSE: 0.7826675647961172\n",
      "  MAE: 0.6138295794171916\n",
      "  R2: 0.20882137648818655\n",
      "5 features, reduction of 54.55%\n"
     ]
    },
    {
     "name": "stderr",
     "output_type": "stream",
     "text": [
      "[I 2019-11-21 16:45:56,108] Finished trial#15 resulted in value: 0.7826675647961172. Current best value is 0.7825580976721205 with parameters: {'alpha': 0.10866615558690618, 'l1_ratio': 0.24657752085596468}.\n",
      "[W 2019-11-21 16:45:56,120] The use of `Trial.trial_id` is deprecated. Please use `Trial.number` instead.\n"
     ]
    },
    {
     "name": "stdout",
     "output_type": "stream",
     "text": [
      "Parameters (alpha=0.114576, l1_ratio=0.216484):\n",
      "Elasticnet model (alpha=0.114576, l1_ratio=0.216484):\n",
      "  RMSE: 0.7824886013725944\n",
      "  MAE: 0.6136941245197465\n",
      "  R2: 0.20918315421695366\n",
      "5 features, reduction of 54.55%\n"
     ]
    },
    {
     "name": "stderr",
     "output_type": "stream",
     "text": [
      "[I 2019-11-21 16:45:56,582] Finished trial#16 resulted in value: 0.7824886013725944. Current best value is 0.7824886013725944 with parameters: {'alpha': 0.11457555897157684, 'l1_ratio': 0.2164840614749266}.\n",
      "[W 2019-11-21 16:45:56,594] The use of `Trial.trial_id` is deprecated. Please use `Trial.number` instead.\n"
     ]
    },
    {
     "name": "stdout",
     "output_type": "stream",
     "text": [
      "Parameters (alpha=0.268292, l1_ratio=0.209249):\n",
      "Elasticnet model (alpha=0.268292, l1_ratio=0.209249):\n",
      "  RMSE: 0.7892955401675218\n",
      "  MAE: 0.6170768901909675\n",
      "  R2: 0.1953645359247701\n",
      "4 features, reduction of 63.64%\n"
     ]
    },
    {
     "name": "stderr",
     "output_type": "stream",
     "text": [
      "[I 2019-11-21 16:45:57,057] Finished trial#17 resulted in value: 0.7892955401675218. Current best value is 0.7824886013725944 with parameters: {'alpha': 0.11457555897157684, 'l1_ratio': 0.2164840614749266}.\n",
      "[W 2019-11-21 16:45:57,069] The use of `Trial.trial_id` is deprecated. Please use `Trial.number` instead.\n"
     ]
    },
    {
     "name": "stdout",
     "output_type": "stream",
     "text": [
      "Parameters (alpha=0.619203, l1_ratio=0.390509):\n",
      "Elasticnet model (alpha=0.619203, l1_ratio=0.390509):\n",
      "  RMSE: 0.8230978324288114\n",
      "  MAE: 0.6282463961435846\n",
      "  R2: 0.12497031138144088\n",
      "3 features, reduction of 72.73%\n"
     ]
    },
    {
     "name": "stderr",
     "output_type": "stream",
     "text": [
      "[I 2019-11-21 16:45:57,531] Finished trial#18 resulted in value: 0.8230978324288114. Current best value is 0.7824886013725944 with parameters: {'alpha': 0.11457555897157684, 'l1_ratio': 0.2164840614749266}.\n",
      "[W 2019-11-21 16:45:57,543] The use of `Trial.trial_id` is deprecated. Please use `Trial.number` instead.\n"
     ]
    },
    {
     "name": "stdout",
     "output_type": "stream",
     "text": [
      "Parameters (alpha=0.241321, l1_ratio=0.218497):\n",
      "Elasticnet model (alpha=0.241321, l1_ratio=0.218497):\n",
      "  RMSE: 0.7882261566711818\n",
      "  MAE: 0.6166079091197139\n",
      "  R2: 0.19754339273780774\n",
      "4 features, reduction of 63.64%\n"
     ]
    },
    {
     "name": "stderr",
     "output_type": "stream",
     "text": [
      "[I 2019-11-21 16:45:58,010] Finished trial#19 resulted in value: 0.7882261566711818. Current best value is 0.7824886013725944 with parameters: {'alpha': 0.11457555897157684, 'l1_ratio': 0.2164840614749266}.\n",
      "[W 2019-11-21 16:45:58,024] The use of `Trial.trial_id` is deprecated. Please use `Trial.number` instead.\n"
     ]
    },
    {
     "name": "stdout",
     "output_type": "stream",
     "text": [
      "Parameters (alpha=0.103311, l1_ratio=0.380389):\n",
      "Elasticnet model (alpha=0.103311, l1_ratio=0.380389):\n",
      "  RMSE: 0.7837361104137579\n",
      "  MAE: 0.6146013325990286\n",
      "  R2: 0.20665957090942555\n",
      "5 features, reduction of 54.55%\n"
     ]
    },
    {
     "name": "stderr",
     "output_type": "stream",
     "text": [
      "[I 2019-11-21 16:45:58,495] Finished trial#20 resulted in value: 0.7837361104137579. Current best value is 0.7824886013725944 with parameters: {'alpha': 0.11457555897157684, 'l1_ratio': 0.2164840614749266}.\n",
      "[W 2019-11-21 16:45:58,505] The use of `Trial.trial_id` is deprecated. Please use `Trial.number` instead.\n"
     ]
    },
    {
     "name": "stdout",
     "output_type": "stream",
     "text": [
      "Parameters (alpha=0.103091, l1_ratio=0.199438):\n",
      "Elasticnet model (alpha=0.103091, l1_ratio=0.199438):\n",
      "  RMSE: 0.7819649667728438\n",
      "  MAE: 0.6133766303776559\n",
      "  R2: 0.21024121565334286\n",
      "5 features, reduction of 54.55%\n"
     ]
    },
    {
     "name": "stderr",
     "output_type": "stream",
     "text": [
      "[I 2019-11-21 16:45:58,977] Finished trial#21 resulted in value: 0.7819649667728438. Current best value is 0.7819649667728438 with parameters: {'alpha': 0.10309094813799674, 'l1_ratio': 0.19943776247806536}.\n",
      "[W 2019-11-21 16:45:58,987] The use of `Trial.trial_id` is deprecated. Please use `Trial.number` instead.\n"
     ]
    },
    {
     "name": "stdout",
     "output_type": "stream",
     "text": [
      "Parameters (alpha=0.113897, l1_ratio=0.184054):\n",
      "Elasticnet model (alpha=0.113897, l1_ratio=0.184054):\n",
      "  RMSE: 0.7821681398211805\n",
      "  MAE: 0.6134842074415103\n",
      "  R2: 0.20983076620395869\n",
      "5 features, reduction of 54.55%\n"
     ]
    },
    {
     "name": "stderr",
     "output_type": "stream",
     "text": [
      "[I 2019-11-21 16:45:59,461] Finished trial#22 resulted in value: 0.7821681398211805. Current best value is 0.7819649667728438 with parameters: {'alpha': 0.10309094813799674, 'l1_ratio': 0.19943776247806536}.\n",
      "[W 2019-11-21 16:45:59,474] The use of `Trial.trial_id` is deprecated. Please use `Trial.number` instead.\n"
     ]
    },
    {
     "name": "stdout",
     "output_type": "stream",
     "text": [
      "Parameters (alpha=0.104564, l1_ratio=0.176499):\n",
      "Elasticnet model (alpha=0.104564, l1_ratio=0.176499):\n",
      "  RMSE: 0.7818388905332415\n",
      "  MAE: 0.6132762236920246\n",
      "  R2: 0.21049586079764282\n",
      "5 features, reduction of 54.55%\n"
     ]
    },
    {
     "name": "stderr",
     "output_type": "stream",
     "text": [
      "[I 2019-11-21 16:45:59,958] Finished trial#23 resulted in value: 0.7818388905332415. Current best value is 0.7818388905332415 with parameters: {'alpha': 0.10456362926661286, 'l1_ratio': 0.1764986306944264}.\n",
      "[W 2019-11-21 16:45:59,971] The use of `Trial.trial_id` is deprecated. Please use `Trial.number` instead.\n"
     ]
    },
    {
     "name": "stdout",
     "output_type": "stream",
     "text": [
      "Parameters (alpha=0.220126, l1_ratio=0.161011):\n",
      "Elasticnet model (alpha=0.220126, l1_ratio=0.161011):\n",
      "  RMSE: 0.7858047238005372\n",
      "  MAE: 0.6154010949131681\n",
      "  R2: 0.2024661175000817\n",
      "5 features, reduction of 54.55%\n"
     ]
    },
    {
     "name": "stderr",
     "output_type": "stream",
     "text": [
      "[I 2019-11-21 16:46:00,447] Finished trial#24 resulted in value: 0.7858047238005372. Current best value is 0.7818388905332415 with parameters: {'alpha': 0.10456362926661286, 'l1_ratio': 0.1764986306944264}.\n",
      "[W 2019-11-21 16:46:00,460] The use of `Trial.trial_id` is deprecated. Please use `Trial.number` instead.\n"
     ]
    },
    {
     "name": "stdout",
     "output_type": "stream",
     "text": [
      "Parameters (alpha=0.154875, l1_ratio=0.166049):\n",
      "Elasticnet model (alpha=0.154875, l1_ratio=0.166049):\n",
      "  RMSE: 0.7833187211427606\n",
      "  MAE: 0.6141165794229319\n",
      "  R2: 0.20750435426085267\n",
      "5 features, reduction of 54.55%\n"
     ]
    },
    {
     "name": "stderr",
     "output_type": "stream",
     "text": [
      "[I 2019-11-21 16:46:00,943] Finished trial#25 resulted in value: 0.7833187211427606. Current best value is 0.7818388905332415 with parameters: {'alpha': 0.10456362926661286, 'l1_ratio': 0.1764986306944264}.\n",
      "[W 2019-11-21 16:46:00,954] The use of `Trial.trial_id` is deprecated. Please use `Trial.number` instead.\n"
     ]
    },
    {
     "name": "stdout",
     "output_type": "stream",
     "text": [
      "Parameters (alpha=0.437876, l1_ratio=0.347580):\n",
      "Elasticnet model (alpha=0.437876, l1_ratio=0.347580):\n",
      "  RMSE: 0.8052492418614802\n",
      "  MAE: 0.6225721673540764\n",
      "  R2: 0.16250828093913372\n",
      "3 features, reduction of 72.73%\n"
     ]
    },
    {
     "name": "stderr",
     "output_type": "stream",
     "text": [
      "[I 2019-11-21 16:46:01,447] Finished trial#26 resulted in value: 0.8052492418614802. Current best value is 0.7818388905332415 with parameters: {'alpha': 0.10456362926661286, 'l1_ratio': 0.1764986306944264}.\n",
      "[W 2019-11-21 16:46:01,462] The use of `Trial.trial_id` is deprecated. Please use `Trial.number` instead.\n"
     ]
    },
    {
     "name": "stdout",
     "output_type": "stream",
     "text": [
      "Parameters (alpha=0.291379, l1_ratio=0.156304):\n",
      "Elasticnet model (alpha=0.291379, l1_ratio=0.156304):\n",
      "  RMSE: 0.7888247038145478\n",
      "  MAE: 0.6167503707227076\n",
      "  R2: 0.19632422367272162\n",
      "4 features, reduction of 63.64%\n"
     ]
    },
    {
     "name": "stderr",
     "output_type": "stream",
     "text": [
      "[I 2019-11-21 16:46:01,963] Finished trial#27 resulted in value: 0.7888247038145478. Current best value is 0.7818388905332415 with parameters: {'alpha': 0.10456362926661286, 'l1_ratio': 0.1764986306944264}.\n",
      "[W 2019-11-21 16:46:01,977] The use of `Trial.trial_id` is deprecated. Please use `Trial.number` instead.\n"
     ]
    },
    {
     "name": "stdout",
     "output_type": "stream",
     "text": [
      "Parameters (alpha=0.147848, l1_ratio=0.150321):\n",
      "Elasticnet model (alpha=0.147848, l1_ratio=0.150321):\n",
      "  RMSE: 0.7828683213130995\n",
      "  MAE: 0.6138352054790186\n",
      "  R2: 0.20841544517676225\n",
      "5 features, reduction of 54.55%\n"
     ]
    },
    {
     "name": "stderr",
     "output_type": "stream",
     "text": [
      "[I 2019-11-21 16:46:02,473] Finished trial#28 resulted in value: 0.7828683213130995. Current best value is 0.7818388905332415 with parameters: {'alpha': 0.10456362926661286, 'l1_ratio': 0.1764986306944264}.\n",
      "[W 2019-11-21 16:46:02,487] The use of `Trial.trial_id` is deprecated. Please use `Trial.number` instead.\n"
     ]
    },
    {
     "name": "stdout",
     "output_type": "stream",
     "text": [
      "Parameters (alpha=0.293645, l1_ratio=0.329837):\n",
      "Elasticnet model (alpha=0.293645, l1_ratio=0.329837):\n",
      "  RMSE: 0.7950243070096591\n",
      "  MAE: 0.6196339629007537\n",
      "  R2: 0.18364193765428505\n",
      "4 features, reduction of 63.64%\n"
     ]
    },
    {
     "name": "stderr",
     "output_type": "stream",
     "text": [
      "[I 2019-11-21 16:46:02,978] Finished trial#29 resulted in value: 0.7950243070096591. Current best value is 0.7818388905332415 with parameters: {'alpha': 0.10456362926661286, 'l1_ratio': 0.1764986306944264}.\n",
      "[W 2019-11-21 16:46:02,990] The use of `Trial.trial_id` is deprecated. Please use `Trial.number` instead.\n"
     ]
    },
    {
     "name": "stdout",
     "output_type": "stream",
     "text": [
      "Parameters (alpha=0.227033, l1_ratio=0.190758):\n",
      "Elasticnet model (alpha=0.227033, l1_ratio=0.190758):\n",
      "  RMSE: 0.7869690942964063\n",
      "  MAE: 0.6159864607394328\n",
      "  R2: 0.20010086595183052\n",
      "4 features, reduction of 63.64%\n"
     ]
    },
    {
     "name": "stderr",
     "output_type": "stream",
     "text": [
      "[I 2019-11-21 16:46:03,475] Finished trial#30 resulted in value: 0.7869690942964063. Current best value is 0.7818388905332415 with parameters: {'alpha': 0.10456362926661286, 'l1_ratio': 0.1764986306944264}.\n",
      "[W 2019-11-21 16:46:03,489] The use of `Trial.trial_id` is deprecated. Please use `Trial.number` instead.\n"
     ]
    },
    {
     "name": "stdout",
     "output_type": "stream",
     "text": [
      "Parameters (alpha=0.100991, l1_ratio=0.239666):\n",
      "Elasticnet model (alpha=0.100991, l1_ratio=0.239666):\n",
      "  RMSE: 0.782210689840219\n",
      "  MAE: 0.6135553160891547\n",
      "  R2: 0.20974479330697637\n",
      "5 features, reduction of 54.55%\n"
     ]
    },
    {
     "name": "stderr",
     "output_type": "stream",
     "text": [
      "[I 2019-11-21 16:46:03,975] Finished trial#31 resulted in value: 0.782210689840219. Current best value is 0.7818388905332415 with parameters: {'alpha': 0.10456362926661286, 'l1_ratio': 0.1764986306944264}.\n",
      "[W 2019-11-21 16:46:03,990] The use of `Trial.trial_id` is deprecated. Please use `Trial.number` instead.\n"
     ]
    },
    {
     "name": "stdout",
     "output_type": "stream",
     "text": [
      "Parameters (alpha=0.144096, l1_ratio=0.261882):\n",
      "Elasticnet model (alpha=0.144096, l1_ratio=0.261882):\n",
      "  RMSE: 0.784378804662293\n",
      "  MAE: 0.6148546649565313\n",
      "  R2: 0.20535789708584906\n",
      "5 features, reduction of 54.55%\n"
     ]
    },
    {
     "name": "stderr",
     "output_type": "stream",
     "text": [
      "[I 2019-11-21 16:46:04,481] Finished trial#32 resulted in value: 0.784378804662293. Current best value is 0.7818388905332415 with parameters: {'alpha': 0.10456362926661286, 'l1_ratio': 0.1764986306944264}.\n",
      "[W 2019-11-21 16:46:04,492] The use of `Trial.trial_id` is deprecated. Please use `Trial.number` instead.\n"
     ]
    },
    {
     "name": "stdout",
     "output_type": "stream",
     "text": [
      "Parameters (alpha=0.190431, l1_ratio=0.291714):\n",
      "Elasticnet model (alpha=0.190431, l1_ratio=0.291714):\n",
      "  RMSE: 0.7871649670805416\n",
      "  MAE: 0.6162296539399735\n",
      "  R2: 0.19970263438262603\n",
      "4 features, reduction of 63.64%\n"
     ]
    },
    {
     "name": "stderr",
     "output_type": "stream",
     "text": [
      "[I 2019-11-21 16:46:04,981] Finished trial#33 resulted in value: 0.7871649670805416. Current best value is 0.7818388905332415 with parameters: {'alpha': 0.10456362926661286, 'l1_ratio': 0.1764986306944264}.\n",
      "[W 2019-11-21 16:46:04,994] The use of `Trial.trial_id` is deprecated. Please use `Trial.number` instead.\n"
     ]
    },
    {
     "name": "stdout",
     "output_type": "stream",
     "text": [
      "Parameters (alpha=0.146929, l1_ratio=0.100245):\n",
      "Elasticnet model (alpha=0.146929, l1_ratio=0.100245):\n",
      "  RMSE: 0.7817034255185242\n",
      "  MAE: 0.6129935032231247\n",
      "  R2: 0.2107694233583941\n",
      "6 features, reduction of 45.45%\n"
     ]
    },
    {
     "name": "stderr",
     "output_type": "stream",
     "text": [
      "[I 2019-11-21 16:46:05,480] Finished trial#34 resulted in value: 0.7817034255185242. Current best value is 0.7817034255185242 with parameters: {'alpha': 0.14692853335359343, 'l1_ratio': 0.10024493519776644}.\n",
      "[W 2019-11-21 16:46:05,492] The use of `Trial.trial_id` is deprecated. Please use `Trial.number` instead.\n"
     ]
    },
    {
     "name": "stdout",
     "output_type": "stream",
     "text": [
      "Parameters (alpha=0.177431, l1_ratio=0.101421):\n",
      "Elasticnet model (alpha=0.177431, l1_ratio=0.101421):\n",
      "  RMSE: 0.7830726627932295\n",
      "  MAE: 0.6138683201005272\n",
      "  R2: 0.2080021581261987\n",
      "5 features, reduction of 54.55%\n"
     ]
    },
    {
     "name": "stderr",
     "output_type": "stream",
     "text": [
      "[I 2019-11-21 16:46:05,994] Finished trial#35 resulted in value: 0.7830726627932295. Current best value is 0.7817034255185242 with parameters: {'alpha': 0.14692853335359343, 'l1_ratio': 0.10024493519776644}.\n",
      "[W 2019-11-21 16:46:06,009] The use of `Trial.trial_id` is deprecated. Please use `Trial.number` instead.\n"
     ]
    },
    {
     "name": "stdout",
     "output_type": "stream",
     "text": [
      "Parameters (alpha=0.146895, l1_ratio=0.156081):\n",
      "Elasticnet model (alpha=0.146895, l1_ratio=0.156081):\n",
      "  RMSE: 0.7829113751504718\n",
      "  MAE: 0.6138675365921145\n",
      "  R2: 0.20832837640951918\n",
      "5 features, reduction of 54.55%\n"
     ]
    },
    {
     "name": "stderr",
     "output_type": "stream",
     "text": [
      "[I 2019-11-21 16:46:06,509] Finished trial#36 resulted in value: 0.7829113751504718. Current best value is 0.7817034255185242 with parameters: {'alpha': 0.14692853335359343, 'l1_ratio': 0.10024493519776644}.\n",
      "[W 2019-11-21 16:46:06,525] The use of `Trial.trial_id` is deprecated. Please use `Trial.number` instead.\n"
     ]
    },
    {
     "name": "stdout",
     "output_type": "stream",
     "text": [
      "Parameters (alpha=0.251071, l1_ratio=0.126981):\n",
      "Elasticnet model (alpha=0.251071, l1_ratio=0.126981):\n",
      "  RMSE: 0.7860996784474846\n",
      "  MAE: 0.6154545413851599\n",
      "  R2: 0.20186729067703513\n",
      "5 features, reduction of 54.55%\n"
     ]
    },
    {
     "name": "stderr",
     "output_type": "stream",
     "text": [
      "[I 2019-11-21 16:46:07,010] Finished trial#37 resulted in value: 0.7860996784474846. Current best value is 0.7817034255185242 with parameters: {'alpha': 0.14692853335359343, 'l1_ratio': 0.10024493519776644}.\n",
      "[W 2019-11-21 16:46:07,025] The use of `Trial.trial_id` is deprecated. Please use `Trial.number` instead.\n"
     ]
    },
    {
     "name": "stdout",
     "output_type": "stream",
     "text": [
      "Parameters (alpha=0.199078, l1_ratio=0.197892):\n",
      "Elasticnet model (alpha=0.199078, l1_ratio=0.197892):\n",
      "  RMSE: 0.7858128367650332\n",
      "  MAE: 0.6154772025594029\n",
      "  R2: 0.20244964929296005\n",
      "5 features, reduction of 54.55%\n"
     ]
    },
    {
     "name": "stderr",
     "output_type": "stream",
     "text": [
      "[I 2019-11-21 16:46:07,515] Finished trial#38 resulted in value: 0.7858128367650332. Current best value is 0.7817034255185242 with parameters: {'alpha': 0.14692853335359343, 'l1_ratio': 0.10024493519776644}.\n",
      "[W 2019-11-21 16:46:07,531] The use of `Trial.trial_id` is deprecated. Please use `Trial.number` instead.\n"
     ]
    },
    {
     "name": "stdout",
     "output_type": "stream",
     "text": [
      "Parameters (alpha=0.132520, l1_ratio=0.549703):\n",
      "Elasticnet model (alpha=0.132520, l1_ratio=0.549703):\n",
      "  RMSE: 0.7872905485324166\n",
      "  MAE: 0.6165212332938566\n",
      "  R2: 0.19944726091908938\n",
      "4 features, reduction of 63.64%\n"
     ]
    },
    {
     "name": "stderr",
     "output_type": "stream",
     "text": [
      "[I 2019-11-21 16:46:08,032] Finished trial#39 resulted in value: 0.7872905485324166. Current best value is 0.7817034255185242 with parameters: {'alpha': 0.14692853335359343, 'l1_ratio': 0.10024493519776644}.\n"
     ]
    }
   ],
   "source": [
    "import optuna\n",
    "from datetime import datetime\n",
    "optuna.logging.set_verbosity(optuna.logging.INFO)\n",
    "ts = datetime.now().strftime('%Y%m%dT%H%M%S')\n",
    "# Define an objective function to be minimized.\n",
    "def objective(trial):\n",
    "\n",
    "    suggested_alpha = trial.suggest_uniform('alpha', 0.1, 0.8)\n",
    "    suggested_l1_ratio = trial.suggest_uniform('l1_ratio', 0.1, 0.8)\n",
    "        \n",
    "    error = train_elasticnet(suggested_alpha, suggested_l1_ratio, trial=\"%s_%s\" % (ts,trial.trial_id))\n",
    "    \n",
    "    return error  # A objective value linked with the Trial object.\n",
    "\n",
    "study = optuna.create_study()  # Create a new study.\n",
    "study.optimize(objective, n_trials=40)  #100   # Invoke optimization of the objective function."
   ]
  },
  {
   "cell_type": "code",
   "execution_count": 19,
   "metadata": {},
   "outputs": [
    {
     "data": {
      "text/plain": [
       "{'alpha': 0.14692853335359343, 'l1_ratio': 0.10024493519776644}"
      ]
     },
     "execution_count": 19,
     "metadata": {},
     "output_type": "execute_result"
    }
   ],
   "source": [
    "study.best_params"
   ]
  },
  {
   "cell_type": "code",
   "execution_count": 20,
   "metadata": {
    "scrolled": true
   },
   "outputs": [
    {
     "data": {
      "text/plain": [
       "FrozenTrial(number=34, state=TrialState.COMPLETE, value=0.7817034255185242, datetime_start=datetime.datetime(2019, 11, 21, 16, 46, 4, 985854), datetime_complete=datetime.datetime(2019, 11, 21, 16, 46, 5, 479785), params={'alpha': 0.14692853335359343, 'l1_ratio': 0.10024493519776644}, distributions={'alpha': UniformDistribution(high=0.8, low=0.1), 'l1_ratio': UniformDistribution(high=0.8, low=0.1)}, user_attrs={}, system_attrs={'_number': 34}, intermediate_values={}, trial_id=34)"
      ]
     },
     "execution_count": 20,
     "metadata": {},
     "output_type": "execute_result"
    }
   ],
   "source": [
    "study.best_trial"
   ]
  },
  {
   "cell_type": "markdown",
   "metadata": {},
   "source": [
    "## Identification par tag du best model"
   ]
  },
  {
   "cell_type": "code",
   "execution_count": 21,
   "metadata": {},
   "outputs": [
    {
     "name": "stdout",
     "output_type": "stream",
     "text": [
      "trial_id: 34\n",
      "tag: 20191121T164548_34\n"
     ]
    }
   ],
   "source": [
    "trial_id = study.best_trial.number\n",
    "print(\"trial_id: %s\" % trial_id)\n",
    "tag = \"%s_%s\" % (ts, trial_id)\n",
    "print(\"tag: %s\" % tag)"
   ]
  },
  {
   "cell_type": "code",
   "execution_count": 22,
   "metadata": {
    "scrolled": true
   },
   "outputs": [
    {
     "data": {
      "text/html": [
       "<div>\n",
       "<style scoped>\n",
       "    .dataframe tbody tr th:only-of-type {\n",
       "        vertical-align: middle;\n",
       "    }\n",
       "\n",
       "    .dataframe tbody tr th {\n",
       "        vertical-align: top;\n",
       "    }\n",
       "\n",
       "    .dataframe thead th {\n",
       "        text-align: right;\n",
       "    }\n",
       "</style>\n",
       "<table border=\"1\" class=\"dataframe\">\n",
       "  <thead>\n",
       "    <tr style=\"text-align: right;\">\n",
       "      <th></th>\n",
       "      <th>run_id</th>\n",
       "      <th>experiment_id</th>\n",
       "      <th>status</th>\n",
       "      <th>artifact_uri</th>\n",
       "      <th>start_time</th>\n",
       "      <th>end_time</th>\n",
       "      <th>metrics.mae</th>\n",
       "      <th>metrics.rmse</th>\n",
       "      <th>metrics.r2</th>\n",
       "      <th>params.alpha</th>\n",
       "      <th>params.l1_ratio</th>\n",
       "      <th>tags.mlflow.source.name</th>\n",
       "      <th>tags.mlflow.source.type</th>\n",
       "      <th>tags.algo</th>\n",
       "      <th>tags.trial</th>\n",
       "      <th>tags.mlflow.user</th>\n",
       "    </tr>\n",
       "  </thead>\n",
       "  <tbody>\n",
       "    <tr>\n",
       "      <th>0</th>\n",
       "      <td>5f9e6c70a30242569409540f4e3d7494</td>\n",
       "      <td>9</td>\n",
       "      <td>FINISHED</td>\n",
       "      <td>/opt/mlflow/mlruns/9/5f9e6c70a30242569409540f4...</td>\n",
       "      <td>2019-11-21 16:46:05.002000+00:00</td>\n",
       "      <td>2019-11-21 16:46:05.344000+00:00</td>\n",
       "      <td>0.612994</td>\n",
       "      <td>0.781703</td>\n",
       "      <td>0.210769</td>\n",
       "      <td>0.14692853335359343</td>\n",
       "      <td>0.10024493519776644</td>\n",
       "      <td>/opt/miniconda/envs/demo/lib/python3.7/site-pa...</td>\n",
       "      <td>LOCAL</td>\n",
       "      <td>ElastiNet</td>\n",
       "      <td>20191121T164548_34</td>\n",
       "      <td>ubuntu</td>\n",
       "    </tr>\n",
       "  </tbody>\n",
       "</table>\n",
       "</div>"
      ],
      "text/plain": [
       "                             run_id experiment_id    status  \\\n",
       "0  5f9e6c70a30242569409540f4e3d7494             9  FINISHED   \n",
       "\n",
       "                                        artifact_uri  \\\n",
       "0  /opt/mlflow/mlruns/9/5f9e6c70a30242569409540f4...   \n",
       "\n",
       "                        start_time                         end_time  \\\n",
       "0 2019-11-21 16:46:05.002000+00:00 2019-11-21 16:46:05.344000+00:00   \n",
       "\n",
       "   metrics.mae  metrics.rmse  metrics.r2         params.alpha  \\\n",
       "0     0.612994      0.781703    0.210769  0.14692853335359343   \n",
       "\n",
       "       params.l1_ratio                            tags.mlflow.source.name  \\\n",
       "0  0.10024493519776644  /opt/miniconda/envs/demo/lib/python3.7/site-pa...   \n",
       "\n",
       "  tags.mlflow.source.type  tags.algo          tags.trial tags.mlflow.user  \n",
       "0                   LOCAL  ElastiNet  20191121T164548_34           ubuntu  "
      ]
     },
     "execution_count": 22,
     "metadata": {},
     "output_type": "execute_result"
    }
   ],
   "source": [
    "from mlflow.entities import ViewType\n",
    "query = \"tags.trial = '%s'\" % tag\n",
    "runs = mlflow.search_runs(filter_string=query, run_view_type=ViewType.ACTIVE_ONLY)\n",
    "runs.head(10)"
   ]
  },
  {
   "cell_type": "code",
   "execution_count": 23,
   "metadata": {},
   "outputs": [
    {
     "name": "stdout",
     "output_type": "stream",
     "text": [
      "best model - id: 5f9e6c70a30242569409540f4e3d7494 - uri: /opt/mlflow/mlruns/9/5f9e6c70a30242569409540f4e3d7494/artifacts\n"
     ]
    }
   ],
   "source": [
    "best_model_id = runs['run_id'][0]\n",
    "best_model_uri = runs['artifact_uri'][0]\n",
    "print(\"best model - id: %s - uri: %s\" % (best_model_id, best_model_uri) )"
   ]
  },
  {
   "cell_type": "code",
   "execution_count": 24,
   "metadata": {},
   "outputs": [],
   "source": [
    "from  mlflow.tracking import MlflowClient\n",
    "mlflow_client = MlflowClient()\n",
    "mlflow_client.set_tag(best_model_id, \"best_model\", \"true\")"
   ]
  },
  {
   "cell_type": "code",
   "execution_count": 25,
   "metadata": {},
   "outputs": [
    {
     "data": {
      "text/html": [
       "<div>\n",
       "<style scoped>\n",
       "    .dataframe tbody tr th:only-of-type {\n",
       "        vertical-align: middle;\n",
       "    }\n",
       "\n",
       "    .dataframe tbody tr th {\n",
       "        vertical-align: top;\n",
       "    }\n",
       "\n",
       "    .dataframe thead th {\n",
       "        text-align: right;\n",
       "    }\n",
       "</style>\n",
       "<table border=\"1\" class=\"dataframe\">\n",
       "  <thead>\n",
       "    <tr style=\"text-align: right;\">\n",
       "      <th></th>\n",
       "      <th>run_id</th>\n",
       "      <th>experiment_id</th>\n",
       "      <th>status</th>\n",
       "      <th>artifact_uri</th>\n",
       "      <th>start_time</th>\n",
       "      <th>end_time</th>\n",
       "      <th>metrics.mae</th>\n",
       "      <th>metrics.rmse</th>\n",
       "      <th>metrics.r2</th>\n",
       "      <th>params.alpha</th>\n",
       "      <th>params.l1_ratio</th>\n",
       "      <th>tags.mlflow.source.name</th>\n",
       "      <th>tags.best_model</th>\n",
       "      <th>tags.mlflow.source.type</th>\n",
       "      <th>tags.algo</th>\n",
       "      <th>tags.trial</th>\n",
       "      <th>tags.mlflow.user</th>\n",
       "    </tr>\n",
       "  </thead>\n",
       "  <tbody>\n",
       "    <tr>\n",
       "      <th>0</th>\n",
       "      <td>5f9e6c70a30242569409540f4e3d7494</td>\n",
       "      <td>9</td>\n",
       "      <td>FINISHED</td>\n",
       "      <td>/opt/mlflow/mlruns/9/5f9e6c70a30242569409540f4...</td>\n",
       "      <td>2019-11-21 16:46:05.002000+00:00</td>\n",
       "      <td>2019-11-21 16:46:05.344000+00:00</td>\n",
       "      <td>0.612994</td>\n",
       "      <td>0.781703</td>\n",
       "      <td>0.210769</td>\n",
       "      <td>0.14692853335359343</td>\n",
       "      <td>0.10024493519776644</td>\n",
       "      <td>/opt/miniconda/envs/demo/lib/python3.7/site-pa...</td>\n",
       "      <td>true</td>\n",
       "      <td>LOCAL</td>\n",
       "      <td>ElastiNet</td>\n",
       "      <td>20191121T164548_34</td>\n",
       "      <td>ubuntu</td>\n",
       "    </tr>\n",
       "  </tbody>\n",
       "</table>\n",
       "</div>"
      ],
      "text/plain": [
       "                             run_id experiment_id    status  \\\n",
       "0  5f9e6c70a30242569409540f4e3d7494             9  FINISHED   \n",
       "\n",
       "                                        artifact_uri  \\\n",
       "0  /opt/mlflow/mlruns/9/5f9e6c70a30242569409540f4...   \n",
       "\n",
       "                        start_time                         end_time  \\\n",
       "0 2019-11-21 16:46:05.002000+00:00 2019-11-21 16:46:05.344000+00:00   \n",
       "\n",
       "   metrics.mae  metrics.rmse  metrics.r2         params.alpha  \\\n",
       "0     0.612994      0.781703    0.210769  0.14692853335359343   \n",
       "\n",
       "       params.l1_ratio                            tags.mlflow.source.name  \\\n",
       "0  0.10024493519776644  /opt/miniconda/envs/demo/lib/python3.7/site-pa...   \n",
       "\n",
       "  tags.best_model tags.mlflow.source.type  tags.algo          tags.trial  \\\n",
       "0            true                   LOCAL  ElastiNet  20191121T164548_34   \n",
       "\n",
       "  tags.mlflow.user  \n",
       "0           ubuntu  "
      ]
     },
     "execution_count": 25,
     "metadata": {},
     "output_type": "execute_result"
    }
   ],
   "source": [
    "runs = mlflow.search_runs(filter_string=query, run_view_type=ViewType.ACTIVE_ONLY)\n",
    "runs.head(10)"
   ]
  },
  {
   "cell_type": "code",
   "execution_count": null,
   "metadata": {},
   "outputs": [],
   "source": []
  }
 ],
 "metadata": {
  "kernelspec": {
   "display_name": "Python 3",
   "language": "python",
   "name": "python3"
  },
  "language_info": {
   "codemirror_mode": {
    "name": "ipython",
    "version": 3
   },
   "file_extension": ".py",
   "mimetype": "text/x-python",
   "name": "python",
   "nbconvert_exporter": "python",
   "pygments_lexer": "ipython3",
   "version": "3.7.3"
  }
 },
 "nbformat": 4,
 "nbformat_minor": 2
}
