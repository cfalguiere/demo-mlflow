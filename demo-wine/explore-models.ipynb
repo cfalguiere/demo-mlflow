{
 "cells": [
  {
   "cell_type": "code",
   "execution_count": 1,
   "metadata": {},
   "outputs": [],
   "source": [
    "import os\n",
    "import pickle"
   ]
  },
  {
   "cell_type": "code",
   "execution_count": 10,
   "metadata": {},
   "outputs": [
    {
     "name": "stdout",
     "output_type": "stream",
     "text": [
      "\u001b[01;34m/opt/mlflow/mlruns/\u001b[00m\r\n",
      "└── \u001b[01;34m0\u001b[00m\r\n",
      "    ├── \u001b[01;34m247697a3e2bd440e9caac978e035eee3\u001b[00m\r\n",
      "    │   └── \u001b[01;34martifacts\u001b[00m\r\n",
      "    │       └── \u001b[01;34mmodel\u001b[00m\r\n",
      "    │           ├── MLmodel\r\n",
      "    │           ├── conda.yaml\r\n",
      "    │           └── model.pkl\r\n",
      "    └── \u001b[01;34m3f01477ec36f4d33a900d826e20d0d9d\u001b[00m\r\n",
      "        └── \u001b[01;34martifacts\u001b[00m\r\n",
      "            └── \u001b[01;34mmodel\u001b[00m\r\n",
      "                ├── MLmodel\r\n",
      "                ├── conda.yaml\r\n",
      "                └── model.pkl\r\n",
      "\r\n",
      "7 directories, 6 files\r\n"
     ]
    }
   ],
   "source": [
    "!tree /opt/mlflow/mlruns/"
   ]
  },
  {
   "cell_type": "code",
   "execution_count": 8,
   "metadata": {},
   "outputs": [
    {
     "name": "stdout",
     "output_type": "stream",
     "text": [
      "MLmodel  conda.yaml  model.pkl\r\n"
     ]
    }
   ],
   "source": [
    "!ls /opt/mlflow/mlruns/0/3f01477ec36f4d33a900d826e20d0d9d/artifacts/model/"
   ]
  },
  {
   "cell_type": "code",
   "execution_count": 5,
   "metadata": {},
   "outputs": [],
   "source": [
    "def show_pickle(pickle_file):\n",
    "    objects = []\n",
    "    with (open(pickle_file, \"rb\")) as f:\n",
    "        while True:\n",
    "            try:\n",
    "                objects.append(pickle.load(f))\n",
    "            except EOFError:\n",
    "                break\n",
    "    return objects"
   ]
  },
  {
   "cell_type": "code",
   "execution_count": 7,
   "metadata": {},
   "outputs": [
    {
     "data": {
      "text/plain": [
       "[ElasticNet(alpha=0.5, copy_X=True, fit_intercept=True, l1_ratio=0.5,\n",
       "            max_iter=1000, normalize=False, positive=False, precompute=False,\n",
       "            random_state=42, selection='cyclic', tol=0.0001, warm_start=False)]"
      ]
     },
     "execution_count": 7,
     "metadata": {},
     "output_type": "execute_result"
    }
   ],
   "source": [
    "pickle_file = '/opt/mlflow/mlruns/0/3f01477ec36f4d33a900d826e20d0d9d/artifacts/model/model.pkl'\n",
    "show_pickle(pickle_file)"
   ]
  },
  {
   "cell_type": "code",
   "execution_count": null,
   "metadata": {},
   "outputs": [],
   "source": []
  }
 ],
 "metadata": {
  "kernelspec": {
   "display_name": "Python 3",
   "language": "python",
   "name": "python3"
  },
  "language_info": {
   "codemirror_mode": {
    "name": "ipython",
    "version": 3
   },
   "file_extension": ".py",
   "mimetype": "text/x-python",
   "name": "python",
   "nbconvert_exporter": "python",
   "pygments_lexer": "ipython3",
   "version": "3.7.3"
  }
 },
 "nbformat": 4,
 "nbformat_minor": 2
}
